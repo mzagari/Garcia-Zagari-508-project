{
 "cells": [
  {
   "cell_type": "markdown",
   "metadata": {},
   "source": [
    "## Need to set up a notebook dependencies check section"
   ]
  },
  {
   "cell_type": "code",
   "execution_count": 2,
   "metadata": {},
   "outputs": [
    {
     "name": "stdout",
     "output_type": "stream",
     "text": [
      "+++++++++++++++++++++++++++++++\n",
      "[ERROR] YOU HAVE TO RUN ALL NOTEBOOKS IN THE SETUP FOLDER FIRST. You are missing Setup Dependencies.\n",
      "+++++++++++++++++++++++++++++++\n"
     ]
    }
   ],
   "source": [
    "try:\n",
    "    setup_gcgs_dependencies_passed\n",
    "except NameError:\n",
    "    print(\"+++++++++++++++++++++++++++++++\")\n",
    "    print(\"[ERROR] YOU HAVE TO RUN ALL NOTEBOOKS IN THE SETUP FOLDER FIRST. You are missing Setup Dependencies.\")\n",
    "    print(\"+++++++++++++++++++++++++++++++\")"
   ]
  },
  {
   "cell_type": "markdown",
   "metadata": {},
   "source": [
    "## Import Libraries"
   ]
  },
  {
   "cell_type": "code",
   "execution_count": 3,
   "metadata": {},
   "outputs": [
    {
     "name": "stdout",
     "output_type": "stream",
     "text": [
      "Session(region_name='us-east-1')\n",
      "Session(region_name='us-east-1')\n",
      "us-east-1\n",
      "<sagemaker.session.Session object at 0x7f98af4c7550>\n",
      "my-508-projects\n",
      "<botocore.client.S3 object at 0x7f98ae2537d0>\n"
     ]
    },
    {
     "data": {
      "text/plain": [
       "<botocore.client.S3 at 0x7f98adc90c50>"
      ]
     },
     "execution_count": 3,
     "metadata": {},
     "output_type": "execute_result"
    }
   ],
   "source": [
    "import numpy as np\n",
    "import pandas as pd\n",
    "import matplotlib.pyplot as plt\n",
    "import boto3\n",
    "import boto3.session\n",
    "import sagemaker\n",
    "\n",
    "gcgs_sess = boto3.session.Session() # Create our own session\n",
    "gcgs_sess1 = boto3.Session() # MZ EXPERIMENT\n",
    "gcgs_region = gcgs_sess.region_name\n",
    "gcgs_sm_sess = sagemaker.Session(default_bucket=\"my-508-projects\") # Assigned variable with sagemaker resources available\n",
    "# ASSIGNED NEW DEFAULT BUCKET: \"my-508-projects\"\n",
    "gcgs_bucket = gcgs_sm_sess.default_bucket()\n",
    "\n",
    "s3 = boto3.Session().client(service_name=\"s3\", region_name=gcgs_region)\n",
    "s31 = gcgs_sess.client(service_name=\"s3\", region_name=gcgs_region) # MZ EXPERIMENT\n",
    "\n",
    "print(gcgs_sess)\n",
    "print(gcgs_sess1)\n",
    "print(gcgs_region)\n",
    "print(gcgs_sm_sess)\n",
    "print(gcgs_bucket)\n",
    "print(s3)\n",
    "s31"
   ]
  },
  {
   "cell_type": "markdown",
   "metadata": {},
   "source": [
    "## Model code"
   ]
  },
  {
   "cell_type": "code",
   "execution_count": 4,
   "metadata": {},
   "outputs": [
    {
     "name": "stdout",
     "output_type": "stream",
     "text": [
      "download: s3://my-508-projects/eng_mlcsv/eng_mlcsv2.csv to data_model/eng_mlcsv2.csv\n"
     ]
    }
   ],
   "source": [
    "!aws s3 cp 's3://my-508-projects/eng_mlcsv/eng_mlcsv2.csv' ./data_model/"
   ]
  },
  {
   "cell_type": "code",
   "execution_count": 5,
   "metadata": {},
   "outputs": [
    {
     "data": {
      "text/plain": [
       "(93902, 14)"
      ]
     },
     "execution_count": 5,
     "metadata": {},
     "output_type": "execute_result"
    }
   ],
   "source": [
    "import csv\n",
    "ml = pd.read_csv(\n",
    "    r\"./data_model/eng_mlcsv2.csv\",\n",
    "    engine = 'python',\n",
    "    dtype={'NDC5_4':str}  # Must encode NDC with leading 0s as 'str'\n",
    ")\n",
    "ml.shape"
   ]
  },
  {
   "cell_type": "code",
   "execution_count": 6,
   "metadata": {},
   "outputs": [
    {
     "data": {
      "text/plain": [
       "(91335, 14)"
      ]
     },
     "execution_count": 6,
     "metadata": {},
     "output_type": "execute_result"
    }
   ],
   "source": [
    "ml = ml.dropna()\n",
    "ml.shape"
   ]
  },
  {
   "cell_type": "code",
   "execution_count": 7,
   "metadata": {},
   "outputs": [
    {
     "data": {
      "text/plain": [
       "ptnt_pay_amt           int64\n",
       "total_cost             int64\n",
       "cost_per_day         float64\n",
       "isgeneric            float64\n",
       "TOT_RX_CST_AMT         int64\n",
       "year                   int64\n",
       "bene_sex_ident_cd      int64\n",
       "bene_race_cd           int64\n",
       "age_code               int64\n",
       "esrd                   int64\n",
       "region_code            int64\n",
       "cont_enroll            int64\n",
       "ccnum                  int64\n",
       "high_ben               int64\n",
       "dtype: object"
      ]
     },
     "execution_count": 7,
     "metadata": {},
     "output_type": "execute_result"
    }
   ],
   "source": [
    "ml.dtypes"
   ]
  },
  {
   "cell_type": "code",
   "execution_count": 8,
   "metadata": {},
   "outputs": [
    {
     "data": {
      "text/html": [
       "<div>\n",
       "<style scoped>\n",
       "    .dataframe tbody tr th:only-of-type {\n",
       "        vertical-align: middle;\n",
       "    }\n",
       "\n",
       "    .dataframe tbody tr th {\n",
       "        vertical-align: top;\n",
       "    }\n",
       "\n",
       "    .dataframe thead th {\n",
       "        text-align: right;\n",
       "    }\n",
       "</style>\n",
       "<table border=\"1\" class=\"dataframe\">\n",
       "  <thead>\n",
       "    <tr style=\"text-align: right;\">\n",
       "      <th></th>\n",
       "      <th>ptnt_pay_amt</th>\n",
       "      <th>total_cost</th>\n",
       "      <th>cost_per_day</th>\n",
       "      <th>isgeneric</th>\n",
       "      <th>TOT_RX_CST_AMT</th>\n",
       "      <th>year</th>\n",
       "      <th>bene_sex_ident_cd</th>\n",
       "      <th>bene_race_cd</th>\n",
       "      <th>age_code</th>\n",
       "      <th>esrd</th>\n",
       "      <th>region_code</th>\n",
       "      <th>cont_enroll</th>\n",
       "      <th>ccnum</th>\n",
       "      <th>high_ben</th>\n",
       "    </tr>\n",
       "  </thead>\n",
       "  <tbody>\n",
       "    <tr>\n",
       "      <th>0</th>\n",
       "      <td>0</td>\n",
       "      <td>30</td>\n",
       "      <td>1.500000</td>\n",
       "      <td>1.0</td>\n",
       "      <td>30</td>\n",
       "      <td>2010</td>\n",
       "      <td>2</td>\n",
       "      <td>1</td>\n",
       "      <td>1</td>\n",
       "      <td>0</td>\n",
       "      <td>1</td>\n",
       "      <td>1</td>\n",
       "      <td>0</td>\n",
       "      <td>1</td>\n",
       "    </tr>\n",
       "    <tr>\n",
       "      <th>1</th>\n",
       "      <td>0</td>\n",
       "      <td>30</td>\n",
       "      <td>1.500000</td>\n",
       "      <td>1.0</td>\n",
       "      <td>30</td>\n",
       "      <td>2008</td>\n",
       "      <td>2</td>\n",
       "      <td>1</td>\n",
       "      <td>1</td>\n",
       "      <td>0</td>\n",
       "      <td>1</td>\n",
       "      <td>1</td>\n",
       "      <td>0</td>\n",
       "      <td>1</td>\n",
       "    </tr>\n",
       "    <tr>\n",
       "      <th>2</th>\n",
       "      <td>0</td>\n",
       "      <td>30</td>\n",
       "      <td>1.500000</td>\n",
       "      <td>1.0</td>\n",
       "      <td>30</td>\n",
       "      <td>2009</td>\n",
       "      <td>2</td>\n",
       "      <td>1</td>\n",
       "      <td>1</td>\n",
       "      <td>0</td>\n",
       "      <td>1</td>\n",
       "      <td>1</td>\n",
       "      <td>0</td>\n",
       "      <td>1</td>\n",
       "    </tr>\n",
       "    <tr>\n",
       "      <th>3</th>\n",
       "      <td>10</td>\n",
       "      <td>10</td>\n",
       "      <td>0.333333</td>\n",
       "      <td>1.0</td>\n",
       "      <td>0</td>\n",
       "      <td>2010</td>\n",
       "      <td>2</td>\n",
       "      <td>3</td>\n",
       "      <td>3</td>\n",
       "      <td>1</td>\n",
       "      <td>8</td>\n",
       "      <td>0</td>\n",
       "      <td>0</td>\n",
       "      <td>1</td>\n",
       "    </tr>\n",
       "    <tr>\n",
       "      <th>4</th>\n",
       "      <td>10</td>\n",
       "      <td>10</td>\n",
       "      <td>0.333333</td>\n",
       "      <td>1.0</td>\n",
       "      <td>0</td>\n",
       "      <td>2008</td>\n",
       "      <td>2</td>\n",
       "      <td>3</td>\n",
       "      <td>3</td>\n",
       "      <td>0</td>\n",
       "      <td>8</td>\n",
       "      <td>0</td>\n",
       "      <td>0</td>\n",
       "      <td>1</td>\n",
       "    </tr>\n",
       "  </tbody>\n",
       "</table>\n",
       "</div>"
      ],
      "text/plain": [
       "   ptnt_pay_amt  total_cost  cost_per_day  isgeneric  TOT_RX_CST_AMT  year  \\\n",
       "0             0          30      1.500000        1.0              30  2010   \n",
       "1             0          30      1.500000        1.0              30  2008   \n",
       "2             0          30      1.500000        1.0              30  2009   \n",
       "3            10          10      0.333333        1.0               0  2010   \n",
       "4            10          10      0.333333        1.0               0  2008   \n",
       "\n",
       "   bene_sex_ident_cd  bene_race_cd  age_code  esrd  region_code  cont_enroll  \\\n",
       "0                  2             1         1     0            1            1   \n",
       "1                  2             1         1     0            1            1   \n",
       "2                  2             1         1     0            1            1   \n",
       "3                  2             3         3     1            8            0   \n",
       "4                  2             3         3     0            8            0   \n",
       "\n",
       "   ccnum  high_ben  \n",
       "0      0         1  \n",
       "1      0         1  \n",
       "2      0         1  \n",
       "3      0         1  \n",
       "4      0         1  "
      ]
     },
     "execution_count": 8,
     "metadata": {},
     "output_type": "execute_result"
    }
   ],
   "source": [
    "ml.head(5)"
   ]
  },
  {
   "cell_type": "code",
   "execution_count": 10,
   "metadata": {},
   "outputs": [
    {
     "data": {
      "text/plain": [
       "Text(0, 0.5, 'Generic Count')"
      ]
     },
     "execution_count": 10,
     "metadata": {},
     "output_type": "execute_result"
    },
    {
     "data": {
      "image/png": "[encoded data removed]",
      "text/plain": [
       "<Figure size 432x288 with 1 Axes>"
      ]
     },
     "metadata": {
      "needs_background": "light"
     },
     "output_type": "display_data"
    }
   ],
   "source": [
    "import matplotlib.pyplot as plt\n",
    "\n",
    "%matplotlib inline\n",
    "#%config InlineBackend.figure_format='retina'\n",
    "\n",
    "ml[['isgeneric','year']].groupby('isgeneric').count().plot(kind=\"bar\", title=\"Breakdown by isgeneric\")\n",
    "plt.xlabel(\"isgeneric\")\n",
    "plt.ylabel(\"Generic Count\")"
   ]
  },
  {
   "cell_type": "code",
   "execution_count": 11,
   "metadata": {},
   "outputs": [
    {
     "name": "stdout",
     "output_type": "stream",
     "text": [
      "Shape of balanced dataframe (52872, 14)\n"
     ]
    }
   ],
   "source": [
    "# Balance the dataset down to the minority class\n",
    "ml_grouped_by = ml.groupby([\"isgeneric\"]) \n",
    "ml_balanced = ml_grouped_by.apply(lambda x: x.sample(ml_grouped_by.size().min()).reset_index(drop=True))\n",
    "\n",
    "ml_balanced = ml_balanced.reset_index(drop=True)\n",
    "print(\"Shape of balanced dataframe {}\".format(ml_balanced.shape))"
   ]
  },
  {
   "cell_type": "code",
   "execution_count": 12,
   "metadata": {},
   "outputs": [
    {
     "data": {
      "text/html": [
       "<div>\n",
       "<style scoped>\n",
       "    .dataframe tbody tr th:only-of-type {\n",
       "        vertical-align: middle;\n",
       "    }\n",
       "\n",
       "    .dataframe tbody tr th {\n",
       "        vertical-align: top;\n",
       "    }\n",
       "\n",
       "    .dataframe thead th {\n",
       "        text-align: right;\n",
       "    }\n",
       "</style>\n",
       "<table border=\"1\" class=\"dataframe\">\n",
       "  <thead>\n",
       "    <tr style=\"text-align: right;\">\n",
       "      <th></th>\n",
       "      <th>ptnt_pay_amt</th>\n",
       "      <th>total_cost</th>\n",
       "      <th>cost_per_day</th>\n",
       "      <th>isgeneric</th>\n",
       "      <th>TOT_RX_CST_AMT</th>\n",
       "      <th>year</th>\n",
       "      <th>bene_sex_ident_cd</th>\n",
       "      <th>bene_race_cd</th>\n",
       "      <th>age_code</th>\n",
       "      <th>esrd</th>\n",
       "      <th>region_code</th>\n",
       "      <th>cont_enroll</th>\n",
       "      <th>ccnum</th>\n",
       "      <th>high_ben</th>\n",
       "    </tr>\n",
       "  </thead>\n",
       "  <tbody>\n",
       "    <tr>\n",
       "      <th>0</th>\n",
       "      <td>0</td>\n",
       "      <td>0</td>\n",
       "      <td>0.000000</td>\n",
       "      <td>0.0</td>\n",
       "      <td>0</td>\n",
       "      <td>2010</td>\n",
       "      <td>2</td>\n",
       "      <td>1</td>\n",
       "      <td>3</td>\n",
       "      <td>0</td>\n",
       "      <td>9</td>\n",
       "      <td>0</td>\n",
       "      <td>0</td>\n",
       "      <td>0</td>\n",
       "    </tr>\n",
       "    <tr>\n",
       "      <th>1</th>\n",
       "      <td>0</td>\n",
       "      <td>190</td>\n",
       "      <td>6.333334</td>\n",
       "      <td>0.0</td>\n",
       "      <td>190</td>\n",
       "      <td>2010</td>\n",
       "      <td>2</td>\n",
       "      <td>2</td>\n",
       "      <td>2</td>\n",
       "      <td>0</td>\n",
       "      <td>5</td>\n",
       "      <td>1</td>\n",
       "      <td>0</td>\n",
       "      <td>0</td>\n",
       "    </tr>\n",
       "    <tr>\n",
       "      <th>2</th>\n",
       "      <td>0</td>\n",
       "      <td>10</td>\n",
       "      <td>0.333333</td>\n",
       "      <td>0.0</td>\n",
       "      <td>10</td>\n",
       "      <td>2008</td>\n",
       "      <td>1</td>\n",
       "      <td>1</td>\n",
       "      <td>2</td>\n",
       "      <td>0</td>\n",
       "      <td>3</td>\n",
       "      <td>1</td>\n",
       "      <td>0</td>\n",
       "      <td>0</td>\n",
       "    </tr>\n",
       "    <tr>\n",
       "      <th>3</th>\n",
       "      <td>0</td>\n",
       "      <td>10</td>\n",
       "      <td>0.333333</td>\n",
       "      <td>0.0</td>\n",
       "      <td>10</td>\n",
       "      <td>2009</td>\n",
       "      <td>1</td>\n",
       "      <td>1</td>\n",
       "      <td>4</td>\n",
       "      <td>0</td>\n",
       "      <td>5</td>\n",
       "      <td>0</td>\n",
       "      <td>0</td>\n",
       "      <td>0</td>\n",
       "    </tr>\n",
       "    <tr>\n",
       "      <th>4</th>\n",
       "      <td>30</td>\n",
       "      <td>130</td>\n",
       "      <td>4.333334</td>\n",
       "      <td>0.0</td>\n",
       "      <td>100</td>\n",
       "      <td>2009</td>\n",
       "      <td>2</td>\n",
       "      <td>1</td>\n",
       "      <td>2</td>\n",
       "      <td>0</td>\n",
       "      <td>1</td>\n",
       "      <td>1</td>\n",
       "      <td>0</td>\n",
       "      <td>1</td>\n",
       "    </tr>\n",
       "  </tbody>\n",
       "</table>\n",
       "</div>"
      ],
      "text/plain": [
       "   ptnt_pay_amt  total_cost  cost_per_day  isgeneric  TOT_RX_CST_AMT  year  \\\n",
       "0             0           0      0.000000        0.0               0  2010   \n",
       "1             0         190      6.333334        0.0             190  2010   \n",
       "2             0          10      0.333333        0.0              10  2008   \n",
       "3             0          10      0.333333        0.0              10  2009   \n",
       "4            30         130      4.333334        0.0             100  2009   \n",
       "\n",
       "   bene_sex_ident_cd  bene_race_cd  age_code  esrd  region_code  cont_enroll  \\\n",
       "0                  2             1         3     0            9            0   \n",
       "1                  2             2         2     0            5            1   \n",
       "2                  1             1         2     0            3            1   \n",
       "3                  1             1         4     0            5            0   \n",
       "4                  2             1         2     0            1            1   \n",
       "\n",
       "   ccnum  high_ben  \n",
       "0      0         0  \n",
       "1      0         0  \n",
       "2      0         0  \n",
       "3      0         0  \n",
       "4      0         1  "
      ]
     },
     "execution_count": 12,
     "metadata": {},
     "output_type": "execute_result"
    }
   ],
   "source": [
    "ml_balanced.head(5)"
   ]
  },
  {
   "cell_type": "code",
   "execution_count": 13,
   "metadata": {},
   "outputs": [
    {
     "name": "stdout",
     "output_type": "stream",
     "text": [
      "(37010, 14)\n",
      "(7931, 14)\n"
     ]
    },
    {
     "data": {
      "text/plain": [
       "(7931, 14)"
      ]
     },
     "execution_count": 13,
     "metadata": {},
     "output_type": "execute_result"
    }
   ],
   "source": [
    "from sklearn.model_selection import train_test_split\n",
    "\n",
    "# Split all data into 90% train and 10% holdout\n",
    "ml_train, ml_holdout = train_test_split(ml_balanced, test_size=0.30, stratify=ml_balanced[\"isgeneric\"])\n",
    "\n",
    "# Split holdout data into 50% validation and 50% test\n",
    "ml_validation, ml_test = train_test_split(ml_holdout, test_size=0.50, stratify=ml_holdout[\"isgeneric\"])\n",
    "\n",
    "print(ml_train.shape)\n",
    "print(ml_validation.shape)\n",
    "ml_test.shape"
   ]
  },
  {
   "cell_type": "code",
   "execution_count": 14,
   "metadata": {},
   "outputs": [
    {
     "name": "stdout",
     "output_type": "stream",
     "text": [
      "s3://my-508-projects/eng_model/ml_train.csv\n",
      "2022-03-31 17:23:42    1573855 ml_train.csv\n"
     ]
    }
   ],
   "source": [
    "filepath = \"./data_model/ml_train.csv\"\n",
    "ml_train.to_csv(filepath, index=False, header=True)\n",
    "\n",
    "# COPY CSVs TO S3\n",
    "\n",
    "#import time\n",
    "\n",
    "# The timestamp is for creating a fresh folder.  Disabled here so S3 will write over with newly engineered files.\n",
    "#timestamp = int(time.time())\n",
    "eng_df_s3_uri = gcgs_sm_sess.upload_data(bucket=gcgs_bucket, key_prefix=\"eng_model\", path=filepath)\n",
    "#eng_df_s3_uri = gcgs_sm_sess.upload_data(bucket=gcgs_bucket, key_prefix=\"eng_df-{}\".format(timestamp), path=filepath)\n",
    "print(eng_df_s3_uri)\n",
    "\n",
    "# LIST DATA IN THE NEW S3 LOCATION\n",
    "\n",
    "!aws s3 ls $eng_df_s3_uri"
   ]
  },
  {
   "cell_type": "code",
   "execution_count": null,
   "metadata": {},
   "outputs": [],
   "source": []
  },
  {
   "cell_type": "code",
   "execution_count": null,
   "metadata": {},
   "outputs": [],
   "source": []
  }
 ],
 "metadata": {
  "instance_type": "ml.t3.medium",
  "kernelspec": {
   "display_name": "Python 3 (Data Science)",
   "language": "python",
   "name": "python3__SAGEMAKER_INTERNAL__arn:aws:sagemaker:us-east-1:081325390199:image/datascience-1.0"
  },
  "language_info": {
   "codemirror_mode": {
    "name": "ipython",
    "version": 3
   },
   "file_extension": ".py",
   "mimetype": "text/x-python",
   "name": "python",
   "nbconvert_exporter": "python",
   "pygments_lexer": "ipython3",
   "version": "3.7.10"
  }
 },
 "nbformat": 4,
 "nbformat_minor": 4
}
