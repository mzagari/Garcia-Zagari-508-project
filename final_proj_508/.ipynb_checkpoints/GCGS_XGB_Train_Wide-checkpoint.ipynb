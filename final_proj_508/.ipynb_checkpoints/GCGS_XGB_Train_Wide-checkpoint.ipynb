{
 "cells": [
  {
   "cell_type": "markdown",
   "metadata": {},
   "source": [
    "## Need to set up a notebook dependencies check section"
   ]
  },
  {
   "cell_type": "code",
   "execution_count": 292,
   "metadata": {},
   "outputs": [
    {
     "name": "stdout",
     "output_type": "stream",
     "text": [
      "+++++++++++++++++++++++++++++++\n",
      "[ERROR] YOU HAVE TO RUN ALL NOTEBOOKS IN THE SETUP FOLDER FIRST. You are missing Setup Dependencies.\n",
      "+++++++++++++++++++++++++++++++\n"
     ]
    }
   ],
   "source": [
    "try:\n",
    "    setup_gcgs_dependencies_passed\n",
    "except NameError:\n",
    "    print(\"+++++++++++++++++++++++++++++++\")\n",
    "    print(\"[ERROR] YOU HAVE TO RUN ALL NOTEBOOKS IN THE SETUP FOLDER FIRST. You are missing Setup Dependencies.\")\n",
    "    print(\"+++++++++++++++++++++++++++++++\")"
   ]
  },
  {
   "cell_type": "markdown",
   "metadata": {},
   "source": [
    "## Import Libraries"
   ]
  },
  {
   "cell_type": "code",
   "execution_count": 293,
   "metadata": {},
   "outputs": [
    {
     "name": "stdout",
     "output_type": "stream",
     "text": [
      "Session(region_name='us-east-1')\n",
      "Session(region_name='us-east-1')\n",
      "us-east-1\n",
      "<sagemaker.session.Session object at 0x7f21e0bf1310>\n",
      "my-508-projects2\n",
      "<botocore.client.S3 object at 0x7f21e0a01590>\n"
     ]
    },
    {
     "data": {
      "text/plain": [
       "<botocore.client.S3 at 0x7f21ec778a10>"
      ]
     },
     "execution_count": 293,
     "metadata": {},
     "output_type": "execute_result"
    }
   ],
   "source": [
    "import numpy as np\n",
    "import pandas as pd\n",
    "import matplotlib.pyplot as plt\n",
    "import boto3\n",
    "import boto3.session\n",
    "import sagemaker\n",
    "\n",
    "gcgs_sess = boto3.session.Session() # Create our own session\n",
    "gcgs_sess1 = boto3.Session() # MZ EXPERIMENT\n",
    "gcgs_region = gcgs_sess.region_name\n",
    "gcgs_sm_sess = sagemaker.Session(default_bucket=\"my-508-projects2\") # Assigned variable with sagemaker resources available\n",
    "# ASSIGNED NEW DEFAULT BUCKET: \"my-508-projects2\"\n",
    "gcgs_bucket = gcgs_sm_sess.default_bucket()\n",
    "\n",
    "s3 = boto3.Session().client(service_name=\"s3\", region_name=gcgs_region)\n",
    "s31 = gcgs_sess.client(service_name=\"s3\", region_name=gcgs_region) # MZ EXPERIMENT\n",
    "\n",
    "print(gcgs_sess)\n",
    "print(gcgs_sess1)\n",
    "print(gcgs_region)\n",
    "print(gcgs_sm_sess)\n",
    "print(gcgs_bucket)\n",
    "print(s3)\n",
    "s31"
   ]
  },
  {
   "cell_type": "markdown",
   "metadata": {},
   "source": [
    "## Model code"
   ]
  },
  {
   "cell_type": "code",
   "execution_count": 294,
   "metadata": {},
   "outputs": [
    {
     "name": "stdout",
     "output_type": "stream",
     "text": [
      "download: s3://my-508-projects2/eng_mlcsv/eng_mlcsv2.csv to data_model/eng_mlcsv2.csv\n"
     ]
    }
   ],
   "source": [
    "!aws s3 cp 's3://my-508-projects2/eng_mlcsv/eng_mlcsv2.csv' ./data_model/"
   ]
  },
  {
   "cell_type": "code",
   "execution_count": 295,
   "metadata": {},
   "outputs": [
    {
     "data": {
      "text/plain": [
       "(93780, 17)"
      ]
     },
     "execution_count": 295,
     "metadata": {},
     "output_type": "execute_result"
    }
   ],
   "source": [
    "import csv\n",
    "ml = pd.read_csv(\n",
    "    r\"./data_model/eng_mlcsv2.csv\",\n",
    "    engine = 'python',\n",
    "    dtype={'NDC5_4':str}  # Must encode NDC with leading 0s as 'str'\n",
    ")\n",
    "ml.shape"
   ]
  },
  {
   "cell_type": "code",
   "execution_count": 296,
   "metadata": {},
   "outputs": [
    {
     "data": {
      "text/plain": [
       "(91389, 17)"
      ]
     },
     "execution_count": 296,
     "metadata": {},
     "output_type": "execute_result"
    }
   ],
   "source": [
    "ml = ml.dropna()\n",
    "ml.shape"
   ]
  },
  {
   "cell_type": "code",
   "execution_count": 297,
   "metadata": {},
   "outputs": [
    {
     "data": {
      "text/plain": [
       "PTNT_PAY_AMT           int64\n",
       "TOT_RX_CST_AMT         int64\n",
       "total_cost             int64\n",
       "cost_per_day         float64\n",
       "pt_pay_cat             int64\n",
       "tot_cost_cat           int64\n",
       "cost_per_day_cat       int64\n",
       "isgeneric            float64\n",
       "year                   int64\n",
       "bene_sex_ident_cd      int64\n",
       "bene_race_cd           int64\n",
       "age_code               int64\n",
       "esrd                   int64\n",
       "region_code            int64\n",
       "cont_enroll            int64\n",
       "ccnum                  int64\n",
       "high_ben               int64\n",
       "dtype: object"
      ]
     },
     "execution_count": 297,
     "metadata": {},
     "output_type": "execute_result"
    }
   ],
   "source": [
    "ml.dtypes"
   ]
  },
  {
   "cell_type": "code",
   "execution_count": 298,
   "metadata": {},
   "outputs": [
    {
     "data": {
      "text/html": [
       "<div>\n",
       "<style scoped>\n",
       "    .dataframe tbody tr th:only-of-type {\n",
       "        vertical-align: middle;\n",
       "    }\n",
       "\n",
       "    .dataframe tbody tr th {\n",
       "        vertical-align: top;\n",
       "    }\n",
       "\n",
       "    .dataframe thead th {\n",
       "        text-align: right;\n",
       "    }\n",
       "</style>\n",
       "<table border=\"1\" class=\"dataframe\">\n",
       "  <thead>\n",
       "    <tr style=\"text-align: right;\">\n",
       "      <th></th>\n",
       "      <th>isgeneric</th>\n",
       "      <th>pt_pay_cat</th>\n",
       "      <th>tot_cost_cat</th>\n",
       "      <th>cost_per_day_cat</th>\n",
       "      <th>year</th>\n",
       "      <th>bene_sex_ident_cd</th>\n",
       "      <th>bene_race_cd</th>\n",
       "      <th>age_code</th>\n",
       "      <th>esrd</th>\n",
       "      <th>region_code</th>\n",
       "      <th>cont_enroll</th>\n",
       "      <th>ccnum</th>\n",
       "      <th>high_ben</th>\n",
       "    </tr>\n",
       "  </thead>\n",
       "  <tbody>\n",
       "    <tr>\n",
       "      <th>0</th>\n",
       "      <td>1.0</td>\n",
       "      <td>0</td>\n",
       "      <td>2</td>\n",
       "      <td>1</td>\n",
       "      <td>2009</td>\n",
       "      <td>2</td>\n",
       "      <td>1</td>\n",
       "      <td>3</td>\n",
       "      <td>0</td>\n",
       "      <td>1</td>\n",
       "      <td>0</td>\n",
       "      <td>2</td>\n",
       "      <td>1</td>\n",
       "    </tr>\n",
       "    <tr>\n",
       "      <th>1</th>\n",
       "      <td>0.0</td>\n",
       "      <td>0</td>\n",
       "      <td>3</td>\n",
       "      <td>2</td>\n",
       "      <td>2010</td>\n",
       "      <td>1</td>\n",
       "      <td>1</td>\n",
       "      <td>4</td>\n",
       "      <td>0</td>\n",
       "      <td>8</td>\n",
       "      <td>1</td>\n",
       "      <td>0</td>\n",
       "      <td>0</td>\n",
       "    </tr>\n",
       "    <tr>\n",
       "      <th>2</th>\n",
       "      <td>0.0</td>\n",
       "      <td>0</td>\n",
       "      <td>3</td>\n",
       "      <td>2</td>\n",
       "      <td>2008</td>\n",
       "      <td>1</td>\n",
       "      <td>1</td>\n",
       "      <td>4</td>\n",
       "      <td>0</td>\n",
       "      <td>8</td>\n",
       "      <td>0</td>\n",
       "      <td>0</td>\n",
       "      <td>0</td>\n",
       "    </tr>\n",
       "    <tr>\n",
       "      <th>3</th>\n",
       "      <td>0.0</td>\n",
       "      <td>0</td>\n",
       "      <td>3</td>\n",
       "      <td>2</td>\n",
       "      <td>2009</td>\n",
       "      <td>1</td>\n",
       "      <td>1</td>\n",
       "      <td>4</td>\n",
       "      <td>0</td>\n",
       "      <td>8</td>\n",
       "      <td>1</td>\n",
       "      <td>0</td>\n",
       "      <td>0</td>\n",
       "    </tr>\n",
       "    <tr>\n",
       "      <th>4</th>\n",
       "      <td>0.0</td>\n",
       "      <td>4</td>\n",
       "      <td>5</td>\n",
       "      <td>4</td>\n",
       "      <td>2010</td>\n",
       "      <td>2</td>\n",
       "      <td>2</td>\n",
       "      <td>2</td>\n",
       "      <td>0</td>\n",
       "      <td>1</td>\n",
       "      <td>1</td>\n",
       "      <td>2</td>\n",
       "      <td>1</td>\n",
       "    </tr>\n",
       "  </tbody>\n",
       "</table>\n",
       "</div>"
      ],
      "text/plain": [
       "   isgeneric  pt_pay_cat  tot_cost_cat  cost_per_day_cat  year  \\\n",
       "0        1.0           0             2                 1  2009   \n",
       "1        0.0           0             3                 2  2010   \n",
       "2        0.0           0             3                 2  2008   \n",
       "3        0.0           0             3                 2  2009   \n",
       "4        0.0           4             5                 4  2010   \n",
       "\n",
       "   bene_sex_ident_cd  bene_race_cd  age_code  esrd  region_code  cont_enroll  \\\n",
       "0                  2             1         3     0            1            0   \n",
       "1                  1             1         4     0            8            1   \n",
       "2                  1             1         4     0            8            0   \n",
       "3                  1             1         4     0            8            1   \n",
       "4                  2             2         2     0            1            1   \n",
       "\n",
       "   ccnum  high_ben  \n",
       "0      2         1  \n",
       "1      0         0  \n",
       "2      0         0  \n",
       "3      0         0  \n",
       "4      2         1  "
      ]
     },
     "execution_count": 298,
     "metadata": {},
     "output_type": "execute_result"
    }
   ],
   "source": [
    "#TARGET needs to be first col for XGBoost\n",
    "ml = ml[['isgeneric', 'pt_pay_cat', 'tot_cost_cat', 'cost_per_day_cat',\n",
    "         'year', 'bene_sex_ident_cd', 'bene_race_cd', 'age_code', 'esrd', 'region_code',\n",
    "         'cont_enroll', 'ccnum', 'high_ben']]\n",
    "ml.head(5)"
   ]
  },
  {
   "cell_type": "code",
   "execution_count": 299,
   "metadata": {},
   "outputs": [
    {
     "data": {
      "text/plain": [
       "Text(0, 0.5, 'Generic Count')"
      ]
     },
     "execution_count": 299,
     "metadata": {},
     "output_type": "execute_result"
    },
    {
     "data": {
      "image/png": "[encoded data removed]",
      "text/plain": [
       "<Figure size 432x288 with 1 Axes>"
      ]
     },
     "metadata": {
      "needs_background": "light"
     },
     "output_type": "display_data"
    }
   ],
   "source": [
    "import matplotlib.pyplot as plt\n",
    "\n",
    "%matplotlib inline\n",
    "#%config InlineBackend.figure_format='retina'\n",
    "\n",
    "ml[['isgeneric','year']].groupby('isgeneric').count().plot(kind=\"bar\", title=\"Breakdown by isgeneric\")\n",
    "plt.xlabel(\"isgeneric\")\n",
    "plt.ylabel(\"Generic Count\")"
   ]
  },
  {
   "cell_type": "code",
   "execution_count": 300,
   "metadata": {},
   "outputs": [],
   "source": [
    "#pt_pay_cat             int64 #one hot pt_pay_0...\n",
    "#tot_cost_cat           int64 #one hot pt_pay_0...\n",
    "#cost_per_day_cat       int64 #one hot pt_pay_0...\n",
    "#isgeneric            float64\n",
    "#year                   int64 #one hot pt_pay_0...\n",
    "#bene_sex_ident_cd      int64 #one hot pt_pay_0...\n",
    "#bene_race_cd           int64 #one hot pt_pay_0...\n",
    "#age_code               int64 #one hot pt_pay_0...\n",
    "#esrd                   int64\n",
    "#region_code            int64 #one hot pt_pay_0...\n",
    "#cont_enroll            int64\n",
    "#ccnum                  int64 #one hot pt_pay_0...\n",
    "#high_ben               int64"
   ]
  },
  {
   "cell_type": "markdown",
   "metadata": {},
   "source": [
    "## One Hot Encoding"
   ]
  },
  {
   "cell_type": "code",
   "execution_count": 301,
   "metadata": {},
   "outputs": [
    {
     "name": "stdout",
     "output_type": "stream",
     "text": [
      "/opt/conda/lib/python3.7/site-packages/secretstorage/dhcrypto.py:16: CryptographyDeprecationWarning: int_from_bytes is deprecated, use int.from_bytes instead\n",
      "  from cryptography.utils import int_from_bytes\n",
      "/opt/conda/lib/python3.7/site-packages/secretstorage/util.py:25: CryptographyDeprecationWarning: int_from_bytes is deprecated, use int.from_bytes instead\n",
      "  from cryptography.utils import int_from_bytes\n",
      "\u001b[33mWARNING: Running pip as the 'root' user can result in broken permissions and conflicting behaviour with the system package manager. It is recommended to use a virtual environment instead: https://pip.pypa.io/warnings/venv\u001b[0m\n"
     ]
    }
   ],
   "source": [
    "!pip install --disable-pip-version-check -q sklearn\n",
    "# Had to reinstall after \"not found\" errors.  Rerunning 01_setup_dependencies did not fix the issue."
   ]
  },
  {
   "cell_type": "code",
   "execution_count": 302,
   "metadata": {},
   "outputs": [],
   "source": [
    "from sklearn.preprocessing import OneHotEncoder"
   ]
  },
  {
   "cell_type": "code",
   "execution_count": 303,
   "metadata": {},
   "outputs": [],
   "source": [
    "encoder = OneHotEncoder(handle_unknown='ignore')"
   ]
  },
  {
   "cell_type": "markdown",
   "metadata": {},
   "source": [
    "## Unused code for One Hot endcoding payment and cost data buckets"
   ]
  },
  {
   "cell_type": "raw",
   "metadata": {},
   "source": [
    "#pt_pay_cat             int64 #one hot pt_pay_0...\n",
    "encoder_df = pd.DataFrame(encoder.fit_transform(ml[['pt_pay_cat']]).toarray())\n",
    "encoder_df.head(2)"
   ]
  },
  {
   "cell_type": "raw",
   "metadata": {},
   "source": [
    "encoder_df.columns = ['pt_pay_0', 'pt_pay_1_10', 'pt_pay_11_20', 'pt_pay_21_50', 'pt_pay_51_100', 'pt_pay_over100']\n",
    "print(encoder_df.head(2))\n",
    "ml=ml.join(encoder_df)\n",
    "ml.drop('pt_pay_cat', axis = 1, inplace = True)\n",
    "ml.head(2)"
   ]
  },
  {
   "cell_type": "raw",
   "metadata": {},
   "source": [
    "#cost_per_day_cat       int64 #one hot pt_pay_0...\n",
    "encoder_df = pd.DataFrame(encoder.fit_transform(ml[['cost_per_day_cat']]).toarray())\n",
    "encoder_df.head(2)"
   ]
  },
  {
   "cell_type": "raw",
   "metadata": {},
   "source": [
    "encoder_df.columns = ['cost_day_0', 'cost_day_1', 'cost_day_2', 'cost_day_5', 'cost_day_10', 'cost_day_10plus', 'cost_day_oth']\n",
    "print(encoder_df.head(2))\n",
    "ml=ml.join(encoder_df)\n",
    "ml.drop('cost_per_day_cat', axis = 1, inplace = True)\n",
    "ml.head(2)"
   ]
  },
  {
   "cell_type": "markdown",
   "metadata": {},
   "source": [
    "## One Hot endcoding for year of enrollment"
   ]
  },
  {
   "cell_type": "code",
   "execution_count": 304,
   "metadata": {},
   "outputs": [
    {
     "data": {
      "text/html": [
       "<div>\n",
       "<style scoped>\n",
       "    .dataframe tbody tr th:only-of-type {\n",
       "        vertical-align: middle;\n",
       "    }\n",
       "\n",
       "    .dataframe tbody tr th {\n",
       "        vertical-align: top;\n",
       "    }\n",
       "\n",
       "    .dataframe thead th {\n",
       "        text-align: right;\n",
       "    }\n",
       "</style>\n",
       "<table border=\"1\" class=\"dataframe\">\n",
       "  <thead>\n",
       "    <tr style=\"text-align: right;\">\n",
       "      <th></th>\n",
       "      <th>0</th>\n",
       "      <th>1</th>\n",
       "      <th>2</th>\n",
       "    </tr>\n",
       "  </thead>\n",
       "  <tbody>\n",
       "    <tr>\n",
       "      <th>0</th>\n",
       "      <td>0.0</td>\n",
       "      <td>1.0</td>\n",
       "      <td>0.0</td>\n",
       "    </tr>\n",
       "    <tr>\n",
       "      <th>1</th>\n",
       "      <td>0.0</td>\n",
       "      <td>0.0</td>\n",
       "      <td>1.0</td>\n",
       "    </tr>\n",
       "  </tbody>\n",
       "</table>\n",
       "</div>"
      ],
      "text/plain": [
       "     0    1    2\n",
       "0  0.0  1.0  0.0\n",
       "1  0.0  0.0  1.0"
      ]
     },
     "execution_count": 304,
     "metadata": {},
     "output_type": "execute_result"
    }
   ],
   "source": [
    "#year                   int64 #one hot pt_pay_0...\n",
    "encoder_df = pd.DataFrame(encoder.fit_transform(ml[['year']]).toarray())\n",
    "encoder_df.head(2)"
   ]
  },
  {
   "cell_type": "code",
   "execution_count": 305,
   "metadata": {},
   "outputs": [
    {
     "name": "stdout",
     "output_type": "stream",
     "text": [
      "   2008  2009  2010\n",
      "0   0.0   1.0   0.0\n",
      "1   0.0   0.0   1.0\n"
     ]
    },
    {
     "data": {
      "text/html": [
       "<div>\n",
       "<style scoped>\n",
       "    .dataframe tbody tr th:only-of-type {\n",
       "        vertical-align: middle;\n",
       "    }\n",
       "\n",
       "    .dataframe tbody tr th {\n",
       "        vertical-align: top;\n",
       "    }\n",
       "\n",
       "    .dataframe thead th {\n",
       "        text-align: right;\n",
       "    }\n",
       "</style>\n",
       "<table border=\"1\" class=\"dataframe\">\n",
       "  <thead>\n",
       "    <tr style=\"text-align: right;\">\n",
       "      <th></th>\n",
       "      <th>isgeneric</th>\n",
       "      <th>pt_pay_cat</th>\n",
       "      <th>tot_cost_cat</th>\n",
       "      <th>cost_per_day_cat</th>\n",
       "      <th>bene_sex_ident_cd</th>\n",
       "      <th>bene_race_cd</th>\n",
       "      <th>age_code</th>\n",
       "      <th>esrd</th>\n",
       "      <th>region_code</th>\n",
       "      <th>cont_enroll</th>\n",
       "      <th>ccnum</th>\n",
       "      <th>high_ben</th>\n",
       "      <th>2008</th>\n",
       "      <th>2009</th>\n",
       "      <th>2010</th>\n",
       "    </tr>\n",
       "  </thead>\n",
       "  <tbody>\n",
       "    <tr>\n",
       "      <th>0</th>\n",
       "      <td>1.0</td>\n",
       "      <td>0</td>\n",
       "      <td>2</td>\n",
       "      <td>1</td>\n",
       "      <td>2</td>\n",
       "      <td>1</td>\n",
       "      <td>3</td>\n",
       "      <td>0</td>\n",
       "      <td>1</td>\n",
       "      <td>0</td>\n",
       "      <td>2</td>\n",
       "      <td>1</td>\n",
       "      <td>0.0</td>\n",
       "      <td>1.0</td>\n",
       "      <td>0.0</td>\n",
       "    </tr>\n",
       "    <tr>\n",
       "      <th>1</th>\n",
       "      <td>0.0</td>\n",
       "      <td>0</td>\n",
       "      <td>3</td>\n",
       "      <td>2</td>\n",
       "      <td>1</td>\n",
       "      <td>1</td>\n",
       "      <td>4</td>\n",
       "      <td>0</td>\n",
       "      <td>8</td>\n",
       "      <td>1</td>\n",
       "      <td>0</td>\n",
       "      <td>0</td>\n",
       "      <td>0.0</td>\n",
       "      <td>0.0</td>\n",
       "      <td>1.0</td>\n",
       "    </tr>\n",
       "  </tbody>\n",
       "</table>\n",
       "</div>"
      ],
      "text/plain": [
       "   isgeneric  pt_pay_cat  tot_cost_cat  cost_per_day_cat  bene_sex_ident_cd  \\\n",
       "0        1.0           0             2                 1                  2   \n",
       "1        0.0           0             3                 2                  1   \n",
       "\n",
       "   bene_race_cd  age_code  esrd  region_code  cont_enroll  ccnum  high_ben  \\\n",
       "0             1         3     0            1            0      2         1   \n",
       "1             1         4     0            8            1      0         0   \n",
       "\n",
       "   2008  2009  2010  \n",
       "0   0.0   1.0   0.0  \n",
       "1   0.0   0.0   1.0  "
      ]
     },
     "execution_count": 305,
     "metadata": {},
     "output_type": "execute_result"
    }
   ],
   "source": [
    "encoder_df.columns = ['2008', '2009', '2010']\n",
    "print(encoder_df.head(2))\n",
    "ml=ml.join(encoder_df)\n",
    "ml.drop('year', axis = 1, inplace = True)\n",
    "ml.head(2)"
   ]
  },
  {
   "cell_type": "markdown",
   "metadata": {},
   "source": [
    "## One Hot endcoding for Race"
   ]
  },
  {
   "cell_type": "code",
   "execution_count": 306,
   "metadata": {},
   "outputs": [
    {
     "data": {
      "text/html": [
       "<div>\n",
       "<style scoped>\n",
       "    .dataframe tbody tr th:only-of-type {\n",
       "        vertical-align: middle;\n",
       "    }\n",
       "\n",
       "    .dataframe tbody tr th {\n",
       "        vertical-align: top;\n",
       "    }\n",
       "\n",
       "    .dataframe thead th {\n",
       "        text-align: right;\n",
       "    }\n",
       "</style>\n",
       "<table border=\"1\" class=\"dataframe\">\n",
       "  <thead>\n",
       "    <tr style=\"text-align: right;\">\n",
       "      <th></th>\n",
       "      <th>0</th>\n",
       "      <th>1</th>\n",
       "      <th>2</th>\n",
       "      <th>3</th>\n",
       "    </tr>\n",
       "  </thead>\n",
       "  <tbody>\n",
       "    <tr>\n",
       "      <th>0</th>\n",
       "      <td>1.0</td>\n",
       "      <td>0.0</td>\n",
       "      <td>0.0</td>\n",
       "      <td>0.0</td>\n",
       "    </tr>\n",
       "    <tr>\n",
       "      <th>1</th>\n",
       "      <td>1.0</td>\n",
       "      <td>0.0</td>\n",
       "      <td>0.0</td>\n",
       "      <td>0.0</td>\n",
       "    </tr>\n",
       "  </tbody>\n",
       "</table>\n",
       "</div>"
      ],
      "text/plain": [
       "     0    1    2    3\n",
       "0  1.0  0.0  0.0  0.0\n",
       "1  1.0  0.0  0.0  0.0"
      ]
     },
     "execution_count": 306,
     "metadata": {},
     "output_type": "execute_result"
    }
   ],
   "source": [
    "#bene_race_cd           int64 #one hot pt_pay_0...\n",
    "#0 Missing 1 White, 2 Black, 3 Other, 5 Hispanic\n",
    "encoder_df = pd.DataFrame(encoder.fit_transform(ml[['bene_race_cd']]).toarray())\n",
    "encoder_df.head(2)"
   ]
  },
  {
   "cell_type": "code",
   "execution_count": 307,
   "metadata": {},
   "outputs": [
    {
     "name": "stdout",
     "output_type": "stream",
     "text": [
      "   race_missing  race_white  race_black  race_other\n",
      "0           1.0         0.0         0.0         0.0\n",
      "1           1.0         0.0         0.0         0.0\n"
     ]
    },
    {
     "data": {
      "text/html": [
       "<div>\n",
       "<style scoped>\n",
       "    .dataframe tbody tr th:only-of-type {\n",
       "        vertical-align: middle;\n",
       "    }\n",
       "\n",
       "    .dataframe tbody tr th {\n",
       "        vertical-align: top;\n",
       "    }\n",
       "\n",
       "    .dataframe thead th {\n",
       "        text-align: right;\n",
       "    }\n",
       "</style>\n",
       "<table border=\"1\" class=\"dataframe\">\n",
       "  <thead>\n",
       "    <tr style=\"text-align: right;\">\n",
       "      <th></th>\n",
       "      <th>isgeneric</th>\n",
       "      <th>pt_pay_cat</th>\n",
       "      <th>tot_cost_cat</th>\n",
       "      <th>cost_per_day_cat</th>\n",
       "      <th>bene_sex_ident_cd</th>\n",
       "      <th>age_code</th>\n",
       "      <th>esrd</th>\n",
       "      <th>region_code</th>\n",
       "      <th>cont_enroll</th>\n",
       "      <th>ccnum</th>\n",
       "      <th>high_ben</th>\n",
       "      <th>2008</th>\n",
       "      <th>2009</th>\n",
       "      <th>2010</th>\n",
       "      <th>race_missing</th>\n",
       "      <th>race_white</th>\n",
       "      <th>race_black</th>\n",
       "      <th>race_other</th>\n",
       "    </tr>\n",
       "  </thead>\n",
       "  <tbody>\n",
       "    <tr>\n",
       "      <th>0</th>\n",
       "      <td>1.0</td>\n",
       "      <td>0</td>\n",
       "      <td>2</td>\n",
       "      <td>1</td>\n",
       "      <td>2</td>\n",
       "      <td>3</td>\n",
       "      <td>0</td>\n",
       "      <td>1</td>\n",
       "      <td>0</td>\n",
       "      <td>2</td>\n",
       "      <td>1</td>\n",
       "      <td>0.0</td>\n",
       "      <td>1.0</td>\n",
       "      <td>0.0</td>\n",
       "      <td>1.0</td>\n",
       "      <td>0.0</td>\n",
       "      <td>0.0</td>\n",
       "      <td>0.0</td>\n",
       "    </tr>\n",
       "    <tr>\n",
       "      <th>1</th>\n",
       "      <td>0.0</td>\n",
       "      <td>0</td>\n",
       "      <td>3</td>\n",
       "      <td>2</td>\n",
       "      <td>1</td>\n",
       "      <td>4</td>\n",
       "      <td>0</td>\n",
       "      <td>8</td>\n",
       "      <td>1</td>\n",
       "      <td>0</td>\n",
       "      <td>0</td>\n",
       "      <td>0.0</td>\n",
       "      <td>0.0</td>\n",
       "      <td>1.0</td>\n",
       "      <td>1.0</td>\n",
       "      <td>0.0</td>\n",
       "      <td>0.0</td>\n",
       "      <td>0.0</td>\n",
       "    </tr>\n",
       "  </tbody>\n",
       "</table>\n",
       "</div>"
      ],
      "text/plain": [
       "   isgeneric  pt_pay_cat  tot_cost_cat  cost_per_day_cat  bene_sex_ident_cd  \\\n",
       "0        1.0           0             2                 1                  2   \n",
       "1        0.0           0             3                 2                  1   \n",
       "\n",
       "   age_code  esrd  region_code  cont_enroll  ccnum  high_ben  2008  2009  \\\n",
       "0         3     0            1            0      2         1   0.0   1.0   \n",
       "1         4     0            8            1      0         0   0.0   0.0   \n",
       "\n",
       "   2010  race_missing  race_white  race_black  race_other  \n",
       "0   0.0           1.0         0.0         0.0         0.0  \n",
       "1   1.0           1.0         0.0         0.0         0.0  "
      ]
     },
     "execution_count": 307,
     "metadata": {},
     "output_type": "execute_result"
    }
   ],
   "source": [
    "encoder_df.columns = ['race_missing', 'race_white', 'race_black', 'race_other']\n",
    "print(encoder_df.head(2))\n",
    "ml=ml.join(encoder_df)\n",
    "ml.drop('bene_race_cd', axis = 1, inplace = True)\n",
    "ml.head(2)"
   ]
  },
  {
   "cell_type": "markdown",
   "metadata": {},
   "source": [
    "## Unused code for One Hot endcoding age buckets"
   ]
  },
  {
   "cell_type": "raw",
   "metadata": {},
   "source": [
    "#age_code               int64 #one hot pt_pay_0...\n",
    "encoder_df = pd.DataFrame(encoder.fit_transform(ml[['age_code']]).toarray())\n",
    "encoder_df.head(2)"
   ]
  },
  {
   "cell_type": "raw",
   "metadata": {},
   "source": [
    "encoder_df.columns = ['age_under65', 'age65_74', 'age75_84', 'age85_94', 'age_over94']\n",
    "print(encoder_df.head(2))\n",
    "ml=ml.join(encoder_df)\n",
    "ml.drop('age_code', axis = 1, inplace = True)\n",
    "ml.head(2)"
   ]
  },
  {
   "cell_type": "markdown",
   "metadata": {},
   "source": [
    "## Code for One Hot endcoding Region"
   ]
  },
  {
   "cell_type": "code",
   "execution_count": 308,
   "metadata": {},
   "outputs": [
    {
     "data": {
      "text/html": [
       "<div>\n",
       "<style scoped>\n",
       "    .dataframe tbody tr th:only-of-type {\n",
       "        vertical-align: middle;\n",
       "    }\n",
       "\n",
       "    .dataframe tbody tr th {\n",
       "        vertical-align: top;\n",
       "    }\n",
       "\n",
       "    .dataframe thead th {\n",
       "        text-align: right;\n",
       "    }\n",
       "</style>\n",
       "<table border=\"1\" class=\"dataframe\">\n",
       "  <thead>\n",
       "    <tr style=\"text-align: right;\">\n",
       "      <th></th>\n",
       "      <th>0</th>\n",
       "      <th>1</th>\n",
       "      <th>2</th>\n",
       "      <th>3</th>\n",
       "      <th>4</th>\n",
       "      <th>5</th>\n",
       "      <th>6</th>\n",
       "      <th>7</th>\n",
       "      <th>8</th>\n",
       "    </tr>\n",
       "  </thead>\n",
       "  <tbody>\n",
       "    <tr>\n",
       "      <th>0</th>\n",
       "      <td>1.0</td>\n",
       "      <td>0.0</td>\n",
       "      <td>0.0</td>\n",
       "      <td>0.0</td>\n",
       "      <td>0.0</td>\n",
       "      <td>0.0</td>\n",
       "      <td>0.0</td>\n",
       "      <td>0.0</td>\n",
       "      <td>0.0</td>\n",
       "    </tr>\n",
       "    <tr>\n",
       "      <th>1</th>\n",
       "      <td>0.0</td>\n",
       "      <td>0.0</td>\n",
       "      <td>0.0</td>\n",
       "      <td>0.0</td>\n",
       "      <td>0.0</td>\n",
       "      <td>0.0</td>\n",
       "      <td>0.0</td>\n",
       "      <td>1.0</td>\n",
       "      <td>0.0</td>\n",
       "    </tr>\n",
       "  </tbody>\n",
       "</table>\n",
       "</div>"
      ],
      "text/plain": [
       "     0    1    2    3    4    5    6    7    8\n",
       "0  1.0  0.0  0.0  0.0  0.0  0.0  0.0  0.0  0.0\n",
       "1  0.0  0.0  0.0  0.0  0.0  0.0  0.0  1.0  0.0"
      ]
     },
     "execution_count": 308,
     "metadata": {},
     "output_type": "execute_result"
    }
   ],
   "source": [
    "#region_code            int64 #one hot pt_pay_0...\n",
    "encoder_df = pd.DataFrame(encoder.fit_transform(ml[['region_code']]).toarray())\n",
    "encoder_df.head(2)"
   ]
  },
  {
   "cell_type": "raw",
   "metadata": {},
   "source": [
    "SE 1 MID_ATL 2 NE 3 GRT_LKS 4 PLAINS 5 SW 6 INT_WST 7 PAC_AK_HI 8 OUT_US 9"
   ]
  },
  {
   "cell_type": "code",
   "execution_count": 309,
   "metadata": {},
   "outputs": [
    {
     "name": "stdout",
     "output_type": "stream",
     "text": [
      "    SE  MID_ATL   NE  GRT_LKS  PLAINS   SW  INT_WST  PAC_AK_HI  OUT_US\n",
      "0  1.0      0.0  0.0      0.0     0.0  0.0      0.0        0.0     0.0\n",
      "1  0.0      0.0  0.0      0.0     0.0  0.0      0.0        1.0     0.0\n"
     ]
    },
    {
     "data": {
      "text/html": [
       "<div>\n",
       "<style scoped>\n",
       "    .dataframe tbody tr th:only-of-type {\n",
       "        vertical-align: middle;\n",
       "    }\n",
       "\n",
       "    .dataframe tbody tr th {\n",
       "        vertical-align: top;\n",
       "    }\n",
       "\n",
       "    .dataframe thead th {\n",
       "        text-align: right;\n",
       "    }\n",
       "</style>\n",
       "<table border=\"1\" class=\"dataframe\">\n",
       "  <thead>\n",
       "    <tr style=\"text-align: right;\">\n",
       "      <th></th>\n",
       "      <th>isgeneric</th>\n",
       "      <th>pt_pay_cat</th>\n",
       "      <th>tot_cost_cat</th>\n",
       "      <th>cost_per_day_cat</th>\n",
       "      <th>bene_sex_ident_cd</th>\n",
       "      <th>age_code</th>\n",
       "      <th>esrd</th>\n",
       "      <th>cont_enroll</th>\n",
       "      <th>ccnum</th>\n",
       "      <th>high_ben</th>\n",
       "      <th>...</th>\n",
       "      <th>race_other</th>\n",
       "      <th>SE</th>\n",
       "      <th>MID_ATL</th>\n",
       "      <th>NE</th>\n",
       "      <th>GRT_LKS</th>\n",
       "      <th>PLAINS</th>\n",
       "      <th>SW</th>\n",
       "      <th>INT_WST</th>\n",
       "      <th>PAC_AK_HI</th>\n",
       "      <th>OUT_US</th>\n",
       "    </tr>\n",
       "  </thead>\n",
       "  <tbody>\n",
       "    <tr>\n",
       "      <th>0</th>\n",
       "      <td>1.0</td>\n",
       "      <td>0</td>\n",
       "      <td>2</td>\n",
       "      <td>1</td>\n",
       "      <td>2</td>\n",
       "      <td>3</td>\n",
       "      <td>0</td>\n",
       "      <td>0</td>\n",
       "      <td>2</td>\n",
       "      <td>1</td>\n",
       "      <td>...</td>\n",
       "      <td>0.0</td>\n",
       "      <td>1.0</td>\n",
       "      <td>0.0</td>\n",
       "      <td>0.0</td>\n",
       "      <td>0.0</td>\n",
       "      <td>0.0</td>\n",
       "      <td>0.0</td>\n",
       "      <td>0.0</td>\n",
       "      <td>0.0</td>\n",
       "      <td>0.0</td>\n",
       "    </tr>\n",
       "    <tr>\n",
       "      <th>1</th>\n",
       "      <td>0.0</td>\n",
       "      <td>0</td>\n",
       "      <td>3</td>\n",
       "      <td>2</td>\n",
       "      <td>1</td>\n",
       "      <td>4</td>\n",
       "      <td>0</td>\n",
       "      <td>1</td>\n",
       "      <td>0</td>\n",
       "      <td>0</td>\n",
       "      <td>...</td>\n",
       "      <td>0.0</td>\n",
       "      <td>0.0</td>\n",
       "      <td>0.0</td>\n",
       "      <td>0.0</td>\n",
       "      <td>0.0</td>\n",
       "      <td>0.0</td>\n",
       "      <td>0.0</td>\n",
       "      <td>0.0</td>\n",
       "      <td>1.0</td>\n",
       "      <td>0.0</td>\n",
       "    </tr>\n",
       "  </tbody>\n",
       "</table>\n",
       "<p>2 rows × 26 columns</p>\n",
       "</div>"
      ],
      "text/plain": [
       "   isgeneric  pt_pay_cat  tot_cost_cat  cost_per_day_cat  bene_sex_ident_cd  \\\n",
       "0        1.0           0             2                 1                  2   \n",
       "1        0.0           0             3                 2                  1   \n",
       "\n",
       "   age_code  esrd  cont_enroll  ccnum  high_ben  ...  race_other   SE  \\\n",
       "0         3     0            0      2         1  ...         0.0  1.0   \n",
       "1         4     0            1      0         0  ...         0.0  0.0   \n",
       "\n",
       "   MID_ATL   NE  GRT_LKS  PLAINS   SW  INT_WST  PAC_AK_HI  OUT_US  \n",
       "0      0.0  0.0      0.0     0.0  0.0      0.0        0.0     0.0  \n",
       "1      0.0  0.0      0.0     0.0  0.0      0.0        1.0     0.0  \n",
       "\n",
       "[2 rows x 26 columns]"
      ]
     },
     "execution_count": 309,
     "metadata": {},
     "output_type": "execute_result"
    }
   ],
   "source": [
    "encoder_df.columns = ['SE', 'MID_ATL', 'NE', 'GRT_LKS', 'PLAINS',\n",
    "                      'SW', 'INT_WST', 'PAC_AK_HI', 'OUT_US']\n",
    "print(encoder_df.head(2))\n",
    "ml=ml.join(encoder_df)\n",
    "ml.drop('region_code', axis = 1, inplace = True)\n",
    "ml.head(2)"
   ]
  },
  {
   "cell_type": "markdown",
   "metadata": {},
   "source": [
    "## Unused code for One Hot endcoding chronic condition buckets"
   ]
  },
  {
   "cell_type": "raw",
   "metadata": {},
   "source": [
    "#ccnum                  int64 #one hot pt_pay_0...\n",
    "encoder_df = pd.DataFrame(encoder.fit_transform(ml[['ccnum']]).toarray())\n",
    "encoder_df.head(2)"
   ]
  },
  {
   "cell_type": "raw",
   "metadata": {},
   "source": [
    "encoder_df.columns = ['cc_0', 'cc_1', 'cc_2', 'cc_3', 'cc_4', 'cc_5', 'cc_6',\n",
    "                      'cc_7', 'cc_8', 'cc_9', 'cc_10', 'cc_11']\n",
    "print(encoder_df.head(2))\n",
    "ml=ml.join(encoder_df)\n",
    "ml.drop('ccnum', axis = 1, inplace = True)\n",
    "ml.head(2)"
   ]
  },
  {
   "cell_type": "markdown",
   "metadata": {},
   "source": [
    "## Balance and Split the Data"
   ]
  },
  {
   "cell_type": "code",
   "execution_count": 310,
   "metadata": {},
   "outputs": [
    {
     "name": "stdout",
     "output_type": "stream",
     "text": [
      "Shape of balanced dataframe (53354, 26)\n"
     ]
    }
   ],
   "source": [
    "# Balance the dataset down to the minority class\n",
    "ml_grouped_by = ml.groupby([\"isgeneric\"]) \n",
    "ml_balanced = ml_grouped_by.apply(lambda x: x.sample(ml_grouped_by.size().min()).reset_index(drop=True))\n",
    "\n",
    "ml_balanced = ml_balanced.reset_index(drop=True)\n",
    "print(\"Shape of balanced dataframe {}\".format(ml_balanced.shape))"
   ]
  },
  {
   "cell_type": "code",
   "execution_count": 311,
   "metadata": {},
   "outputs": [
    {
     "data": {
      "text/html": [
       "<div>\n",
       "<style scoped>\n",
       "    .dataframe tbody tr th:only-of-type {\n",
       "        vertical-align: middle;\n",
       "    }\n",
       "\n",
       "    .dataframe tbody tr th {\n",
       "        vertical-align: top;\n",
       "    }\n",
       "\n",
       "    .dataframe thead th {\n",
       "        text-align: right;\n",
       "    }\n",
       "</style>\n",
       "<table border=\"1\" class=\"dataframe\">\n",
       "  <thead>\n",
       "    <tr style=\"text-align: right;\">\n",
       "      <th></th>\n",
       "      <th>isgeneric</th>\n",
       "      <th>pt_pay_cat</th>\n",
       "      <th>tot_cost_cat</th>\n",
       "      <th>cost_per_day_cat</th>\n",
       "      <th>bene_sex_ident_cd</th>\n",
       "      <th>age_code</th>\n",
       "      <th>esrd</th>\n",
       "      <th>cont_enroll</th>\n",
       "      <th>ccnum</th>\n",
       "      <th>high_ben</th>\n",
       "      <th>...</th>\n",
       "      <th>race_other</th>\n",
       "      <th>SE</th>\n",
       "      <th>MID_ATL</th>\n",
       "      <th>NE</th>\n",
       "      <th>GRT_LKS</th>\n",
       "      <th>PLAINS</th>\n",
       "      <th>SW</th>\n",
       "      <th>INT_WST</th>\n",
       "      <th>PAC_AK_HI</th>\n",
       "      <th>OUT_US</th>\n",
       "    </tr>\n",
       "  </thead>\n",
       "  <tbody>\n",
       "    <tr>\n",
       "      <th>0</th>\n",
       "      <td>0.0</td>\n",
       "      <td>0</td>\n",
       "      <td>3</td>\n",
       "      <td>1</td>\n",
       "      <td>2</td>\n",
       "      <td>2</td>\n",
       "      <td>1</td>\n",
       "      <td>0</td>\n",
       "      <td>2</td>\n",
       "      <td>0</td>\n",
       "      <td>...</td>\n",
       "      <td>0.0</td>\n",
       "      <td>0.0</td>\n",
       "      <td>0.0</td>\n",
       "      <td>0.0</td>\n",
       "      <td>1.0</td>\n",
       "      <td>0.0</td>\n",
       "      <td>0.0</td>\n",
       "      <td>0.0</td>\n",
       "      <td>0.0</td>\n",
       "      <td>0.0</td>\n",
       "    </tr>\n",
       "    <tr>\n",
       "      <th>1</th>\n",
       "      <td>0.0</td>\n",
       "      <td>0</td>\n",
       "      <td>2</td>\n",
       "      <td>1</td>\n",
       "      <td>2</td>\n",
       "      <td>4</td>\n",
       "      <td>0</td>\n",
       "      <td>0</td>\n",
       "      <td>3</td>\n",
       "      <td>0</td>\n",
       "      <td>...</td>\n",
       "      <td>0.0</td>\n",
       "      <td>0.0</td>\n",
       "      <td>0.0</td>\n",
       "      <td>0.0</td>\n",
       "      <td>1.0</td>\n",
       "      <td>0.0</td>\n",
       "      <td>0.0</td>\n",
       "      <td>0.0</td>\n",
       "      <td>0.0</td>\n",
       "      <td>0.0</td>\n",
       "    </tr>\n",
       "    <tr>\n",
       "      <th>2</th>\n",
       "      <td>0.0</td>\n",
       "      <td>1</td>\n",
       "      <td>1</td>\n",
       "      <td>1</td>\n",
       "      <td>1</td>\n",
       "      <td>2</td>\n",
       "      <td>0</td>\n",
       "      <td>1</td>\n",
       "      <td>2</td>\n",
       "      <td>0</td>\n",
       "      <td>...</td>\n",
       "      <td>0.0</td>\n",
       "      <td>0.0</td>\n",
       "      <td>0.0</td>\n",
       "      <td>0.0</td>\n",
       "      <td>0.0</td>\n",
       "      <td>0.0</td>\n",
       "      <td>0.0</td>\n",
       "      <td>0.0</td>\n",
       "      <td>1.0</td>\n",
       "      <td>0.0</td>\n",
       "    </tr>\n",
       "    <tr>\n",
       "      <th>3</th>\n",
       "      <td>0.0</td>\n",
       "      <td>0</td>\n",
       "      <td>3</td>\n",
       "      <td>1</td>\n",
       "      <td>1</td>\n",
       "      <td>3</td>\n",
       "      <td>0</td>\n",
       "      <td>1</td>\n",
       "      <td>2</td>\n",
       "      <td>0</td>\n",
       "      <td>...</td>\n",
       "      <td>NaN</td>\n",
       "      <td>NaN</td>\n",
       "      <td>NaN</td>\n",
       "      <td>NaN</td>\n",
       "      <td>NaN</td>\n",
       "      <td>NaN</td>\n",
       "      <td>NaN</td>\n",
       "      <td>NaN</td>\n",
       "      <td>NaN</td>\n",
       "      <td>NaN</td>\n",
       "    </tr>\n",
       "    <tr>\n",
       "      <th>4</th>\n",
       "      <td>0.0</td>\n",
       "      <td>0</td>\n",
       "      <td>5</td>\n",
       "      <td>3</td>\n",
       "      <td>2</td>\n",
       "      <td>3</td>\n",
       "      <td>0</td>\n",
       "      <td>0</td>\n",
       "      <td>3</td>\n",
       "      <td>1</td>\n",
       "      <td>...</td>\n",
       "      <td>0.0</td>\n",
       "      <td>0.0</td>\n",
       "      <td>0.0</td>\n",
       "      <td>0.0</td>\n",
       "      <td>1.0</td>\n",
       "      <td>0.0</td>\n",
       "      <td>0.0</td>\n",
       "      <td>0.0</td>\n",
       "      <td>0.0</td>\n",
       "      <td>0.0</td>\n",
       "    </tr>\n",
       "  </tbody>\n",
       "</table>\n",
       "<p>5 rows × 26 columns</p>\n",
       "</div>"
      ],
      "text/plain": [
       "   isgeneric  pt_pay_cat  tot_cost_cat  cost_per_day_cat  bene_sex_ident_cd  \\\n",
       "0        0.0           0             3                 1                  2   \n",
       "1        0.0           0             2                 1                  2   \n",
       "2        0.0           1             1                 1                  1   \n",
       "3        0.0           0             3                 1                  1   \n",
       "4        0.0           0             5                 3                  2   \n",
       "\n",
       "   age_code  esrd  cont_enroll  ccnum  high_ben  ...  race_other   SE  \\\n",
       "0         2     1            0      2         0  ...         0.0  0.0   \n",
       "1         4     0            0      3         0  ...         0.0  0.0   \n",
       "2         2     0            1      2         0  ...         0.0  0.0   \n",
       "3         3     0            1      2         0  ...         NaN  NaN   \n",
       "4         3     0            0      3         1  ...         0.0  0.0   \n",
       "\n",
       "   MID_ATL   NE  GRT_LKS  PLAINS   SW  INT_WST  PAC_AK_HI  OUT_US  \n",
       "0      0.0  0.0      1.0     0.0  0.0      0.0        0.0     0.0  \n",
       "1      0.0  0.0      1.0     0.0  0.0      0.0        0.0     0.0  \n",
       "2      0.0  0.0      0.0     0.0  0.0      0.0        1.0     0.0  \n",
       "3      NaN  NaN      NaN     NaN  NaN      NaN        NaN     NaN  \n",
       "4      0.0  0.0      1.0     0.0  0.0      0.0        0.0     0.0  \n",
       "\n",
       "[5 rows x 26 columns]"
      ]
     },
     "execution_count": 311,
     "metadata": {},
     "output_type": "execute_result"
    }
   ],
   "source": [
    "ml_balanced.head(5)"
   ]
  },
  {
   "cell_type": "code",
   "execution_count": 312,
   "metadata": {},
   "outputs": [
    {
     "name": "stdout",
     "output_type": "stream",
     "text": [
      "(37347, 26)\n",
      "(8003, 26)\n"
     ]
    },
    {
     "data": {
      "text/plain": [
       "(8004, 26)"
      ]
     },
     "execution_count": 312,
     "metadata": {},
     "output_type": "execute_result"
    }
   ],
   "source": [
    "from sklearn.model_selection import train_test_split\n",
    "\n",
    "# Split all data into 90% train and 10% holdout\n",
    "ml_train, ml_holdout = train_test_split(ml_balanced, test_size=0.30, stratify=ml_balanced[\"isgeneric\"])\n",
    "\n",
    "# Split holdout data into 50% validation and 50% test\n",
    "ml_validation, ml_test = train_test_split(ml_holdout, test_size=0.50, stratify=ml_holdout[\"isgeneric\"])\n",
    "\n",
    "print(ml_train.shape)\n",
    "print(ml_validation.shape)\n",
    "ml_test.shape"
   ]
  },
  {
   "cell_type": "code",
   "execution_count": 313,
   "metadata": {},
   "outputs": [
    {
     "name": "stdout",
     "output_type": "stream",
     "text": [
      "s3://my-508-projects2/eng_model/ml_train.csv\n",
      "s3://my-508-projects2/eng_model/ml_validation.csv\n",
      "s3://my-508-projects2/eng_model/ml_test.csv\n",
      "2022-04-05 02:52:19    3164748 ml_train.csv\n",
      "2022-04-05 02:52:19     676960 ml_validation.csv\n",
      "2022-04-05 02:52:19     678377 ml_test.csv\n"
     ]
    }
   ],
   "source": [
    "filepath1 = \"./data_model/ml_train.csv\"\n",
    "filepath2 = \"./data_model/ml_validation.csv\"\n",
    "filepath3 = \"./data_model/ml_test.csv\"\n",
    "ml_train.to_csv(filepath1, index=False, header=False) # No index or headers for Xgboost algorithm\n",
    "ml_validation.to_csv(filepath2, index=False, header=False)\n",
    "ml_test.to_csv(filepath3, index=False, header=False)\n",
    "\n",
    "# COPY CSVs TO S3\n",
    "\n",
    "#import time\n",
    "\n",
    "# The timestamp is for creating a fresh folder.  Disabled here so S3 will write over with newly engineered files.\n",
    "#timestamp = int(time.time())\n",
    "eng_df1_s3_uri = gcgs_sm_sess.upload_data(bucket=gcgs_bucket, key_prefix=\"eng_model\", path=filepath1)\n",
    "eng_df2_s3_uri = gcgs_sm_sess.upload_data(bucket=gcgs_bucket, key_prefix=\"eng_model\", path=filepath2)\n",
    "eng_df3_s3_uri = gcgs_sm_sess.upload_data(bucket=gcgs_bucket, key_prefix=\"eng_model\", path=filepath3)\n",
    "#eng_df_s3_uri = gcgs_sm_sess.upload_data(bucket=gcgs_bucket, key_prefix=\"eng_df-{}\".format(timestamp), path=filepath)\n",
    "print(eng_df1_s3_uri)\n",
    "print(eng_df2_s3_uri)\n",
    "print(eng_df3_s3_uri)\n",
    "\n",
    "# LIST DATA IN THE NEW S3 LOCATION\n",
    "\n",
    "!aws s3 ls $eng_df1_s3_uri\n",
    "!aws s3 ls $eng_df2_s3_uri\n",
    "!aws s3 ls $eng_df3_s3_uri"
   ]
  },
  {
   "cell_type": "markdown",
   "metadata": {},
   "source": [
    "## Bring back the csv from S3"
   ]
  },
  {
   "cell_type": "code",
   "execution_count": null,
   "metadata": {},
   "outputs": [],
   "source": []
  },
  {
   "cell_type": "markdown",
   "metadata": {},
   "source": [
    "## XGBoost Code that ran in my Personal AWS Account\n",
    "#### base code copied from:  https://docs.aws.amazon.com/sagemaker/latest/dg/xgboost.html"
   ]
  },
  {
   "cell_type": "code",
   "execution_count": 314,
   "metadata": {},
   "outputs": [],
   "source": [
    "#import sagemaker\n",
    "#import boto3\n",
    "#from sagemaker.amazon.amazon_estimator import get_image_uri\n",
    "from sagemaker import image_uris\n",
    "#from sagemaker.session import Session\n",
    "from sagemaker.session import TrainingInput\n",
    "from sagemaker.debugger import Rule, rule_configs\n",
    "from sagemaker.estimator import Estimator\n",
    "        \n",
    "# initialize hyperparameters\n",
    "hyperparameters = {\n",
    "        \"max_depth\":\"5\",   #use auto tune\n",
    "        \"eta\":\"0.2\",  #use auto tune\n",
    "        \"gamma\":\"0\",\n",
    "        \"min_child_weight\":\"6\",   #use auto tune\n",
    "        \"subsample\":\"0.7\",\n",
    "        \"objective\":\"binary:logistic\",\n",
    "        \"num_round\":\"50\"}\n",
    "\n",
    "# set an output path where the trained model will be saved\n",
    "prefix = 'eng_model'\n",
    "output_path = 's3://{}/{}/{}/output'.format(gcgs_bucket, prefix, 'generics-xgb-built-in-algo')\n",
    "\n",
    "# this line automatically looks for the XGBoost image URI and builds an XGBoost container.\n",
    "# specify the repo_version depending on your preference.\n",
    "xgboost_container=sagemaker.image_uris.retrieve(\"xgboost\", gcgs_region, \"1.2-1\")\n",
    "\n",
    "#OLD VERSION xgboost_container = get_image_uri(gcgs_region,\n",
    "#                          'xgboost', \n",
    "#                          repo_version='1.0-1')\n",
    "\n",
    "# construct a SageMaker estimator that calls the xgboost-container\n",
    "estimator = sagemaker.estimator.Estimator(image_uri=xgboost_container,\n",
    "                                          base_job_name=\"XGBGEN\",\n",
    "                                          hyperparameters=hyperparameters,\n",
    "                                          role=sagemaker.get_execution_role(),\n",
    "                                          instance_count=1, \n",
    "                                          instance_type='ml.m5.large', \n",
    "                                          volume_size_in_gb=5, # 5 GB \n",
    "                                          output_path=output_path,\n",
    "                                          sagemaker_session=gcgs_sm_sess,\n",
    "                                          rules=[Rule.sagemaker(rule_configs.create_xgboost_report())])\n",
    "\n",
    "#This is where the XGBoostReport is saved in Amazon S3:\n",
    "#Buckets, my-508-projects2, \n",
    "#eng_model/generics-xgb-built-in-algo/output/XGBGEN-2022-04-04-01-07-24-977/rule-output/CreateXgboostReport/xgboost_report.html\n",
    "\n",
    "# define the data type and paths to the training and validation datasets\n",
    "train_input = TrainingInput(\"s3://{}/{}/{}\".format(gcgs_bucket, prefix, 'ml_train.csv'), content_type='csv')\n",
    "validation_input = TrainingInput(\"s3://{}/{}/{}\".format(gcgs_bucket, prefix, 'ml_validation.csv'), content_type='csv')"
   ]
  },
  {
   "cell_type": "code",
   "execution_count": 315,
   "metadata": {},
   "outputs": [
    {
     "name": "stdout",
     "output_type": "stream",
     "text": [
      "2022-04-05 02:52:21 Starting - Starting the training job...\n",
      "2022-04-05 02:52:45 Starting - Preparing the instances for trainingCreateXgboostReport: InProgress\n",
      "ProfilerReport-1649127141: InProgress\n",
      ".........\n",
      "2022-04-05 02:54:19 Downloading - Downloading input data...\n",
      "2022-04-05 02:54:49 Training - Downloading the training image......\n",
      "2022-04-05 02:55:50 Training - Training image download completed. Training in progress...\u001b[34m[2022-04-05 02:55:54.388 ip-10-0-99-155.ec2.internal:1 INFO utils.py:27] RULE_JOB_STOP_SIGNAL_FILENAME: None\u001b[0m\n",
      "\u001b[34mINFO:sagemaker-containers:Imported framework sagemaker_xgboost_container.training\u001b[0m\n",
      "\u001b[34mINFO:sagemaker-containers:Failed to parse hyperparameter objective value binary:logistic to Json.\u001b[0m\n",
      "\u001b[34mReturning the value itself\u001b[0m\n",
      "\u001b[34mINFO:sagemaker-containers:No GPUs detected (normal if no gpus installed)\u001b[0m\n",
      "\u001b[34mINFO:sagemaker_xgboost_container.training:Running XGBoost Sagemaker in algorithm mode\u001b[0m\n",
      "\u001b[34mINFO:root:Determined delimiter of CSV input is ','\u001b[0m\n",
      "\u001b[34mINFO:root:Determined delimiter of CSV input is ','\u001b[0m\n",
      "\u001b[34mINFO:root:Determined delimiter of CSV input is ','\u001b[0m\n",
      "\u001b[34mINFO:root:Determined delimiter of CSV input is ','\u001b[0m\n",
      "\u001b[34mINFO:root:Single node training.\u001b[0m\n",
      "\u001b[34m[2022-04-05 02:55:54.663 ip-10-0-99-155.ec2.internal:1 INFO json_config.py:91] Creating hook from json_config at /opt/ml/input/config/debughookconfig.json.\u001b[0m\n",
      "\u001b[34m[2022-04-05 02:55:54.663 ip-10-0-99-155.ec2.internal:1 INFO hook.py:199] tensorboard_dir has not been set for the hook. SMDebug will not be exporting tensorboard summaries.\u001b[0m\n",
      "\u001b[34m[2022-04-05 02:55:54.664 ip-10-0-99-155.ec2.internal:1 INFO profiler_config_parser.py:102] User has disabled profiler.\u001b[0m\n",
      "\u001b[34m[2022-04-05 02:55:54.665 ip-10-0-99-155.ec2.internal:1 INFO hook.py:253] Saving to /opt/ml/output/tensors\u001b[0m\n",
      "\u001b[34m[2022-04-05 02:55:54.665 ip-10-0-99-155.ec2.internal:1 INFO state_store.py:77] The checkpoint config file /opt/ml/input/config/checkpointconfig.json does not exist.\u001b[0m\n",
      "\u001b[34mINFO:root:Debug hook created from config\u001b[0m\n",
      "\u001b[34mINFO:root:Train matrix has 37347 rows and 25 columns\u001b[0m\n",
      "\u001b[34mINFO:root:Validation matrix has 8003 rows\u001b[0m\n",
      "\u001b[34m[0]#011train-error:0.41015#011validation-error:0.41147\u001b[0m\n",
      "\u001b[34m[2022-04-05 02:55:54.802 ip-10-0-99-155.ec2.internal:1 INFO hook.py:413] Monitoring the collections: hyperparameters, labels, feature_importance, predictions, metrics\u001b[0m\n",
      "\u001b[34m[2022-04-05 02:55:54.805 ip-10-0-99-155.ec2.internal:1 INFO hook.py:476] Hook is writing from the hook with pid: 1\u001b[0m\n",
      "\u001b[34m[1]#011train-error:0.40750#011validation-error:0.40660\u001b[0m\n",
      "\u001b[34m[2]#011train-error:0.40525#011validation-error:0.40785\u001b[0m\n",
      "\u001b[34m[3]#011train-error:0.40558#011validation-error:0.40885\u001b[0m\n",
      "\u001b[34m[4]#011train-error:0.40399#011validation-error:0.40760\u001b[0m\n",
      "\u001b[34m[5]#011train-error:0.40408#011validation-error:0.40935\u001b[0m\n",
      "\u001b[34m[6]#011train-error:0.40416#011validation-error:0.40910\u001b[0m\n",
      "\u001b[34m[7]#011train-error:0.40351#011validation-error:0.40747\u001b[0m\n",
      "\u001b[34m[8]#011train-error:0.40292#011validation-error:0.40722\u001b[0m\n",
      "\u001b[34m[9]#011train-error:0.40217#011validation-error:0.40747\u001b[0m\n",
      "\u001b[34m[10]#011train-error:0.40239#011validation-error:0.40797\u001b[0m\n",
      "\u001b[34m[11]#011train-error:0.40132#011validation-error:0.40547\u001b[0m\n",
      "\u001b[34m[12]#011train-error:0.40105#011validation-error:0.40535\u001b[0m\n",
      "\u001b[34m[13]#011train-error:0.40100#011validation-error:0.40497\u001b[0m\n",
      "\u001b[34m[14]#011train-error:0.40142#011validation-error:0.40610\u001b[0m\n",
      "\u001b[34m[15]#011train-error:0.40065#011validation-error:0.40472\u001b[0m\n",
      "\u001b[34m[16]#011train-error:0.40006#011validation-error:0.40410\u001b[0m\n",
      "\u001b[34m[17]#011train-error:0.39992#011validation-error:0.40385\u001b[0m\n",
      "\u001b[34m[18]#011train-error:0.39880#011validation-error:0.40485\u001b[0m\n",
      "\u001b[34m[19]#011train-error:0.39749#011validation-error:0.40510\u001b[0m\n",
      "\u001b[34m[20]#011train-error:0.39719#011validation-error:0.40472\u001b[0m\n",
      "\u001b[34m[21]#011train-error:0.39631#011validation-error:0.40472\u001b[0m\n",
      "\u001b[34m[22]#011train-error:0.39612#011validation-error:0.40447\u001b[0m\n",
      "\u001b[34m[23]#011train-error:0.39569#011validation-error:0.40335\u001b[0m\n",
      "\u001b[34m[24]#011train-error:0.39575#011validation-error:0.40422\u001b[0m\n",
      "\u001b[34m[25]#011train-error:0.39494#011validation-error:0.40422\u001b[0m\n",
      "\u001b[34m[26]#011train-error:0.39508#011validation-error:0.40410\u001b[0m\n",
      "\u001b[34m[27]#011train-error:0.39403#011validation-error:0.40222\u001b[0m\n",
      "\u001b[34m[28]#011train-error:0.39393#011validation-error:0.40210\u001b[0m\n",
      "\u001b[34m[29]#011train-error:0.39323#011validation-error:0.40147\u001b[0m\n",
      "\u001b[34m[30]#011train-error:0.39302#011validation-error:0.40285\u001b[0m\n",
      "\u001b[34m[31]#011train-error:0.39267#011validation-error:0.40310\u001b[0m\n",
      "\u001b[34m[32]#011train-error:0.39232#011validation-error:0.40335\u001b[0m\n",
      "\u001b[34m[33]#011train-error:0.39146#011validation-error:0.40410\u001b[0m\n",
      "\u001b[34m[34]#011train-error:0.39106#011validation-error:0.40435\u001b[0m\n",
      "\u001b[34m[35]#011train-error:0.39090#011validation-error:0.40272\u001b[0m\n",
      "\u001b[34m[36]#011train-error:0.39117#011validation-error:0.40285\u001b[0m\n",
      "\u001b[34m[37]#011train-error:0.39090#011validation-error:0.40347\u001b[0m\n",
      "\u001b[34m[38]#011train-error:0.39039#011validation-error:0.40297\u001b[0m\n",
      "\u001b[34m[39]#011train-error:0.39010#011validation-error:0.40272\u001b[0m\n",
      "\u001b[34m[40]#011train-error:0.38988#011validation-error:0.40435\u001b[0m\n",
      "\u001b[34m[41]#011train-error:0.38919#011validation-error:0.40547\u001b[0m\n",
      "\u001b[34m[42]#011train-error:0.38889#011validation-error:0.40572\u001b[0m\n",
      "\u001b[34m[43]#011train-error:0.38737#011validation-error:0.40460\u001b[0m\n",
      "\u001b[34m[44]#011train-error:0.38739#011validation-error:0.40435\u001b[0m\n",
      "\u001b[34m[45]#011train-error:0.38697#011validation-error:0.40460\u001b[0m\n",
      "\u001b[34m[46]#011train-error:0.38573#011validation-error:0.40422\u001b[0m\n",
      "\u001b[34m[47]#011train-error:0.38533#011validation-error:0.40535\u001b[0m\n",
      "\u001b[34m[48]#011train-error:0.38439#011validation-error:0.40422\u001b[0m\n",
      "\u001b[34m[49]#011train-error:0.38474#011validation-error:0.40347\u001b[0m\n",
      "\n",
      "2022-04-05 02:56:22 Uploading - Uploading generated training model\n",
      "2022-04-05 02:56:22 Completed - Training job completed\n",
      "Training seconds: 148\n",
      "Billable seconds: 148\n"
     ]
    }
   ],
   "source": [
    "# execute the XGBoost training job\n",
    "estimator.fit({'train': train_input, 'validation': validation_input})"
   ]
  },
  {
   "cell_type": "code",
   "execution_count": 316,
   "metadata": {},
   "outputs": [
    {
     "name": "stdout",
     "output_type": "stream",
     "text": [
      "s3://my-508-projects2/eng_model/generics-xgb-built-in-algo/output/XGBGEN-2022-04-05-02-52-21-616/rule-output\n"
     ]
    }
   ],
   "source": [
    "rule_output_path = estimator.output_path + \"/\" + estimator.latest_training_job.name + \"/rule-output\"\n",
    "print(rule_output_path)"
   ]
  },
  {
   "cell_type": "code",
   "execution_count": 317,
   "metadata": {},
   "outputs": [],
   "source": [
    "! aws s3 ls {rule_output_path} --recursive"
   ]
  },
  {
   "cell_type": "code",
   "execution_count": 318,
   "metadata": {},
   "outputs": [],
   "source": [
    "! aws s3 cp {rule_output_path} ./ --recursive"
   ]
  },
  {
   "cell_type": "code",
   "execution_count": 319,
   "metadata": {},
   "outputs": [
    {
     "data": {
      "text/plain": [
       "'Click link below to view the XGBoost Training report'"
      ]
     },
     "metadata": {},
     "output_type": "display_data"
    },
    {
     "data": {
      "text/html": [
       "<a href='CreateXgboostReport/xgboost_report.html' target='_blank'>CreateXgboostReport/xgboost_report.html</a><br>"
      ],
      "text/plain": [
       "/root/Garcia-Zagari-508-project/final_proj_508/CreateXgboostReport/xgboost_report.html"
      ]
     },
     "metadata": {},
     "output_type": "display_data"
    }
   ],
   "source": [
    "from IPython.display import FileLink, FileLinks\n",
    "display(\"Click link below to view the XGBoost Training report\", FileLink(\"CreateXgboostReport/xgboost_report.html\"))"
   ]
  },
  {
   "cell_type": "code",
   "execution_count": 320,
   "metadata": {},
   "outputs": [
    {
     "data": {
      "text/plain": [
       "'Click link below to view the profiler report'"
      ]
     },
     "metadata": {},
     "output_type": "display_data"
    },
    {
     "data": {
      "text/html": [
       "Path (<tt>ProfilerReport-1649127141/profiler-output/profiler-report.html</tt>) doesn't exist. It may still be in the process of being generated, or you may have the incorrect path."
      ],
      "text/plain": [
       "/root/Garcia-Zagari-508-project/final_proj_508/ProfilerReport-1649127141/profiler-output/profiler-report.html"
      ]
     },
     "metadata": {},
     "output_type": "display_data"
    }
   ],
   "source": [
    "profiler_report_name = [rule[\"RuleConfigurationName\"] \n",
    "                        for rule in estimator.latest_training_job.rule_job_summary() \n",
    "                        if \"Profiler\" in rule[\"RuleConfigurationName\"]][0]\n",
    "profiler_report_name\n",
    "display(\"Click link below to view the profiler report\", FileLink(profiler_report_name+\"/profiler-output/profiler-report.html\"))"
   ]
  },
  {
   "cell_type": "code",
   "execution_count": 321,
   "metadata": {},
   "outputs": [
    {
     "data": {
      "text/plain": [
       "'s3://my-508-projects2/eng_model/generics-xgb-built-in-algo/output/XGBGEN-2022-04-05-02-52-21-616/output/model.tar.gz'"
      ]
     },
     "execution_count": 321,
     "metadata": {},
     "output_type": "execute_result"
    }
   ],
   "source": [
    "estimator.model_data"
   ]
  },
  {
   "cell_type": "markdown",
   "metadata": {},
   "source": [
    "## Hyperparameter Tuning"
   ]
  },
  {
   "cell_type": "code",
   "execution_count": 322,
   "metadata": {},
   "outputs": [],
   "source": [
    "from sagemaker.tuner import (\n",
    "    IntegerParameter,\n",
    "    CategoricalParameter,\n",
    "    ContinuousParameter,\n",
    "    HyperparameterTuner,\n",
    ")"
   ]
  },
  {
   "cell_type": "code",
   "execution_count": 323,
   "metadata": {},
   "outputs": [],
   "source": [
    "# construct a SageMaker estimator that calls the xgboost-container\n",
    "xgb_ran = sagemaker.estimator.Estimator(image_uri=xgboost_container,\n",
    "                                          base_job_name=\"XGB-RAND-HYP\",\n",
    "                                          hyperparameters=hyperparameters,\n",
    "                                          role=sagemaker.get_execution_role(),\n",
    "                                          instance_count=1, \n",
    "                                          instance_type='ml.m5.large', \n",
    "                                          volume_size_in_gb=5, # 5 GB \n",
    "                                          output_path=output_path,\n",
    "                                          sagemaker_session=gcgs_sm_sess)\n",
    "#                                          rules=[Rule.sagemaker(rule_configs.create_xgboost_report())])"
   ]
  },
  {
   "cell_type": "code",
   "execution_count": 324,
   "metadata": {},
   "outputs": [],
   "source": [
    "xgb_ran.set_hyperparameters(\n",
    "    eval_metric=\"auc\",\n",
    "    objective=\"binary:logistic\",\n",
    "    num_round=10,\n",
    "    rate_drop=0.3,\n",
    "    tweedie_variance_power=1.4,\n",
    ")\n",
    "objective_metric_name = \"validation:auc\""
   ]
  },
  {
   "cell_type": "code",
   "execution_count": 325,
   "metadata": {},
   "outputs": [],
   "source": [
    "hyperparameter_ranges = {\n",
    "    \"alpha\": ContinuousParameter(0.01, 10, scaling_type=\"Logarithmic\"),\n",
    "    \"lambda\": ContinuousParameter(0.01, 10, scaling_type=\"Logarithmic\"),\n",
    "}"
   ]
  },
  {
   "cell_type": "code",
   "execution_count": 327,
   "metadata": {},
   "outputs": [
    {
     "name": "stdout",
     "output_type": "stream",
     "text": [
      "................................................................!\n"
     ]
    }
   ],
   "source": [
    "tuner_log = HyperparameterTuner(\n",
    "    xgb_ran,\n",
    "    objective_metric_name,\n",
    "    hyperparameter_ranges,\n",
    "    max_jobs=5,\n",
    "    max_parallel_jobs=5,\n",
    "    strategy=\"Random\"\n",
    ")\n",
    "\n",
    "tuner_log.fit(\n",
    "    {\"train\": train_input, \"validation\": validation_input},\n",
    "    include_cls_metadata=False,\n",
    "#    job_name=\"xgb-randsearch1\"\n",
    ")"
   ]
  },
  {
   "cell_type": "code",
   "execution_count": 328,
   "metadata": {},
   "outputs": [
    {
     "data": {
      "text/plain": [
       "'Completed'"
      ]
     },
     "execution_count": 328,
     "metadata": {},
     "output_type": "execute_result"
    }
   ],
   "source": [
    "boto3.client(\"sagemaker\").describe_hyper_parameter_tuning_job(\n",
    "    HyperParameterTuningJobName=tuner_log.latest_tuning_job.job_name\n",
    ")[\"HyperParameterTuningJobStatus\"]"
   ]
  },
  {
   "cell_type": "code",
   "execution_count": null,
   "metadata": {},
   "outputs": [],
   "source": []
  }
 ],
 "metadata": {
  "instance_type": "ml.t3.medium",
  "kernelspec": {
   "display_name": "Python 3 (Data Science)",
   "language": "python",
   "name": "python3__SAGEMAKER_INTERNAL__arn:aws:sagemaker:us-east-1:081325390199:image/datascience-1.0"
  },
  "language_info": {
   "codemirror_mode": {
    "name": "ipython",
    "version": 3
   },
   "file_extension": ".py",
   "mimetype": "text/x-python",
   "name": "python",
   "nbconvert_exporter": "python",
   "pygments_lexer": "ipython3",
   "version": "3.7.10"
  }
 },
 "nbformat": 4,
 "nbformat_minor": 4
}
