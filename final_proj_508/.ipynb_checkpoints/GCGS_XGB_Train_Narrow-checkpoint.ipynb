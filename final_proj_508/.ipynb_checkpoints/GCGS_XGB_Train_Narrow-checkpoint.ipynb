{
 "cells": [
  {
   "cell_type": "markdown",
   "metadata": {},
   "source": [
    "## Set up a notebook dependencies check section? (Seems OK simply calling the S3 csv file from preprocessing)"
   ]
  },
  {
   "cell_type": "markdown",
   "metadata": {},
   "source": [
    "## Import Libraries"
   ]
  },
  {
   "cell_type": "code",
   "execution_count": 411,
   "metadata": {},
   "outputs": [
    {
     "name": "stdout",
     "output_type": "stream",
     "text": [
      "Session(region_name='us-east-1')\n",
      "Session(region_name='us-east-1')\n",
      "us-east-1\n",
      "<sagemaker.session.Session object at 0x7f21d70850d0>\n",
      "my-508-projects2\n",
      "<botocore.client.S3 object at 0x7f21d9254690>\n"
     ]
    },
    {
     "data": {
      "text/plain": [
       "<botocore.client.S3 at 0x7f21ec38aa10>"
      ]
     },
     "execution_count": 411,
     "metadata": {},
     "output_type": "execute_result"
    }
   ],
   "source": [
    "import numpy as np\n",
    "import pandas as pd\n",
    "import matplotlib.pyplot as plt\n",
    "import boto3\n",
    "import boto3.session\n",
    "import sagemaker\n",
    "\n",
    "gcgs_sess = boto3.session.Session() # Create our own session\n",
    "gcgs_sess1 = boto3.Session() # MZ EXPERIMENT\n",
    "gcgs_region = gcgs_sess.region_name\n",
    "gcgs_sm_sess = sagemaker.Session(default_bucket=\"my-508-projects2\") # Assigned variable with sagemaker resources available\n",
    "# ASSIGNED NEW DEFAULT BUCKET: \"my-508-projects2\"\n",
    "gcgs_bucket = gcgs_sm_sess.default_bucket()\n",
    "\n",
    "s3 = boto3.Session().client(service_name=\"s3\", region_name=gcgs_region)\n",
    "s31 = gcgs_sess.client(service_name=\"s3\", region_name=gcgs_region) # MZ EXPERIMENT\n",
    "\n",
    "print(gcgs_sess)\n",
    "print(gcgs_sess1)\n",
    "print(gcgs_region)\n",
    "print(gcgs_sm_sess)\n",
    "print(gcgs_bucket)\n",
    "print(s3)\n",
    "s31"
   ]
  },
  {
   "cell_type": "markdown",
   "metadata": {},
   "source": [
    "## Call the csv file stored in S3"
   ]
  },
  {
   "cell_type": "code",
   "execution_count": 412,
   "metadata": {},
   "outputs": [
    {
     "name": "stdout",
     "output_type": "stream",
     "text": [
      "download: s3://my-508-projects2/eng_mlcsv/eng_mlcsv2.csv to data_model/eng_mlcsv2.csv\n"
     ]
    }
   ],
   "source": [
    "!aws s3 cp 's3://my-508-projects2/eng_mlcsv/eng_mlcsv2.csv' ./data_model/"
   ]
  },
  {
   "cell_type": "code",
   "execution_count": 413,
   "metadata": {},
   "outputs": [
    {
     "data": {
      "text/plain": [
       "(93780, 17)"
      ]
     },
     "execution_count": 413,
     "metadata": {},
     "output_type": "execute_result"
    }
   ],
   "source": [
    "import csv\n",
    "ml = pd.read_csv(\n",
    "    r\"./data_model/eng_mlcsv2.csv\",\n",
    "    engine = 'python',\n",
    "    dtype={'NDC5_4':str}  # Must encode NDC with leading 0s as 'str'\n",
    ")\n",
    "ml.shape"
   ]
  },
  {
   "cell_type": "code",
   "execution_count": 414,
   "metadata": {},
   "outputs": [
    {
     "data": {
      "text/plain": [
       "(91389, 17)"
      ]
     },
     "execution_count": 414,
     "metadata": {},
     "output_type": "execute_result"
    }
   ],
   "source": [
    "ml = ml.dropna()\n",
    "ml.shape"
   ]
  },
  {
   "cell_type": "code",
   "execution_count": 415,
   "metadata": {},
   "outputs": [
    {
     "data": {
      "text/plain": [
       "PTNT_PAY_AMT           int64\n",
       "TOT_RX_CST_AMT         int64\n",
       "total_cost             int64\n",
       "cost_per_day         float64\n",
       "pt_pay_cat             int64\n",
       "tot_cost_cat           int64\n",
       "cost_per_day_cat       int64\n",
       "isgeneric            float64\n",
       "year                   int64\n",
       "bene_sex_ident_cd      int64\n",
       "bene_race_cd           int64\n",
       "age_code               int64\n",
       "esrd                   int64\n",
       "region_code            int64\n",
       "cont_enroll            int64\n",
       "ccnum                  int64\n",
       "high_ben               int64\n",
       "dtype: object"
      ]
     },
     "execution_count": 415,
     "metadata": {},
     "output_type": "execute_result"
    }
   ],
   "source": [
    "ml.dtypes"
   ]
  },
  {
   "cell_type": "markdown",
   "metadata": {},
   "source": [
    "## Create a simple df with limited features"
   ]
  },
  {
   "cell_type": "code",
   "execution_count": 416,
   "metadata": {},
   "outputs": [
    {
     "name": "stdout",
     "output_type": "stream",
     "text": [
      "                isgeneric  TOT_RX_CST_AMT  total_cost  cost_per_day  high_ben  \\\n",
      "isgeneric        1.000000       -0.156538   -0.162560     -0.126852 -0.006690   \n",
      "TOT_RX_CST_AMT  -0.156538        1.000000    0.973043      0.850287  0.042938   \n",
      "total_cost      -0.162560        0.973043    1.000000      0.867950  0.043540   \n",
      "cost_per_day    -0.126852        0.850287    0.867950      1.000000  0.047856   \n",
      "high_ben        -0.006690        0.042938    0.043540      0.047856  1.000000   \n",
      "esrd            -0.005303        0.029360    0.027534      0.026926  0.250667   \n",
      "age_code         0.006078        0.007278    0.008805      0.006087  0.024994   \n",
      "\n",
      "                    esrd  age_code  \n",
      "isgeneric      -0.005303  0.006078  \n",
      "TOT_RX_CST_AMT  0.029360  0.007278  \n",
      "total_cost      0.027534  0.008805  \n",
      "cost_per_day    0.026926  0.006087  \n",
      "high_ben        0.250667  0.024994  \n",
      "esrd            1.000000  0.018221  \n",
      "age_code        0.018221  1.000000  \n"
     ]
    },
    {
     "data": {
      "text/html": [
       "<div>\n",
       "<style scoped>\n",
       "    .dataframe tbody tr th:only-of-type {\n",
       "        vertical-align: middle;\n",
       "    }\n",
       "\n",
       "    .dataframe tbody tr th {\n",
       "        vertical-align: top;\n",
       "    }\n",
       "\n",
       "    .dataframe thead th {\n",
       "        text-align: right;\n",
       "    }\n",
       "</style>\n",
       "<table border=\"1\" class=\"dataframe\">\n",
       "  <thead>\n",
       "    <tr style=\"text-align: right;\">\n",
       "      <th></th>\n",
       "      <th>isgeneric</th>\n",
       "      <th>TOT_RX_CST_AMT</th>\n",
       "      <th>total_cost</th>\n",
       "      <th>cost_per_day</th>\n",
       "      <th>high_ben</th>\n",
       "      <th>esrd</th>\n",
       "      <th>age_code</th>\n",
       "    </tr>\n",
       "  </thead>\n",
       "  <tbody>\n",
       "    <tr>\n",
       "      <th>0</th>\n",
       "      <td>1.0</td>\n",
       "      <td>20</td>\n",
       "      <td>20</td>\n",
       "      <td>0.0</td>\n",
       "      <td>1</td>\n",
       "      <td>0</td>\n",
       "      <td>3</td>\n",
       "    </tr>\n",
       "    <tr>\n",
       "      <th>1</th>\n",
       "      <td>0.0</td>\n",
       "      <td>40</td>\n",
       "      <td>40</td>\n",
       "      <td>1.0</td>\n",
       "      <td>0</td>\n",
       "      <td>0</td>\n",
       "      <td>4</td>\n",
       "    </tr>\n",
       "    <tr>\n",
       "      <th>2</th>\n",
       "      <td>0.0</td>\n",
       "      <td>40</td>\n",
       "      <td>40</td>\n",
       "      <td>1.0</td>\n",
       "      <td>0</td>\n",
       "      <td>0</td>\n",
       "      <td>4</td>\n",
       "    </tr>\n",
       "    <tr>\n",
       "      <th>3</th>\n",
       "      <td>0.0</td>\n",
       "      <td>40</td>\n",
       "      <td>40</td>\n",
       "      <td>1.0</td>\n",
       "      <td>0</td>\n",
       "      <td>0</td>\n",
       "      <td>4</td>\n",
       "    </tr>\n",
       "    <tr>\n",
       "      <th>4</th>\n",
       "      <td>0.0</td>\n",
       "      <td>110</td>\n",
       "      <td>170</td>\n",
       "      <td>5.0</td>\n",
       "      <td>1</td>\n",
       "      <td>0</td>\n",
       "      <td>2</td>\n",
       "    </tr>\n",
       "  </tbody>\n",
       "</table>\n",
       "</div>"
      ],
      "text/plain": [
       "   isgeneric  TOT_RX_CST_AMT  total_cost  cost_per_day  high_ben  esrd  \\\n",
       "0        1.0              20          20           0.0         1     0   \n",
       "1        0.0              40          40           1.0         0     0   \n",
       "2        0.0              40          40           1.0         0     0   \n",
       "3        0.0              40          40           1.0         0     0   \n",
       "4        0.0             110         170           5.0         1     0   \n",
       "\n",
       "   age_code  \n",
       "0         3  \n",
       "1         4  \n",
       "2         4  \n",
       "3         4  \n",
       "4         2  "
      ]
     },
     "execution_count": 416,
     "metadata": {},
     "output_type": "execute_result"
    }
   ],
   "source": [
    "#TARGET needs to be first col for XGBoost\n",
    "ml = ml[['isgeneric', 'total_cost', 'high_ben']]\n",
    "print(ml.corr())\n",
    "ml.head(5)"
   ]
  },
  {
   "cell_type": "code",
   "execution_count": 371,
   "metadata": {},
   "outputs": [
    {
     "data": {
      "text/plain": [
       "Text(0, 0.5, 'Generic Count')"
      ]
     },
     "execution_count": 371,
     "metadata": {},
     "output_type": "execute_result"
    },
    {
     "data": {
      "image/png": "[encoded data removed]",
      "text/plain": [
       "<Figure size 432x288 with 1 Axes>"
      ]
     },
     "metadata": {
      "needs_background": "light"
     },
     "output_type": "display_data"
    }
   ],
   "source": [
    "import matplotlib.pyplot as plt\n",
    "\n",
    "%matplotlib inline\n",
    "#%config InlineBackend.figure_format='retina'\n",
    "\n",
    "ml[['isgeneric','total_cost']].groupby('isgeneric').count().plot(kind=\"bar\", title=\"Breakdown by isgeneric\")\n",
    "plt.xlabel(\"isgeneric\")\n",
    "plt.ylabel(\"Generic Count\")"
   ]
  },
  {
   "cell_type": "code",
   "execution_count": 372,
   "metadata": {},
   "outputs": [],
   "source": [
    "#pt_pay_cat             int64 #one hot pt_pay_0...\n",
    "#tot_cost_cat           int64 #one hot pt_pay_0...\n",
    "#cost_per_day_cat       int64 #one hot pt_pay_0...\n",
    "#isgeneric            float64\n",
    "#year                   int64 #one hot pt_pay_0...\n",
    "#bene_sex_ident_cd      int64 #one hot pt_pay_0...\n",
    "#bene_race_cd           int64 #one hot pt_pay_0...\n",
    "#age_code               int64 #one hot pt_pay_0...\n",
    "#esrd                   int64\n",
    "#region_code            int64 #one hot pt_pay_0...\n",
    "#cont_enroll            int64\n",
    "#ccnum                  int64 #one hot pt_pay_0...\n",
    "#high_ben               int64"
   ]
  },
  {
   "cell_type": "markdown",
   "metadata": {},
   "source": [
    "## Balance and Split the Data"
   ]
  },
  {
   "cell_type": "code",
   "execution_count": 373,
   "metadata": {},
   "outputs": [
    {
     "name": "stdout",
     "output_type": "stream",
     "text": [
      "Shape of balanced dataframe (53354, 3)\n"
     ]
    }
   ],
   "source": [
    "# Balance the dataset down to the minority class\n",
    "ml_grouped_by = ml.groupby([\"isgeneric\"]) \n",
    "ml_balanced = ml_grouped_by.apply(lambda x: x.sample(ml_grouped_by.size().min()).reset_index(drop=True))\n",
    "\n",
    "ml_balanced = ml_balanced.reset_index(drop=True)\n",
    "print(\"Shape of balanced dataframe {}\".format(ml_balanced.shape))"
   ]
  },
  {
   "cell_type": "code",
   "execution_count": 374,
   "metadata": {},
   "outputs": [
    {
     "data": {
      "text/html": [
       "<div>\n",
       "<style scoped>\n",
       "    .dataframe tbody tr th:only-of-type {\n",
       "        vertical-align: middle;\n",
       "    }\n",
       "\n",
       "    .dataframe tbody tr th {\n",
       "        vertical-align: top;\n",
       "    }\n",
       "\n",
       "    .dataframe thead th {\n",
       "        text-align: right;\n",
       "    }\n",
       "</style>\n",
       "<table border=\"1\" class=\"dataframe\">\n",
       "  <thead>\n",
       "    <tr style=\"text-align: right;\">\n",
       "      <th></th>\n",
       "      <th>isgeneric</th>\n",
       "      <th>total_cost</th>\n",
       "      <th>high_ben</th>\n",
       "    </tr>\n",
       "  </thead>\n",
       "  <tbody>\n",
       "    <tr>\n",
       "      <th>0</th>\n",
       "      <td>0.0</td>\n",
       "      <td>40</td>\n",
       "      <td>1</td>\n",
       "    </tr>\n",
       "    <tr>\n",
       "      <th>1</th>\n",
       "      <td>0.0</td>\n",
       "      <td>10</td>\n",
       "      <td>1</td>\n",
       "    </tr>\n",
       "    <tr>\n",
       "      <th>2</th>\n",
       "      <td>0.0</td>\n",
       "      <td>10</td>\n",
       "      <td>1</td>\n",
       "    </tr>\n",
       "    <tr>\n",
       "      <th>3</th>\n",
       "      <td>0.0</td>\n",
       "      <td>10</td>\n",
       "      <td>1</td>\n",
       "    </tr>\n",
       "    <tr>\n",
       "      <th>4</th>\n",
       "      <td>0.0</td>\n",
       "      <td>10</td>\n",
       "      <td>0</td>\n",
       "    </tr>\n",
       "  </tbody>\n",
       "</table>\n",
       "</div>"
      ],
      "text/plain": [
       "   isgeneric  total_cost  high_ben\n",
       "0        0.0          40         1\n",
       "1        0.0          10         1\n",
       "2        0.0          10         1\n",
       "3        0.0          10         1\n",
       "4        0.0          10         0"
      ]
     },
     "execution_count": 374,
     "metadata": {},
     "output_type": "execute_result"
    }
   ],
   "source": [
    "ml_balanced.head(5)"
   ]
  },
  {
   "cell_type": "code",
   "execution_count": 375,
   "metadata": {},
   "outputs": [
    {
     "name": "stdout",
     "output_type": "stream",
     "text": [
      "(37347, 3)\n",
      "(8003, 3)\n"
     ]
    },
    {
     "data": {
      "text/plain": [
       "(8004, 3)"
      ]
     },
     "execution_count": 375,
     "metadata": {},
     "output_type": "execute_result"
    }
   ],
   "source": [
    "from sklearn.model_selection import train_test_split\n",
    "\n",
    "# Split all data into 90% train and 10% holdout\n",
    "ml_train, ml_holdout = train_test_split(ml_balanced, test_size=0.30, stratify=ml_balanced[\"isgeneric\"])\n",
    "\n",
    "# Split holdout data into 50% validation and 50% test\n",
    "ml_validation, ml_test = train_test_split(ml_holdout, test_size=0.50, stratify=ml_holdout[\"isgeneric\"])\n",
    "\n",
    "print(ml_train.shape)\n",
    "print(ml_validation.shape)\n",
    "ml_test.shape"
   ]
  },
  {
   "cell_type": "code",
   "execution_count": 376,
   "metadata": {},
   "outputs": [
    {
     "name": "stdout",
     "output_type": "stream",
     "text": [
      "s3://my-508-projects2/eng_model/ml_train.csv\n",
      "s3://my-508-projects2/eng_model/ml_validation.csv\n",
      "s3://my-508-projects2/eng_model/ml_test.csv\n",
      "2022-04-05 04:00:57     345253 ml_train.csv\n",
      "2022-04-05 04:00:57      73973 ml_validation.csv\n",
      "2022-04-05 04:00:57      73845 ml_test.csv\n"
     ]
    }
   ],
   "source": [
    "filepath1 = \"./data_model/ml_train.csv\"\n",
    "filepath2 = \"./data_model/ml_validation.csv\"\n",
    "filepath3 = \"./data_model/ml_test.csv\"\n",
    "ml_train.to_csv(filepath1, index=False, header=False) # No index or headers for Xgboost algorithm\n",
    "ml_validation.to_csv(filepath2, index=False, header=False)\n",
    "ml_test.to_csv(filepath3, index=False, header=False)\n",
    "\n",
    "# COPY CSVs TO S3\n",
    "\n",
    "#import time\n",
    "\n",
    "# The timestamp is for creating a fresh folder.  Disabled here so S3 will write over with newly engineered files.\n",
    "#timestamp = int(time.time())\n",
    "eng_df1_s3_uri = gcgs_sm_sess.upload_data(bucket=gcgs_bucket, key_prefix=\"eng_model\", path=filepath1)\n",
    "eng_df2_s3_uri = gcgs_sm_sess.upload_data(bucket=gcgs_bucket, key_prefix=\"eng_model\", path=filepath2)\n",
    "eng_df3_s3_uri = gcgs_sm_sess.upload_data(bucket=gcgs_bucket, key_prefix=\"eng_model\", path=filepath3)\n",
    "#eng_df_s3_uri = gcgs_sm_sess.upload_data(bucket=gcgs_bucket, key_prefix=\"eng_df-{}\".format(timestamp), path=filepath)\n",
    "print(eng_df1_s3_uri)\n",
    "print(eng_df2_s3_uri)\n",
    "print(eng_df3_s3_uri)\n",
    "\n",
    "# LIST DATA IN THE NEW S3 LOCATION\n",
    "\n",
    "!aws s3 ls $eng_df1_s3_uri\n",
    "!aws s3 ls $eng_df2_s3_uri\n",
    "!aws s3 ls $eng_df3_s3_uri"
   ]
  },
  {
   "cell_type": "markdown",
   "metadata": {},
   "source": [
    "## Bring back the csv from S3"
   ]
  },
  {
   "cell_type": "code",
   "execution_count": null,
   "metadata": {},
   "outputs": [],
   "source": []
  },
  {
   "cell_type": "markdown",
   "metadata": {},
   "source": [
    "## XGBoost Code that ran in my Personal AWS Account\n",
    "#### base code copied from:  https://docs.aws.amazon.com/sagemaker/latest/dg/xgboost.html"
   ]
  },
  {
   "cell_type": "code",
   "execution_count": 377,
   "metadata": {},
   "outputs": [],
   "source": [
    "#import sagemaker\n",
    "#import boto3\n",
    "#from sagemaker.amazon.amazon_estimator import get_image_uri\n",
    "from sagemaker import image_uris\n",
    "#from sagemaker.session import Session\n",
    "from sagemaker.session import TrainingInput\n",
    "from sagemaker.debugger import Rule, rule_configs\n",
    "from sagemaker.estimator import Estimator\n",
    "        \n",
    "# initialize hyperparameters\n",
    "hyperparameters = {\n",
    "        \"max_depth\":\"5\",   #use auto tune\n",
    "        \"eta\":\"0.2\",  #use auto tune\n",
    "        \"gamma\":\"0\",\n",
    "        \"min_child_weight\":\"6\",   #use auto tune\n",
    "        \"subsample\":\"0.7\",\n",
    "        \"objective\":\"binary:logistic\",\n",
    "        \"num_round\":\"50\"}\n",
    "\n",
    "# set an output path where the trained model will be saved\n",
    "prefix = 'eng_model'\n",
    "output_path = 's3://{}/{}/{}/output'.format(gcgs_bucket, prefix, 'generics-xgb-built-in-algo')\n",
    "\n",
    "# this line automatically looks for the XGBoost image URI and builds an XGBoost container.\n",
    "# specify the repo_version depending on your preference.\n",
    "xgboost_container=sagemaker.image_uris.retrieve(\"xgboost\", gcgs_region, \"1.2-1\")\n",
    "\n",
    "#OLD VERSION xgboost_container = get_image_uri(gcgs_region,\n",
    "#                          'xgboost', \n",
    "#                          repo_version='1.0-1')\n",
    "\n",
    "# construct a SageMaker estimator that calls the xgboost-container\n",
    "estimator = sagemaker.estimator.Estimator(image_uri=xgboost_container,\n",
    "                                          base_job_name=\"XGBGEN\",\n",
    "                                          hyperparameters=hyperparameters,\n",
    "                                          role=sagemaker.get_execution_role(),\n",
    "                                          instance_count=1, \n",
    "                                          instance_type='ml.m5.large', \n",
    "                                          volume_size_in_gb=5, # 5 GB \n",
    "                                          output_path=output_path,\n",
    "                                          sagemaker_session=gcgs_sm_sess,\n",
    "                                          rules=[Rule.sagemaker(rule_configs.create_xgboost_report())])\n",
    "\n",
    "#This is where the XGBoostReport is saved in Amazon S3:\n",
    "#Buckets, my-508-projects2, \n",
    "#eng_model/generics-xgb-built-in-algo/output/XGBGEN-2022-04-04-01-07-24-977/rule-output/CreateXgboostReport/xgboost_report.html\n",
    "\n",
    "# define the data type and paths to the training and validation datasets\n",
    "train_input = TrainingInput(\"s3://{}/{}/{}\".format(gcgs_bucket, prefix, 'ml_train.csv'), content_type='csv')\n",
    "validation_input = TrainingInput(\"s3://{}/{}/{}\".format(gcgs_bucket, prefix, 'ml_validation.csv'), content_type='csv')"
   ]
  },
  {
   "cell_type": "code",
   "execution_count": 378,
   "metadata": {},
   "outputs": [
    {
     "name": "stdout",
     "output_type": "stream",
     "text": [
      "2022-04-05 04:00:58 Starting - Starting the training job...\n",
      "2022-04-05 04:01:24 Starting - Preparing the instances for trainingCreateXgboostReport: InProgress\n",
      "ProfilerReport-1649131258: InProgress\n",
      ".........\n",
      "2022-04-05 04:02:45 Downloading - Downloading input data...\n",
      "2022-04-05 04:03:25 Training - Downloading the training image........\u001b[34m[2022-04-05 04:04:37.259 ip-10-2-90-20.ec2.internal:1 INFO utils.py:27] RULE_JOB_STOP_SIGNAL_FILENAME: None\u001b[0m\n",
      "\u001b[34mINFO:sagemaker-containers:Imported framework sagemaker_xgboost_container.training\u001b[0m\n",
      "\u001b[34mINFO:sagemaker-containers:Failed to parse hyperparameter objective value binary:logistic to Json.\u001b[0m\n",
      "\u001b[34mReturning the value itself\u001b[0m\n",
      "\u001b[34mINFO:sagemaker-containers:No GPUs detected (normal if no gpus installed)\u001b[0m\n",
      "\u001b[34mINFO:sagemaker_xgboost_container.training:Running XGBoost Sagemaker in algorithm mode\u001b[0m\n",
      "\u001b[34mINFO:root:Determined delimiter of CSV input is ','\u001b[0m\n",
      "\u001b[34mINFO:root:Determined delimiter of CSV input is ','\u001b[0m\n",
      "\u001b[34mINFO:root:Determined delimiter of CSV input is ','\u001b[0m\n",
      "\u001b[34mINFO:root:Determined delimiter of CSV input is ','\u001b[0m\n",
      "\u001b[34mINFO:root:Single node training.\u001b[0m\n",
      "\u001b[34m[2022-04-05 04:04:37.481 ip-10-2-90-20.ec2.internal:1 INFO json_config.py:91] Creating hook from json_config at /opt/ml/input/config/debughookconfig.json.\u001b[0m\n",
      "\u001b[34m[2022-04-05 04:04:37.481 ip-10-2-90-20.ec2.internal:1 INFO hook.py:199] tensorboard_dir has not been set for the hook. SMDebug will not be exporting tensorboard summaries.\u001b[0m\n",
      "\u001b[34m[2022-04-05 04:04:37.482 ip-10-2-90-20.ec2.internal:1 INFO profiler_config_parser.py:102] User has disabled profiler.\u001b[0m\n",
      "\u001b[34m[2022-04-05 04:04:37.482 ip-10-2-90-20.ec2.internal:1 INFO hook.py:253] Saving to /opt/ml/output/tensors\u001b[0m\n",
      "\u001b[34m[2022-04-05 04:04:37.483 ip-10-2-90-20.ec2.internal:1 INFO state_store.py:77] The checkpoint config file /opt/ml/input/config/checkpointconfig.json does not exist.\u001b[0m\n",
      "\u001b[34mINFO:root:Debug hook created from config\u001b[0m\n",
      "\u001b[34mINFO:root:Train matrix has 37347 rows and 2 columns\u001b[0m\n",
      "\u001b[34mINFO:root:Validation matrix has 8003 rows\u001b[0m\n",
      "\u001b[34m[0]#011train-error:0.40657#011validation-error:0.41335\u001b[0m\n",
      "\u001b[34m[2022-04-05 04:04:37.563 ip-10-2-90-20.ec2.internal:1 INFO hook.py:413] Monitoring the collections: predictions, labels, metrics, feature_importance, hyperparameters\u001b[0m\n",
      "\u001b[34m[2022-04-05 04:04:37.568 ip-10-2-90-20.ec2.internal:1 INFO hook.py:476] Hook is writing from the hook with pid: 1\u001b[0m\n",
      "\u001b[34m[1]#011train-error:0.40600#011validation-error:0.41272\u001b[0m\n",
      "\u001b[34m[2]#011train-error:0.40600#011validation-error:0.41222\u001b[0m\n",
      "\u001b[34m[3]#011train-error:0.40600#011validation-error:0.41222\u001b[0m\n",
      "\u001b[34m[4]#011train-error:0.40600#011validation-error:0.41222\u001b[0m\n",
      "\u001b[34m[5]#011train-error:0.40600#011validation-error:0.41222\u001b[0m\n",
      "\u001b[34m[6]#011train-error:0.40600#011validation-error:0.41222\u001b[0m\n",
      "\u001b[34m[7]#011train-error:0.40600#011validation-error:0.41222\u001b[0m\n",
      "\u001b[34m[8]#011train-error:0.40600#011validation-error:0.41222\u001b[0m\n",
      "\u001b[34m[9]#011train-error:0.40600#011validation-error:0.41222\u001b[0m\n",
      "\u001b[34m[10]#011train-error:0.40600#011validation-error:0.41222\u001b[0m\n",
      "\u001b[34m[11]#011train-error:0.40600#011validation-error:0.41222\u001b[0m\n",
      "\u001b[34m[12]#011train-error:0.40600#011validation-error:0.41222\u001b[0m\n",
      "\u001b[34m[13]#011train-error:0.40600#011validation-error:0.41222\u001b[0m\n",
      "\u001b[34m[14]#011train-error:0.40600#011validation-error:0.41222\u001b[0m\n",
      "\u001b[34m[15]#011train-error:0.40600#011validation-error:0.41222\u001b[0m\n",
      "\u001b[34m[16]#011train-error:0.40600#011validation-error:0.41222\u001b[0m\n",
      "\u001b[34m[17]#011train-error:0.40600#011validation-error:0.41222\u001b[0m\n",
      "\u001b[34m[18]#011train-error:0.40600#011validation-error:0.41222\u001b[0m\n",
      "\u001b[34m[19]#011train-error:0.40600#011validation-error:0.41222\u001b[0m\n",
      "\u001b[34m[20]#011train-error:0.40627#011validation-error:0.41222\u001b[0m\n",
      "\u001b[34m[21]#011train-error:0.40627#011validation-error:0.41222\u001b[0m\n",
      "\u001b[34m[22]#011train-error:0.40600#011validation-error:0.41222\u001b[0m\n",
      "\u001b[34m[23]#011train-error:0.40584#011validation-error:0.41235\u001b[0m\n",
      "\u001b[34m[24]#011train-error:0.40584#011validation-error:0.41235\u001b[0m\n",
      "\u001b[34m[25]#011train-error:0.40584#011validation-error:0.41235\u001b[0m\n",
      "\u001b[34m[26]#011train-error:0.40584#011validation-error:0.41235\u001b[0m\n",
      "\u001b[34m[27]#011train-error:0.40584#011validation-error:0.41235\u001b[0m\n",
      "\u001b[34m[28]#011train-error:0.40571#011validation-error:0.41222\u001b[0m\n",
      "\u001b[34m[29]#011train-error:0.40571#011validation-error:0.41222\u001b[0m\n",
      "\u001b[34m[30]#011train-error:0.40571#011validation-error:0.41222\u001b[0m\n",
      "\u001b[34m[31]#011train-error:0.40571#011validation-error:0.41222\u001b[0m\n",
      "\u001b[34m[32]#011train-error:0.40571#011validation-error:0.41222\u001b[0m\n",
      "\u001b[34m[33]#011train-error:0.40568#011validation-error:0.41247\u001b[0m\n",
      "\u001b[34m[34]#011train-error:0.40565#011validation-error:0.41247\u001b[0m\n",
      "\u001b[34m[35]#011train-error:0.40565#011validation-error:0.41247\u001b[0m\n",
      "\u001b[34m[36]#011train-error:0.40565#011validation-error:0.41247\u001b[0m\n",
      "\u001b[34m[37]#011train-error:0.40565#011validation-error:0.41247\u001b[0m\n",
      "\u001b[34m[38]#011train-error:0.40568#011validation-error:0.41272\u001b[0m\n",
      "\u001b[34m[39]#011train-error:0.40592#011validation-error:0.41247\u001b[0m\n",
      "\u001b[34m[40]#011train-error:0.40565#011validation-error:0.41247\u001b[0m\n",
      "\u001b[34m[41]#011train-error:0.40555#011validation-error:0.41197\u001b[0m\n",
      "\u001b[34m[42]#011train-error:0.40552#011validation-error:0.41235\u001b[0m\n",
      "\u001b[34m[43]#011train-error:0.40552#011validation-error:0.41235\u001b[0m\n",
      "\u001b[34m[44]#011train-error:0.40552#011validation-error:0.41235\u001b[0m\n",
      "\u001b[34m[45]#011train-error:0.40555#011validation-error:0.41209\u001b[0m\n",
      "\u001b[34m[46]#011train-error:0.40552#011validation-error:0.41235\u001b[0m\n",
      "\u001b[34m[47]#011train-error:0.40552#011validation-error:0.41235\u001b[0m\n",
      "\u001b[34m[48]#011train-error:0.40579#011validation-error:0.41235\u001b[0m\n",
      "\u001b[34m[49]#011train-error:0.40552#011validation-error:0.41235\u001b[0m\n",
      "\n",
      "2022-04-05 04:04:59 Uploading - Uploading generated training model\n",
      "2022-04-05 04:04:59 Completed - Training job completed\n",
      "Training seconds: 142\n",
      "Billable seconds: 142\n"
     ]
    }
   ],
   "source": [
    "# execute the XGBoost training job\n",
    "estimator.fit({'train': train_input, 'validation': validation_input})"
   ]
  },
  {
   "cell_type": "code",
   "execution_count": 391,
   "metadata": {},
   "outputs": [
    {
     "name": "stdout",
     "output_type": "stream",
     "text": [
      "s3://my-508-projects2/eng_model/generics-xgb-built-in-algo/output/XGBGEN-2022-04-05-04-00-58-583/rule-output\n"
     ]
    }
   ],
   "source": [
    "rule_output_path = estimator.output_path + \"/\" + estimator.latest_training_job.name + \"/rule-output\"\n",
    "print(rule_output_path)"
   ]
  },
  {
   "cell_type": "code",
   "execution_count": 392,
   "metadata": {},
   "outputs": [
    {
     "name": "stdout",
     "output_type": "stream",
     "text": [
      "2022-04-05 04:09:45        317 eng_model/generics-xgb-built-in-algo/output/XGBGEN-2022-04-05-04-00-58-583/rule-output/CreateXgboostReport/xgboost-reports/ConfusionMatrix.json\n",
      "2022-04-05 04:09:45        728 eng_model/generics-xgb-built-in-algo/output/XGBGEN-2022-04-05-04-00-58-583/rule-output/CreateXgboostReport/xgboost-reports/EvaluationMetrics.json\n",
      "2022-04-05 04:09:45        523 eng_model/generics-xgb-built-in-algo/output/XGBGEN-2022-04-05-04-00-58-583/rule-output/CreateXgboostReport/xgboost-reports/FeatureImportance.json\n",
      "2022-04-05 04:09:45        508 eng_model/generics-xgb-built-in-algo/output/XGBGEN-2022-04-05-04-00-58-583/rule-output/CreateXgboostReport/xgboost-reports/IterativeClassAccuracy.json\n",
      "2022-04-05 04:09:45        178 eng_model/generics-xgb-built-in-algo/output/XGBGEN-2022-04-05-04-00-58-583/rule-output/CreateXgboostReport/xgboost-reports/LabelsDistribution.json\n",
      "2022-04-05 04:09:45       1816 eng_model/generics-xgb-built-in-algo/output/XGBGEN-2022-04-05-04-00-58-583/rule-output/CreateXgboostReport/xgboost-reports/LossData.json\n",
      "2022-04-05 04:09:45       9566 eng_model/generics-xgb-built-in-algo/output/XGBGEN-2022-04-05-04-00-58-583/rule-output/CreateXgboostReport/xgboost-reports/ROCCurve.json\n",
      "2022-04-05 04:09:45       1766 eng_model/generics-xgb-built-in-algo/output/XGBGEN-2022-04-05-04-00-58-583/rule-output/CreateXgboostReport/xgboost-reports/ResidualDistribution.json\n",
      "2022-04-05 04:09:44     375509 eng_model/generics-xgb-built-in-algo/output/XGBGEN-2022-04-05-04-00-58-583/rule-output/CreateXgboostReport/xgboost_report.html\n",
      "2022-04-05 04:09:43     175142 eng_model/generics-xgb-built-in-algo/output/XGBGEN-2022-04-05-04-00-58-583/rule-output/CreateXgboostReport/xgboost_report.ipynb\n",
      "2022-04-05 04:05:35     329718 eng_model/generics-xgb-built-in-algo/output/XGBGEN-2022-04-05-04-00-58-583/rule-output/ProfilerReport-1649131258/profiler-output/profiler-report.html\n",
      "2022-04-05 04:05:34     171090 eng_model/generics-xgb-built-in-algo/output/XGBGEN-2022-04-05-04-00-58-583/rule-output/ProfilerReport-1649131258/profiler-output/profiler-report.ipynb\n",
      "2022-04-05 04:05:30        191 eng_model/generics-xgb-built-in-algo/output/XGBGEN-2022-04-05-04-00-58-583/rule-output/ProfilerReport-1649131258/profiler-output/profiler-reports/BatchSize.json\n",
      "2022-04-05 04:05:30        199 eng_model/generics-xgb-built-in-algo/output/XGBGEN-2022-04-05-04-00-58-583/rule-output/ProfilerReport-1649131258/profiler-output/profiler-reports/CPUBottleneck.json\n",
      "2022-04-05 04:05:30        126 eng_model/generics-xgb-built-in-algo/output/XGBGEN-2022-04-05-04-00-58-583/rule-output/ProfilerReport-1649131258/profiler-output/profiler-reports/Dataloader.json\n",
      "2022-04-05 04:05:30        127 eng_model/generics-xgb-built-in-algo/output/XGBGEN-2022-04-05-04-00-58-583/rule-output/ProfilerReport-1649131258/profiler-output/profiler-reports/GPUMemoryIncrease.json\n",
      "2022-04-05 04:05:30        198 eng_model/generics-xgb-built-in-algo/output/XGBGEN-2022-04-05-04-00-58-583/rule-output/ProfilerReport-1649131258/profiler-output/profiler-reports/IOBottleneck.json\n",
      "2022-04-05 04:05:30        119 eng_model/generics-xgb-built-in-algo/output/XGBGEN-2022-04-05-04-00-58-583/rule-output/ProfilerReport-1649131258/profiler-output/profiler-reports/LoadBalancing.json\n",
      "2022-04-05 04:05:30        151 eng_model/generics-xgb-built-in-algo/output/XGBGEN-2022-04-05-04-00-58-583/rule-output/ProfilerReport-1649131258/profiler-output/profiler-reports/LowGPUUtilization.json\n",
      "2022-04-05 04:05:30        178 eng_model/generics-xgb-built-in-algo/output/XGBGEN-2022-04-05-04-00-58-583/rule-output/ProfilerReport-1649131258/profiler-output/profiler-reports/MaxInitializationTime.json\n",
      "2022-04-05 04:05:30        133 eng_model/generics-xgb-built-in-algo/output/XGBGEN-2022-04-05-04-00-58-583/rule-output/ProfilerReport-1649131258/profiler-output/profiler-reports/OverallFrameworkMetrics.json\n",
      "2022-04-05 04:05:30        466 eng_model/generics-xgb-built-in-algo/output/XGBGEN-2022-04-05-04-00-58-583/rule-output/ProfilerReport-1649131258/profiler-output/profiler-reports/OverallSystemUsage.json\n",
      "2022-04-05 04:05:30        156 eng_model/generics-xgb-built-in-algo/output/XGBGEN-2022-04-05-04-00-58-583/rule-output/ProfilerReport-1649131258/profiler-output/profiler-reports/StepOutlier.json\n"
     ]
    }
   ],
   "source": [
    "! aws s3 ls {rule_output_path} --recursive"
   ]
  },
  {
   "cell_type": "code",
   "execution_count": 393,
   "metadata": {},
   "outputs": [
    {
     "name": "stdout",
     "output_type": "stream",
     "text": [
      "download: s3://my-508-projects2/eng_model/generics-xgb-built-in-algo/output/XGBGEN-2022-04-05-04-00-58-583/rule-output/CreateXgboostReport/xgboost-reports/FeatureImportance.json to CreateXgboostReport/xgboost-reports/FeatureImportance.json\n",
      "download: s3://my-508-projects2/eng_model/generics-xgb-built-in-algo/output/XGBGEN-2022-04-05-04-00-58-583/rule-output/CreateXgboostReport/xgboost-reports/IterativeClassAccuracy.json to CreateXgboostReport/xgboost-reports/IterativeClassAccuracy.json\n",
      "download: s3://my-508-projects2/eng_model/generics-xgb-built-in-algo/output/XGBGEN-2022-04-05-04-00-58-583/rule-output/CreateXgboostReport/xgboost-reports/LossData.json to CreateXgboostReport/xgboost-reports/LossData.json\n",
      "download: s3://my-508-projects2/eng_model/generics-xgb-built-in-algo/output/XGBGEN-2022-04-05-04-00-58-583/rule-output/CreateXgboostReport/xgboost-reports/LabelsDistribution.json to CreateXgboostReport/xgboost-reports/LabelsDistribution.json\n",
      "download: s3://my-508-projects2/eng_model/generics-xgb-built-in-algo/output/XGBGEN-2022-04-05-04-00-58-583/rule-output/CreateXgboostReport/xgboost-reports/EvaluationMetrics.json to CreateXgboostReport/xgboost-reports/EvaluationMetrics.json\n",
      "download: s3://my-508-projects2/eng_model/generics-xgb-built-in-algo/output/XGBGEN-2022-04-05-04-00-58-583/rule-output/CreateXgboostReport/xgboost-reports/ConfusionMatrix.json to CreateXgboostReport/xgboost-reports/ConfusionMatrix.json\n",
      "download: s3://my-508-projects2/eng_model/generics-xgb-built-in-algo/output/XGBGEN-2022-04-05-04-00-58-583/rule-output/CreateXgboostReport/xgboost-reports/ResidualDistribution.json to CreateXgboostReport/xgboost-reports/ResidualDistribution.json\n",
      "download: s3://my-508-projects2/eng_model/generics-xgb-built-in-algo/output/XGBGEN-2022-04-05-04-00-58-583/rule-output/CreateXgboostReport/xgboost-reports/ROCCurve.json to CreateXgboostReport/xgboost-reports/ROCCurve.json\n",
      "download: s3://my-508-projects2/eng_model/generics-xgb-built-in-algo/output/XGBGEN-2022-04-05-04-00-58-583/rule-output/CreateXgboostReport/xgboost_report.ipynb to CreateXgboostReport/xgboost_report.ipynb\n",
      "download: s3://my-508-projects2/eng_model/generics-xgb-built-in-algo/output/XGBGEN-2022-04-05-04-00-58-583/rule-output/ProfilerReport-1649131258/profiler-output/profiler-reports/CPUBottleneck.json to ProfilerReport-1649131258/profiler-output/profiler-reports/CPUBottleneck.json\n",
      "download: s3://my-508-projects2/eng_model/generics-xgb-built-in-algo/output/XGBGEN-2022-04-05-04-00-58-583/rule-output/ProfilerReport-1649131258/profiler-output/profiler-reports/LowGPUUtilization.json to ProfilerReport-1649131258/profiler-output/profiler-reports/LowGPUUtilization.json\n",
      "download: s3://my-508-projects2/eng_model/generics-xgb-built-in-algo/output/XGBGEN-2022-04-05-04-00-58-583/rule-output/ProfilerReport-1649131258/profiler-output/profiler-report.ipynb to ProfilerReport-1649131258/profiler-output/profiler-report.ipynb\n",
      "download: s3://my-508-projects2/eng_model/generics-xgb-built-in-algo/output/XGBGEN-2022-04-05-04-00-58-583/rule-output/CreateXgboostReport/xgboost_report.html to CreateXgboostReport/xgboost_report.html\n",
      "download: s3://my-508-projects2/eng_model/generics-xgb-built-in-algo/output/XGBGEN-2022-04-05-04-00-58-583/rule-output/ProfilerReport-1649131258/profiler-output/profiler-reports/Dataloader.json to ProfilerReport-1649131258/profiler-output/profiler-reports/Dataloader.json\n",
      "download: s3://my-508-projects2/eng_model/generics-xgb-built-in-algo/output/XGBGEN-2022-04-05-04-00-58-583/rule-output/ProfilerReport-1649131258/profiler-output/profiler-reports/LoadBalancing.json to ProfilerReport-1649131258/profiler-output/profiler-reports/LoadBalancing.json\n",
      "download: s3://my-508-projects2/eng_model/generics-xgb-built-in-algo/output/XGBGEN-2022-04-05-04-00-58-583/rule-output/ProfilerReport-1649131258/profiler-output/profiler-reports/GPUMemoryIncrease.json to ProfilerReport-1649131258/profiler-output/profiler-reports/GPUMemoryIncrease.json\n",
      "download: s3://my-508-projects2/eng_model/generics-xgb-built-in-algo/output/XGBGEN-2022-04-05-04-00-58-583/rule-output/ProfilerReport-1649131258/profiler-output/profiler-report.html to ProfilerReport-1649131258/profiler-output/profiler-report.html\n",
      "download: s3://my-508-projects2/eng_model/generics-xgb-built-in-algo/output/XGBGEN-2022-04-05-04-00-58-583/rule-output/ProfilerReport-1649131258/profiler-output/profiler-reports/IOBottleneck.json to ProfilerReport-1649131258/profiler-output/profiler-reports/IOBottleneck.json\n",
      "download: s3://my-508-projects2/eng_model/generics-xgb-built-in-algo/output/XGBGEN-2022-04-05-04-00-58-583/rule-output/ProfilerReport-1649131258/profiler-output/profiler-reports/MaxInitializationTime.json to ProfilerReport-1649131258/profiler-output/profiler-reports/MaxInitializationTime.json\n",
      "download: s3://my-508-projects2/eng_model/generics-xgb-built-in-algo/output/XGBGEN-2022-04-05-04-00-58-583/rule-output/ProfilerReport-1649131258/profiler-output/profiler-reports/OverallFrameworkMetrics.json to ProfilerReport-1649131258/profiler-output/profiler-reports/OverallFrameworkMetrics.json\n",
      "download: s3://my-508-projects2/eng_model/generics-xgb-built-in-algo/output/XGBGEN-2022-04-05-04-00-58-583/rule-output/ProfilerReport-1649131258/profiler-output/profiler-reports/StepOutlier.json to ProfilerReport-1649131258/profiler-output/profiler-reports/StepOutlier.json\n",
      "download: s3://my-508-projects2/eng_model/generics-xgb-built-in-algo/output/XGBGEN-2022-04-05-04-00-58-583/rule-output/ProfilerReport-1649131258/profiler-output/profiler-reports/BatchSize.json to ProfilerReport-1649131258/profiler-output/profiler-reports/BatchSize.json\n",
      "download: s3://my-508-projects2/eng_model/generics-xgb-built-in-algo/output/XGBGEN-2022-04-05-04-00-58-583/rule-output/ProfilerReport-1649131258/profiler-output/profiler-reports/OverallSystemUsage.json to ProfilerReport-1649131258/profiler-output/profiler-reports/OverallSystemUsage.json\n"
     ]
    }
   ],
   "source": [
    "! aws s3 cp {rule_output_path} ./ --recursive"
   ]
  },
  {
   "cell_type": "code",
   "execution_count": 394,
   "metadata": {},
   "outputs": [
    {
     "data": {
      "text/plain": [
       "'Click link below to view the XGBoost Training report'"
      ]
     },
     "metadata": {},
     "output_type": "display_data"
    },
    {
     "data": {
      "text/html": [
       "<a href='CreateXgboostReport/xgboost_report.html' target='_blank'>CreateXgboostReport/xgboost_report.html</a><br>"
      ],
      "text/plain": [
       "/root/Garcia-Zagari-508-project/final_proj_508/CreateXgboostReport/xgboost_report.html"
      ]
     },
     "metadata": {},
     "output_type": "display_data"
    }
   ],
   "source": [
    "from IPython.display import FileLink, FileLinks\n",
    "display(\"Click link below to view the XGBoost Training report\", FileLink(\"CreateXgboostReport/xgboost_report.html\"))"
   ]
  },
  {
   "cell_type": "code",
   "execution_count": 395,
   "metadata": {},
   "outputs": [
    {
     "data": {
      "text/plain": [
       "'Click link below to view the profiler report'"
      ]
     },
     "metadata": {},
     "output_type": "display_data"
    },
    {
     "data": {
      "text/html": [
       "<a href='ProfilerReport-1649131258/profiler-output/profiler-report.html' target='_blank'>ProfilerReport-1649131258/profiler-output/profiler-report.html</a><br>"
      ],
      "text/plain": [
       "/root/Garcia-Zagari-508-project/final_proj_508/ProfilerReport-1649131258/profiler-output/profiler-report.html"
      ]
     },
     "metadata": {},
     "output_type": "display_data"
    }
   ],
   "source": [
    "profiler_report_name = [rule[\"RuleConfigurationName\"] \n",
    "                        for rule in estimator.latest_training_job.rule_job_summary() \n",
    "                        if \"Profiler\" in rule[\"RuleConfigurationName\"]][0]\n",
    "profiler_report_name\n",
    "display(\"Click link below to view the profiler report\", FileLink(profiler_report_name+\"/profiler-output/profiler-report.html\"))"
   ]
  },
  {
   "cell_type": "code",
   "execution_count": 396,
   "metadata": {},
   "outputs": [
    {
     "data": {
      "text/plain": [
       "'s3://my-508-projects2/eng_model/generics-xgb-built-in-algo/output/XGBGEN-2022-04-05-04-00-58-583/output/model.tar.gz'"
      ]
     },
     "execution_count": 396,
     "metadata": {},
     "output_type": "execute_result"
    }
   ],
   "source": [
    "estimator.model_data"
   ]
  },
  {
   "cell_type": "markdown",
   "metadata": {},
   "source": [
    "## Hyperparameter Tuning"
   ]
  },
  {
   "cell_type": "code",
   "execution_count": 385,
   "metadata": {},
   "outputs": [],
   "source": [
    "from sagemaker.tuner import (\n",
    "    IntegerParameter,\n",
    "    CategoricalParameter,\n",
    "    ContinuousParameter,\n",
    "    HyperparameterTuner,\n",
    ")"
   ]
  },
  {
   "cell_type": "code",
   "execution_count": 386,
   "metadata": {},
   "outputs": [],
   "source": [
    "# construct a SageMaker estimator that calls the xgboost-container\n",
    "xgb_ran = sagemaker.estimator.Estimator(image_uri=xgboost_container,\n",
    "                                          base_job_name=\"XGB-RAND-HYP\",\n",
    "                                          hyperparameters=hyperparameters,\n",
    "                                          role=sagemaker.get_execution_role(),\n",
    "                                          instance_count=1, \n",
    "                                          instance_type='ml.m5.large', \n",
    "                                          volume_size_in_gb=5, # 5 GB \n",
    "                                          output_path=output_path,\n",
    "                                          sagemaker_session=gcgs_sm_sess)\n",
    "#                                          rules=[Rule.sagemaker(rule_configs.create_xgboost_report())])"
   ]
  },
  {
   "cell_type": "code",
   "execution_count": 387,
   "metadata": {},
   "outputs": [],
   "source": [
    "xgb_ran.set_hyperparameters(\n",
    "    eval_metric=\"auc\",\n",
    "    objective=\"binary:logistic\",\n",
    "    num_round=10,\n",
    "    rate_drop=0.3,\n",
    "    tweedie_variance_power=1.4,\n",
    ")\n",
    "objective_metric_name = \"validation:auc\""
   ]
  },
  {
   "cell_type": "code",
   "execution_count": 388,
   "metadata": {},
   "outputs": [],
   "source": [
    "hyperparameter_ranges = {\n",
    "    \"alpha\": ContinuousParameter(0.01, 10, scaling_type=\"Logarithmic\"),\n",
    "    \"lambda\": ContinuousParameter(0.01, 10, scaling_type=\"Logarithmic\"),\n",
    "}"
   ]
  },
  {
   "cell_type": "code",
   "execution_count": 389,
   "metadata": {},
   "outputs": [
    {
     "name": "stdout",
     "output_type": "stream",
     "text": [
      "......................................................!\n"
     ]
    }
   ],
   "source": [
    "tuner_log = HyperparameterTuner(\n",
    "    xgb_ran,\n",
    "    objective_metric_name,\n",
    "    hyperparameter_ranges,\n",
    "    max_jobs=5,\n",
    "    max_parallel_jobs=5,\n",
    "    strategy=\"Random\"\n",
    ")\n",
    "\n",
    "tuner_log.fit(\n",
    "    {\"train\": train_input, \"validation\": validation_input},\n",
    "    include_cls_metadata=False,\n",
    "#    job_name=\"xgb-randsearch1\"\n",
    ")"
   ]
  },
  {
   "cell_type": "code",
   "execution_count": 390,
   "metadata": {},
   "outputs": [
    {
     "data": {
      "text/plain": [
       "'Completed'"
      ]
     },
     "execution_count": 390,
     "metadata": {},
     "output_type": "execute_result"
    }
   ],
   "source": [
    "boto3.client(\"sagemaker\").describe_hyper_parameter_tuning_job(\n",
    "    HyperParameterTuningJobName=tuner_log.latest_tuning_job.job_name\n",
    ")[\"HyperParameterTuningJobStatus\"]"
   ]
  },
  {
   "cell_type": "code",
   "execution_count": null,
   "metadata": {},
   "outputs": [],
   "source": []
  }
 ],
 "metadata": {
  "instance_type": "ml.t3.medium",
  "kernelspec": {
   "display_name": "Python 3 (Data Science)",
   "language": "python",
   "name": "python3__SAGEMAKER_INTERNAL__arn:aws:sagemaker:us-east-1:081325390199:image/datascience-1.0"
  },
  "language_info": {
   "codemirror_mode": {
    "name": "ipython",
    "version": 3
   },
   "file_extension": ".py",
   "mimetype": "text/x-python",
   "name": "python",
   "nbconvert_exporter": "python",
   "pygments_lexer": "ipython3",
   "version": "3.7.10"
  }
 },
 "nbformat": 4,
 "nbformat_minor": 4
}
