{
 "cells": [
  {
   "cell_type": "markdown",
   "metadata": {},
   "source": [
    "# Welcome!"
   ]
  },
  {
   "cell_type": "markdown",
   "metadata": {},
   "source": [
    "### This notebook is the first in a series that builds the Green Cross Green Shield (GCGS) data analysis project using Medicare Data"
   ]
  },
  {
   "cell_type": "markdown",
   "metadata": {},
   "source": [
    "### Note:  GCGS requires SageMaker Studio"
   ]
  },
  {
   "cell_type": "markdown",
   "metadata": {},
   "source": [
    "# Start the \"Data Science\" Kernel\n",
    "The kernel powers all of our notebook interactions.\n",
    "\n",
    "### Click on \"No Kernel\" in the Upper Right\n",
    "<!---  ![](img/select_kernel.png)  # Use HTML since ![]() does not support width  --->\n",
    "\n",
    "<div>\n",
    "<img src=\"img/select_kernel.png\" width=\"500\"/>  <!--- Use HTML since ![]() does not support width --->\n",
    "</div>\n",
    "\n",
    "### Select the `Data Science` Kernel\n",
    "<!---  ![](img/select_data_science_kernel.png)  --->\n",
    "\n",
    "<div>\n",
    "<img src=\"img/select_data_science_kernel.png\" width=\"500\"/>\n",
    "</div>\n",
    "\n",
    "### Confirm the Kernel is Started in Upper Right\n",
    "<!---  ![](img/confirm_kernel_started.png)   --->\n",
    "\n",
    "<div>\n",
    "<img src=\"img/confirm_kernel_started.png\" width=\"500\"/>\n",
    "</div>"
   ]
  },
  {
   "cell_type": "markdown",
   "metadata": {},
   "source": [
    "### NOTE:  YOU CANNOT CONTINUE UNTIL THE KERNEL IS STARTED\n",
    "### ### PLEASE WAIT UNTIL THE KERNEL IS STARTED BEFORE CONTINUING!!! ###"
   ]
  },
  {
   "cell_type": "markdown",
   "metadata": {},
   "source": [
    "# ----------------------------\n",
    "# List of %StoreMagic local variables to avoid reuse"
   ]
  },
  {
   "cell_type": "code",
   "execution_count": 4,
   "metadata": {},
   "outputs": [
    {
     "name": "stdout",
     "output_type": "stream",
     "text": [
      "Stored variables and their in-db values:\n",
      "auto_ml_job_name                           -> 'automl-dm-14-01-08-33'\n",
      "autopilot_endpoint_arn                     -> 'arn:aws:sagemaker:us-east-1:850528502467:endpoint\n",
      "autopilot_endpoint_name                    -> 'automl-dm-ep-14-03-53-31'\n",
      "autopilot_model_arn                        -> 'arn:aws:sagemaker:us-east-1:850528502467:model/au\n",
      "autopilot_model_name                       -> 'automl-dm-model-14-03-53-30'\n",
      "autopilot_train_s3_uri                     -> 's3://sagemaker-us-east-1-850528502467/data/amazon\n",
      "setup_dependencies_passed                  -> True\n",
      "setup_gcgs_dependencies_passed             -> True\n",
      "setup_gcgs_iam_roles_passed                -> True\n",
      "setup_gcgs_s3_bucket_passed                -> True\n",
      "setup_iam_roles_passed                     -> True\n",
      "setup_s3_bucket_passed                     -> True\n"
     ]
    }
   ],
   "source": [
    "%store  \n",
    "# List of %storemagic local variables from OTHER NOTEBOOKS (Avoid reuse)"
   ]
  },
  {
   "cell_type": "markdown",
   "metadata": {},
   "source": [
    "# If not done, load all packages and dependencies using the 01_Setup_Dependencies.ipyn Notebook"
   ]
  },
  {
   "cell_type": "code",
   "execution_count": 5,
   "metadata": {},
   "outputs": [],
   "source": [
    "setup_gcgs_dependencies_passed = True"
   ]
  },
  {
   "cell_type": "code",
   "execution_count": 6,
   "metadata": {},
   "outputs": [
    {
     "name": "stdout",
     "output_type": "stream",
     "text": [
      "Stored 'setup_gcgs_dependencies_passed' (bool)\n"
     ]
    }
   ],
   "source": [
    "%store setup_gcgs_dependencies_passed"
   ]
  },
  {
   "cell_type": "markdown",
   "metadata": {},
   "source": [
    "# Load Packages and Create Session\n",
    "### Sessions typically store the following: Credentials, AWS Region, Other configurations related to your profile\n",
    "##### Like this: class sagemaker.session.Session(boto_session=None, sagemaker_client=None, sagemaker_runtime_client=None, sagemaker_featurestore_runtime_client=None, default_bucket=None, settings=<sagemaker.session_settings.SessionSettings object>)\n"
   ]
  },
  {
   "cell_type": "code",
   "execution_count": 7,
   "metadata": {},
   "outputs": [
    {
     "name": "stdout",
     "output_type": "stream",
     "text": [
      "Session(region_name='us-east-1')\n",
      "Session(region_name='us-east-1')\n",
      "us-east-1\n",
      "<sagemaker.session.Session object at 0x7f91e2241e10>\n",
      "my-508-projects\n",
      "<botocore.client.S3 object at 0x7f91e0ef6b10>\n"
     ]
    },
    {
     "data": {
      "text/plain": [
       "<botocore.client.S3 at 0x7f91e0895790>"
      ]
     },
     "execution_count": 7,
     "metadata": {},
     "output_type": "execute_result"
    }
   ],
   "source": [
    "import numpy as np\n",
    "import pandas as pd\n",
    "import matplotlib.pyplot as plt\n",
    "import boto3\n",
    "import boto3.session\n",
    "import sagemaker\n",
    "\n",
    "gcgs_sess = boto3.session.Session() # Create our own session\n",
    "gcgs_sess1 = boto3.Session() # MZ EXPERIMENT\n",
    "gcgs_region = gcgs_sess.region_name\n",
    "gcgs_sm_sess = sagemaker.Session(default_bucket=\"my-508-projects\") # Assigned variable with sagemaker resources available\n",
    "# ASSIGNED NEW DEFAULT BUCKET: \"my-508-projects\"\n",
    "gcgs_bucket = gcgs_sm_sess.default_bucket()\n",
    "\n",
    "s3 = boto3.Session().client(service_name=\"s3\", region_name=gcgs_region)\n",
    "s31 = gcgs_sess.client(service_name=\"s3\", region_name=gcgs_region) # MZ EXPERIMENT\n",
    "\n",
    "print(gcgs_sess)\n",
    "print(gcgs_sess1)\n",
    "print(gcgs_region)\n",
    "print(gcgs_sm_sess)\n",
    "print(gcgs_bucket)\n",
    "print(s3)\n",
    "s31"
   ]
  },
  {
   "cell_type": "code",
   "execution_count": 8,
   "metadata": {},
   "outputs": [],
   "source": [
    "# CODE FOR A DEFAULT SESSION\n",
    "# sqs = boto3.client('sqs')\n",
    "# s3 = boto3.resource('s3')\n",
    "\n",
    "# CODE TO CREATE OUR OWN SESSION (with low-level clients or resource clients from our custom session)\n",
    "# my_session = boto3.session.Session()\n",
    "# sqs = my_session.client('sqs')\n",
    "# s3 = my_session.resource('s3')"
   ]
  },
  {
   "cell_type": "code",
   "execution_count": 9,
   "metadata": {},
   "outputs": [],
   "source": [
    "setup_gcgs_s3_bucket_passed = False"
   ]
  },
  {
   "cell_type": "code",
   "execution_count": 10,
   "metadata": {},
   "outputs": [
    {
     "name": "stdout",
     "output_type": "stream",
     "text": [
      "Default bucket: my-508-projects\n"
     ]
    }
   ],
   "source": [
    "print(\"Default bucket: {}\".format(gcgs_bucket))"
   ]
  },
  {
   "cell_type": "markdown",
   "metadata": {},
   "source": [
    "# Verify S3_BUCKET Bucket Creation"
   ]
  },
  {
   "cell_type": "code",
   "execution_count": 11,
   "metadata": {},
   "outputs": [
    {
     "name": "stdout",
     "output_type": "stream",
     "text": [
      "2022-03-08 03:01:48 my-508-projects\n",
      "2022-03-08 00:33:27 sagemaker-studio-850528502467-y0t6ilm83y9\n",
      "2022-03-03 23:09:20 sagemaker-us-east-1-850528502467\n"
     ]
    }
   ],
   "source": [
    "%%bash\n",
    "\n",
    "aws s3 ls s3://${bucket}/  # CLI command to list S3 buckets"
   ]
  },
  {
   "cell_type": "code",
   "execution_count": 12,
   "metadata": {},
   "outputs": [
    {
     "name": "stdout",
     "output_type": "stream",
     "text": [
      "{'ResponseMetadata': {'RequestId': 'H9HCQN02Q25MVTV3', 'HostId': '9TevGfLZqbgLQ/xbMzO/eDdgry1XbEe32p+miTLOi1HuUczTwFwGD8TtYfB5dKj0QdM/MtyYDoc=', 'HTTPStatusCode': 200, 'HTTPHeaders': {'x-amz-id-2': '9TevGfLZqbgLQ/xbMzO/eDdgry1XbEe32p+miTLOi1HuUczTwFwGD8TtYfB5dKj0QdM/MtyYDoc=', 'x-amz-request-id': 'H9HCQN02Q25MVTV3', 'date': 'Tue, 15 Mar 2022 04:15:28 GMT', 'x-amz-bucket-region': 'us-east-1', 'x-amz-access-point-alias': 'false', 'content-type': 'application/xml', 'server': 'AmazonS3'}, 'RetryAttempts': 0}}\n"
     ]
    }
   ],
   "source": [
    "from botocore.client import ClientError\n",
    "\n",
    "response = None\n",
    "\n",
    "try:\n",
    "    response = s3.head_bucket(Bucket=gcgs_bucket)\n",
    "    print(response)\n",
    "    setup_gcgs_s3_bucket_passed = True\n",
    "except ClientError as e:\n",
    "    print(\"[ERROR] Cannot find bucket {} in {} due to {}.\".format(gcgs_bucket, response, e))"
   ]
  },
  {
   "cell_type": "code",
   "execution_count": 13,
   "metadata": {},
   "outputs": [
    {
     "name": "stdout",
     "output_type": "stream",
     "text": [
      "Stored 'setup_gcgs_s3_bucket_passed' (bool)\n"
     ]
    }
   ],
   "source": [
    "%store setup_gcgs_s3_bucket_passed"
   ]
  },
  {
   "cell_type": "code",
   "execution_count": 14,
   "metadata": {},
   "outputs": [
    {
     "name": "stdout",
     "output_type": "stream",
     "text": [
      "Stored variables and their in-db values:\n",
      "auto_ml_job_name                           -> 'automl-dm-14-01-08-33'\n",
      "autopilot_endpoint_arn                     -> 'arn:aws:sagemaker:us-east-1:850528502467:endpoint\n",
      "autopilot_endpoint_name                    -> 'automl-dm-ep-14-03-53-31'\n",
      "autopilot_model_arn                        -> 'arn:aws:sagemaker:us-east-1:850528502467:model/au\n",
      "autopilot_model_name                       -> 'automl-dm-model-14-03-53-30'\n",
      "autopilot_train_s3_uri                     -> 's3://sagemaker-us-east-1-850528502467/data/amazon\n",
      "setup_dependencies_passed                  -> True\n",
      "setup_gcgs_dependencies_passed             -> True\n",
      "setup_gcgs_iam_roles_passed                -> True\n",
      "setup_gcgs_s3_bucket_passed                -> True\n",
      "setup_iam_roles_passed                     -> True\n",
      "setup_s3_bucket_passed                     -> True\n"
     ]
    }
   ],
   "source": [
    "%store \n",
    "# Note new variables stored for later"
   ]
  },
  {
   "cell_type": "markdown",
   "metadata": {},
   "source": [
    "# Update IAM Roles and Policies"
   ]
  },
  {
   "cell_type": "code",
   "execution_count": 15,
   "metadata": {},
   "outputs": [
    {
     "name": "stdout",
     "output_type": "stream",
     "text": [
      "<botocore.config.Config object at 0x7f91e086cd10>\n",
      "<botocore.client.IAM object at 0x7f91e0280d50>\n"
     ]
    }
   ],
   "source": [
    "import time\n",
    "from time import gmtime, strftime\n",
    "\n",
    "#sagemaker_session = sagemaker.Session()\n",
    "#bucket = sagemaker_session.default_bucket()\n",
    "#region = boto3.Session().region_name\n",
    "\n",
    "from botocore.config import Config\n",
    "config = Config(retries={\"max_attempts\": 10, \"mode\": \"adaptive\"})\n",
    "iam = boto3.client(\"iam\", config=config)\n",
    "print(config)\n",
    "print(iam)"
   ]
  },
  {
   "cell_type": "markdown",
   "metadata": {},
   "source": [
    "## Get SageMaker Execution Role Name"
   ]
  },
  {
   "cell_type": "code",
   "execution_count": 16,
   "metadata": {},
   "outputs": [
    {
     "name": "stdout",
     "output_type": "stream",
     "text": [
      "arn:aws:iam::850528502467:role/LabRole\n",
      "Role name: LabRole\n"
     ]
    }
   ],
   "source": [
    "role = sagemaker.get_execution_role()\n",
    "print(role)\n",
    "role_name = role.split(\"/\")[-1]\n",
    "print(\"Role name: {}\".format(role_name))"
   ]
  },
  {
   "cell_type": "code",
   "execution_count": 17,
   "metadata": {},
   "outputs": [],
   "source": [
    "setup_gcgs_iam_roles_passed = False"
   ]
  },
  {
   "cell_type": "markdown",
   "metadata": {},
   "source": [
    "# **Pre-Requisite:  SageMaker notebook instance ExecutionRole contains `AdministratorAccess` Policy.**\n",
    "_Note:  The permissions used here are for demonstration purposes only.  Please follow least-privilege security principals appropriate for your environment._"
   ]
  },
  {
   "cell_type": "code",
   "execution_count": 18,
   "metadata": {},
   "outputs": [
    {
     "name": "stdout",
     "output_type": "stream",
     "text": [
      "[{'PolicyName': 'c50727a768849l1711245t1w850528502467-VocLabPolicy1-2ET83KMVHOL2', 'PolicyArn': 'arn:aws:iam::850528502467:policy/c50727a768849l1711245t1w850528502467-VocLabPolicy1-2ET83KMVHOL2'}, {'PolicyName': 'c50727a768849l1711245t1w850528502467-VocLabPolicy2-1HMWW3L73VDPX', 'PolicyArn': 'arn:aws:iam::850528502467:policy/c50727a768849l1711245t1w850528502467-VocLabPolicy2-1HMWW3L73VDPX'}, {'PolicyName': 'c50727a768849l1711245t1w850528502467-VocLabPolicy3-16N7LPVUBPCK5', 'PolicyArn': 'arn:aws:iam::850528502467:policy/c50727a768849l1711245t1w850528502467-VocLabPolicy3-16N7LPVUBPCK5'}, {'PolicyName': 'IAMFullAccess', 'PolicyArn': 'arn:aws:iam::aws:policy/IAMFullAccess'}, {'PolicyName': 'AdministratorAccess', 'PolicyArn': 'arn:aws:iam::aws:policy/AdministratorAccess'}, {'PolicyName': 'AmazonSSMManagedInstanceCore', 'PolicyArn': 'arn:aws:iam::aws:policy/AmazonSSMManagedInstanceCore'}]\n",
      "*************** [ERROR] SageMakerExecutionRole needs the AdministratorAccess policy attached. *****************\n",
      "*************** [ERROR] SageMakerExecutionRole needs the AdministratorAccess policy attached. *****************\n",
      "*************** [ERROR] SageMakerExecutionRole needs the AdministratorAccess policy attached. *****************\n",
      "*************** [ERROR] SageMakerExecutionRole needs the AdministratorAccess policy attached. *****************\n",
      "[OK] You are all set up to continue with this workshop!\n"
     ]
    }
   ],
   "source": [
    "admin = False\n",
    "gcgs_post_policies = iam.list_attached_role_policies(RoleName=role_name)[\"AttachedPolicies\"]\n",
    "print(gcgs_post_policies)\n",
    "for post_policy in gcgs_post_policies:\n",
    "    if post_policy[\"PolicyName\"] == \"AdministratorAccess\":\n",
    "        admin = True\n",
    "        setup_gcgs_iam_roles_passed = True\n",
    "        print(\"[OK] You are all set up to continue with this workshop!\")\n",
    "        break\n",
    "    else:\n",
    "        print(\"*************** [ERROR] SageMakerExecutionRole needs the AdministratorAccess policy attached. *****************\")"
   ]
  },
  {
   "cell_type": "code",
   "execution_count": 19,
   "metadata": {},
   "outputs": [
    {
     "name": "stdout",
     "output_type": "stream",
     "text": [
      "Stored 'setup_gcgs_iam_roles_passed' (bool)\n"
     ]
    }
   ],
   "source": [
    "%store setup_gcgs_iam_roles_passed"
   ]
  },
  {
   "cell_type": "code",
   "execution_count": 20,
   "metadata": {},
   "outputs": [
    {
     "name": "stdout",
     "output_type": "stream",
     "text": [
      "Stored variables and their in-db values:\n",
      "auto_ml_job_name                           -> 'automl-dm-14-01-08-33'\n",
      "autopilot_endpoint_arn                     -> 'arn:aws:sagemaker:us-east-1:850528502467:endpoint\n",
      "autopilot_endpoint_name                    -> 'automl-dm-ep-14-03-53-31'\n",
      "autopilot_model_arn                        -> 'arn:aws:sagemaker:us-east-1:850528502467:model/au\n",
      "autopilot_model_name                       -> 'automl-dm-model-14-03-53-30'\n",
      "autopilot_train_s3_uri                     -> 's3://sagemaker-us-east-1-850528502467/data/amazon\n",
      "setup_dependencies_passed                  -> True\n",
      "setup_gcgs_dependencies_passed             -> True\n",
      "setup_gcgs_iam_roles_passed                -> True\n",
      "setup_gcgs_s3_bucket_passed                -> True\n",
      "setup_iam_roles_passed                     -> True\n",
      "setup_s3_bucket_passed                     -> True\n"
     ]
    }
   ],
   "source": [
    "%store"
   ]
  },
  {
   "cell_type": "markdown",
   "metadata": {},
   "source": [
    "# *Final Check*"
   ]
  },
  {
   "cell_type": "code",
   "execution_count": 21,
   "metadata": {},
   "outputs": [
    {
     "name": "stdout",
     "output_type": "stream",
     "text": [
      "[OK] You are all set up to continue with this workshop!\n"
     ]
    }
   ],
   "source": [
    "# role = iam.get_role(RoleName=role_name)\n",
    "post_policies = iam.list_attached_role_policies(RoleName=role_name)[\"AttachedPolicies\"]\n",
    "\n",
    "required_policies = [\n",
    "    \"AdministratorAccess\",\n",
    "#     \"SecretsManagerReadWrite\",\n",
    "#     \"IAMFullAccess\",\n",
    "#     \"AmazonS3FullAccess\",\n",
    "#     \"AmazonAthenaFullAccess\",\n",
    "#     \"ComprehendFullAccess\",\n",
    "#     \"AmazonEC2ContainerRegistryFullAccess\",\n",
    "#     \"AmazonRedshiftFullAccess\",\n",
    "#     \"AWSStepFunctionsFullAccess\",\n",
    "#     \"AmazonSageMakerFullAccess\",\n",
    "#     \"AmazonKinesisFullAccess\",\n",
    "#     \"AmazonKinesisFirehoseFullAccess\",\n",
    "#     \"AmazonKinesisAnalyticsFullAccess\",\n",
    "]\n",
    "\n",
    "admin = False\n",
    "\n",
    "for post_policy in post_policies:\n",
    "    if post_policy[\"PolicyName\"] == \"AdministratorAccess\":\n",
    "        admin = True\n",
    "        try:\n",
    "            required_policies.remove(post_policy[\"PolicyName\"])\n",
    "        except:\n",
    "            break\n",
    "    else:\n",
    "        try:\n",
    "            required_policies.remove(post_policy[\"PolicyName\"])\n",
    "        except:\n",
    "            pass\n",
    "\n",
    "if not admin and len(required_policies) > 0:\n",
    "    setup_gcgs_iam_roles_passed = False\n",
    "    print(\"*************** [ERROR] RE-RUN THIS NOTEBOOK *****************\")\n",
    "    for required_policy in required_policies:\n",
    "        print(\"Not Attached: {}\".format(required_policy))\n",
    "else:\n",
    "    setup_gcgs_iam_roles_passed = True\n",
    "    print(\"[OK] You are all set up to continue with this workshop!\")"
   ]
  },
  {
   "cell_type": "code",
   "execution_count": 22,
   "metadata": {},
   "outputs": [
    {
     "name": "stdout",
     "output_type": "stream",
     "text": [
      "Stored 'setup_gcgs_iam_roles_passed' (bool)\n"
     ]
    }
   ],
   "source": [
    "%store setup_gcgs_iam_roles_passed"
   ]
  },
  {
   "cell_type": "code",
   "execution_count": 23,
   "metadata": {},
   "outputs": [
    {
     "name": "stdout",
     "output_type": "stream",
     "text": [
      "Stored variables and their in-db values:\n",
      "auto_ml_job_name                           -> 'automl-dm-14-01-08-33'\n",
      "autopilot_endpoint_arn                     -> 'arn:aws:sagemaker:us-east-1:850528502467:endpoint\n",
      "autopilot_endpoint_name                    -> 'automl-dm-ep-14-03-53-31'\n",
      "autopilot_model_arn                        -> 'arn:aws:sagemaker:us-east-1:850528502467:model/au\n",
      "autopilot_model_name                       -> 'automl-dm-model-14-03-53-30'\n",
      "autopilot_train_s3_uri                     -> 's3://sagemaker-us-east-1-850528502467/data/amazon\n",
      "setup_dependencies_passed                  -> True\n",
      "setup_gcgs_dependencies_passed             -> True\n",
      "setup_gcgs_iam_roles_passed                -> True\n",
      "setup_gcgs_s3_bucket_passed                -> True\n",
      "setup_iam_roles_passed                     -> True\n",
      "setup_s3_bucket_passed                     -> True\n"
     ]
    }
   ],
   "source": [
    "%store"
   ]
  },
  {
   "cell_type": "markdown",
   "metadata": {},
   "source": [
    "# LOAD THE FILES FROM S3"
   ]
  },
  {
   "cell_type": "markdown",
   "metadata": {},
   "source": [
    "### Load the NDC files from Excel"
   ]
  },
  {
   "cell_type": "code",
   "execution_count": 24,
   "metadata": {},
   "outputs": [
    {
     "name": "stdout",
     "output_type": "stream",
     "text": [
      "download: s3://my-508-projects/ndc_excel.csv to data/ndc_excel.csv\n"
     ]
    }
   ],
   "source": [
    "!aws s3 cp 's3://my-508-projects/ndc_excel.csv' ./data/"
   ]
  },
  {
   "cell_type": "code",
   "execution_count": 25,
   "metadata": {},
   "outputs": [
    {
     "data": {
      "text/plain": [
       "(112259, 20)"
      ]
     },
     "execution_count": 25,
     "metadata": {},
     "output_type": "execute_result"
    }
   ],
   "source": [
    "import csv\n",
    "# Change from UTF-8 encoding required for Window Excel file (from Stack Exchange)\n",
    "ndc = pd.read_csv(\n",
    "    r\"./data/ndc_excel.csv\",\n",
    "    encoding = \"ISO-8859-1\",\n",
    "    engine = 'python'\n",
    "# delimiter=\"\\t\",\n",
    "# quoting=csv.QUOTE_NON##E,\n",
    "# compression=\"gzip\",\n",
    ")\n",
    "ndc.shape"
   ]
  },
  {
   "cell_type": "code",
   "execution_count": 26,
   "metadata": {},
   "outputs": [
    {
     "data": {
      "text/html": [
       "<div>\n",
       "<style scoped>\n",
       "    .dataframe tbody tr th:only-of-type {\n",
       "        vertical-align: middle;\n",
       "    }\n",
       "\n",
       "    .dataframe tbody tr th {\n",
       "        vertical-align: top;\n",
       "    }\n",
       "\n",
       "    .dataframe thead th {\n",
       "        text-align: right;\n",
       "    }\n",
       "</style>\n",
       "<table border=\"1\" class=\"dataframe\">\n",
       "  <thead>\n",
       "    <tr style=\"text-align: right;\">\n",
       "      <th></th>\n",
       "      <th>PRODUCTID</th>\n",
       "      <th>PRODUCTNDC</th>\n",
       "      <th>PRODUCTTYPENAME</th>\n",
       "      <th>PROPRIETARYNAME</th>\n",
       "      <th>PROPRIETARYNAMESUFFIX</th>\n",
       "      <th>NONPROPRIETARYNAME</th>\n",
       "      <th>DOSAGEFORMNAME</th>\n",
       "      <th>ROUTENAME</th>\n",
       "      <th>STARTMARKETINGDATE</th>\n",
       "      <th>ENDMARKETINGDATE</th>\n",
       "      <th>MARKETINGCATEGORYNAME</th>\n",
       "      <th>APPLICATIONNUMBER</th>\n",
       "      <th>LABELERNAME</th>\n",
       "      <th>SUBSTANCENAME</th>\n",
       "      <th>ACTIVE_NUMERATOR_STRENGTH</th>\n",
       "      <th>ACTIVE_INGRED_UNIT</th>\n",
       "      <th>PHARM_CLASSES</th>\n",
       "      <th>DEASCHEDULE</th>\n",
       "      <th>NDC_EXCLUDE_FLAG</th>\n",
       "      <th>LISTING_RECORD_CERTIFIED_THROUGH</th>\n",
       "    </tr>\n",
       "  </thead>\n",
       "  <tbody>\n",
       "    <tr>\n",
       "      <th>0</th>\n",
       "      <td>0002-0800_662164fd-5ea0-4a08-bfd1-6b08bdd73342</td>\n",
       "      <td>0002-0800</td>\n",
       "      <td>HUMAN OTC DRUG</td>\n",
       "      <td>Sterile Diluent</td>\n",
       "      <td>NaN</td>\n",
       "      <td>diluent</td>\n",
       "      <td>INJECTION, SOLUTION</td>\n",
       "      <td>SUBCUTANEOUS</td>\n",
       "      <td>19870710</td>\n",
       "      <td>NaN</td>\n",
       "      <td>BLA</td>\n",
       "      <td>BLA018781</td>\n",
       "      <td>Eli Lilly and Company</td>\n",
       "      <td>WATER</td>\n",
       "      <td>1</td>\n",
       "      <td>mL/mL</td>\n",
       "      <td>NaN</td>\n",
       "      <td>NaN</td>\n",
       "      <td>N</td>\n",
       "      <td>20221231.0</td>\n",
       "    </tr>\n",
       "    <tr>\n",
       "      <th>1</th>\n",
       "      <td>0002-1200_480fceef-6596-4478-97de-677c155506b3</td>\n",
       "      <td>0002-1200</td>\n",
       "      <td>HUMAN PRESCRIPTION DRUG</td>\n",
       "      <td>Amyvid</td>\n",
       "      <td>NaN</td>\n",
       "      <td>Florbetapir F 18</td>\n",
       "      <td>INJECTION, SOLUTION</td>\n",
       "      <td>INTRAVENOUS</td>\n",
       "      <td>20120601</td>\n",
       "      <td>NaN</td>\n",
       "      <td>NDA</td>\n",
       "      <td>NDA202008</td>\n",
       "      <td>Eli Lilly and Company</td>\n",
       "      <td>FLORBETAPIR F-18</td>\n",
       "      <td>51</td>\n",
       "      <td>mCi/mL</td>\n",
       "      <td>Positron Emitting Activity [MoA], Radioactive ...</td>\n",
       "      <td>NaN</td>\n",
       "      <td>N</td>\n",
       "      <td>20221231.0</td>\n",
       "    </tr>\n",
       "    <tr>\n",
       "      <th>2</th>\n",
       "      <td>0002-1210_151a431b-f07b-4959-b6fa-c41ff80364c8</td>\n",
       "      <td>0002-1210</td>\n",
       "      <td>HUMAN PRESCRIPTION DRUG</td>\n",
       "      <td>TAUVID</td>\n",
       "      <td>NaN</td>\n",
       "      <td>Flortaucipir F-18</td>\n",
       "      <td>INJECTION, SOLUTION</td>\n",
       "      <td>INTRAVENOUS</td>\n",
       "      <td>20200528</td>\n",
       "      <td>NaN</td>\n",
       "      <td>NDA</td>\n",
       "      <td>NDA212123</td>\n",
       "      <td>Eli Lilly and Company</td>\n",
       "      <td>FLORTAUCIPIR F-18</td>\n",
       "      <td>51</td>\n",
       "      <td>mCi/mL</td>\n",
       "      <td>NaN</td>\n",
       "      <td>NaN</td>\n",
       "      <td>N</td>\n",
       "      <td>20221231.0</td>\n",
       "    </tr>\n",
       "    <tr>\n",
       "      <th>3</th>\n",
       "      <td>0002-1433_69bd3896-91f6-4960-8538-2880159588c6</td>\n",
       "      <td>0002-1433</td>\n",
       "      <td>HUMAN PRESCRIPTION DRUG</td>\n",
       "      <td>Trulicity</td>\n",
       "      <td>NaN</td>\n",
       "      <td>Dulaglutide</td>\n",
       "      <td>INJECTION, SOLUTION</td>\n",
       "      <td>SUBCUTANEOUS</td>\n",
       "      <td>20140918</td>\n",
       "      <td>NaN</td>\n",
       "      <td>BLA</td>\n",
       "      <td>BLA125469</td>\n",
       "      <td>Eli Lilly and Company</td>\n",
       "      <td>DULAGLUTIDE</td>\n",
       "      <td>0.75</td>\n",
       "      <td>mg/.5mL</td>\n",
       "      <td>GLP-1 Receptor Agonist [EPC], Glucagon-Like Pe...</td>\n",
       "      <td>NaN</td>\n",
       "      <td>N</td>\n",
       "      <td>20231231.0</td>\n",
       "    </tr>\n",
       "    <tr>\n",
       "      <th>4</th>\n",
       "      <td>0002-1434_69bd3896-91f6-4960-8538-2880159588c6</td>\n",
       "      <td>0002-1434</td>\n",
       "      <td>HUMAN PRESCRIPTION DRUG</td>\n",
       "      <td>Trulicity</td>\n",
       "      <td>NaN</td>\n",
       "      <td>Dulaglutide</td>\n",
       "      <td>INJECTION, SOLUTION</td>\n",
       "      <td>SUBCUTANEOUS</td>\n",
       "      <td>20140918</td>\n",
       "      <td>NaN</td>\n",
       "      <td>BLA</td>\n",
       "      <td>BLA125469</td>\n",
       "      <td>Eli Lilly and Company</td>\n",
       "      <td>DULAGLUTIDE</td>\n",
       "      <td>1.5</td>\n",
       "      <td>mg/.5mL</td>\n",
       "      <td>GLP-1 Receptor Agonist [EPC], Glucagon-Like Pe...</td>\n",
       "      <td>NaN</td>\n",
       "      <td>N</td>\n",
       "      <td>20231231.0</td>\n",
       "    </tr>\n",
       "  </tbody>\n",
       "</table>\n",
       "</div>"
      ],
      "text/plain": [
       "                                        PRODUCTID PRODUCTNDC  \\\n",
       "0  0002-0800_662164fd-5ea0-4a08-bfd1-6b08bdd73342  0002-0800   \n",
       "1  0002-1200_480fceef-6596-4478-97de-677c155506b3  0002-1200   \n",
       "2  0002-1210_151a431b-f07b-4959-b6fa-c41ff80364c8  0002-1210   \n",
       "3  0002-1433_69bd3896-91f6-4960-8538-2880159588c6  0002-1433   \n",
       "4  0002-1434_69bd3896-91f6-4960-8538-2880159588c6  0002-1434   \n",
       "\n",
       "           PRODUCTTYPENAME  PROPRIETARYNAME PROPRIETARYNAMESUFFIX  \\\n",
       "0           HUMAN OTC DRUG  Sterile Diluent                   NaN   \n",
       "1  HUMAN PRESCRIPTION DRUG           Amyvid                   NaN   \n",
       "2  HUMAN PRESCRIPTION DRUG           TAUVID                   NaN   \n",
       "3  HUMAN PRESCRIPTION DRUG        Trulicity                   NaN   \n",
       "4  HUMAN PRESCRIPTION DRUG        Trulicity                   NaN   \n",
       "\n",
       "  NONPROPRIETARYNAME       DOSAGEFORMNAME     ROUTENAME  STARTMARKETINGDATE  \\\n",
       "0            diluent  INJECTION, SOLUTION  SUBCUTANEOUS            19870710   \n",
       "1   Florbetapir F 18  INJECTION, SOLUTION   INTRAVENOUS            20120601   \n",
       "2  Flortaucipir F-18  INJECTION, SOLUTION   INTRAVENOUS            20200528   \n",
       "3        Dulaglutide  INJECTION, SOLUTION  SUBCUTANEOUS            20140918   \n",
       "4        Dulaglutide  INJECTION, SOLUTION  SUBCUTANEOUS            20140918   \n",
       "\n",
       "   ENDMARKETINGDATE MARKETINGCATEGORYNAME APPLICATIONNUMBER  \\\n",
       "0               NaN                   BLA         BLA018781   \n",
       "1               NaN                   NDA         NDA202008   \n",
       "2               NaN                   NDA         NDA212123   \n",
       "3               NaN                   BLA         BLA125469   \n",
       "4               NaN                   BLA         BLA125469   \n",
       "\n",
       "             LABELERNAME      SUBSTANCENAME ACTIVE_NUMERATOR_STRENGTH  \\\n",
       "0  Eli Lilly and Company              WATER                         1   \n",
       "1  Eli Lilly and Company   FLORBETAPIR F-18                        51   \n",
       "2  Eli Lilly and Company  FLORTAUCIPIR F-18                        51   \n",
       "3  Eli Lilly and Company        DULAGLUTIDE                      0.75   \n",
       "4  Eli Lilly and Company        DULAGLUTIDE                       1.5   \n",
       "\n",
       "  ACTIVE_INGRED_UNIT                                      PHARM_CLASSES  \\\n",
       "0              mL/mL                                                NaN   \n",
       "1             mCi/mL  Positron Emitting Activity [MoA], Radioactive ...   \n",
       "2             mCi/mL                                                NaN   \n",
       "3            mg/.5mL  GLP-1 Receptor Agonist [EPC], Glucagon-Like Pe...   \n",
       "4            mg/.5mL  GLP-1 Receptor Agonist [EPC], Glucagon-Like Pe...   \n",
       "\n",
       "  DEASCHEDULE NDC_EXCLUDE_FLAG  LISTING_RECORD_CERTIFIED_THROUGH  \n",
       "0         NaN                N                        20221231.0  \n",
       "1         NaN                N                        20221231.0  \n",
       "2         NaN                N                        20221231.0  \n",
       "3         NaN                N                        20231231.0  \n",
       "4         NaN                N                        20231231.0  "
      ]
     },
     "execution_count": 26,
     "metadata": {},
     "output_type": "execute_result"
    }
   ],
   "source": [
    "ndc.head(5)"
   ]
  },
  {
   "cell_type": "markdown",
   "metadata": {},
   "source": [
    "### Load the CMS Drug File"
   ]
  },
  {
   "cell_type": "code",
   "execution_count": 27,
   "metadata": {},
   "outputs": [
    {
     "name": "stdout",
     "output_type": "stream",
     "text": [
      "download: s3://my-508-projects/DE1_0_2008_to_2010_Prescription_Drug_Events_Sample_2.zip to data/DE1_0_2008_to_2010_Prescription_Drug_Events_Sample_2.zip\n"
     ]
    }
   ],
   "source": [
    "!aws s3 cp 's3://my-508-projects/DE1_0_2008_to_2010_Prescription_Drug_Events_Sample_2.zip' ./data/"
   ]
  },
  {
   "cell_type": "code",
   "execution_count": 37,
   "metadata": {},
   "outputs": [
    {
     "name": "stderr",
     "output_type": "stream",
     "text": [
      "/opt/conda/lib/python3.7/site-packages/IPython/core/interactiveshell.py:3331: DtypeWarning: Columns (3) have mixed types.Specify dtype option on import or set low_memory=False.\n",
      "  exec(code_obj, self.user_global_ns, self.user_ns)\n"
     ]
    },
    {
     "data": {
      "text/plain": [
       "(5561154, 8)"
      ]
     },
     "execution_count": 37,
     "metadata": {},
     "output_type": "execute_result"
    }
   ],
   "source": [
    "import csv\n",
    "# Change from UTF-8 encoding required for Window Excel file (from Stack Exchange)\n",
    "drug_file = pd.read_csv(\n",
    "    r\"./data/DE1_0_2008_to_2010_Prescription_Drug_Events_Sample_2.zip\",\n",
    "#encoding = \"ISO-8859-1\",\n",
    "#engine = 'python'\n",
    "# delimiter=\"\\t\",\n",
    "# quoting=csv.QUOTE_NON##E,\n",
    "    compression=\"zip\"\n",
    ")\n",
    "drug_file.shape"
   ]
  },
  {
   "cell_type": "code",
   "execution_count": 29,
   "metadata": {},
   "outputs": [
    {
     "data": {
      "text/html": [
       "<div>\n",
       "<style scoped>\n",
       "    .dataframe tbody tr th:only-of-type {\n",
       "        vertical-align: middle;\n",
       "    }\n",
       "\n",
       "    .dataframe tbody tr th {\n",
       "        vertical-align: top;\n",
       "    }\n",
       "\n",
       "    .dataframe thead th {\n",
       "        text-align: right;\n",
       "    }\n",
       "</style>\n",
       "<table border=\"1\" class=\"dataframe\">\n",
       "  <thead>\n",
       "    <tr style=\"text-align: right;\">\n",
       "      <th></th>\n",
       "      <th>DESYNPUF_ID</th>\n",
       "      <th>PDE_ID</th>\n",
       "      <th>SRVC_DT</th>\n",
       "      <th>PROD_SRVC_ID</th>\n",
       "      <th>QTY_DSPNSD_NUM</th>\n",
       "      <th>DAYS_SUPLY_NUM</th>\n",
       "      <th>PTNT_PAY_AMT</th>\n",
       "      <th>TOT_RX_CST_AMT</th>\n",
       "    </tr>\n",
       "  </thead>\n",
       "  <tbody>\n",
       "    <tr>\n",
       "      <th>0</th>\n",
       "      <td>00000B48BCF4AD29</td>\n",
       "      <td>83224466404678</td>\n",
       "      <td>20100207</td>\n",
       "      <td>185010401</td>\n",
       "      <td>30.0</td>\n",
       "      <td>30</td>\n",
       "      <td>0.0</td>\n",
       "      <td>10.0</td>\n",
       "    </tr>\n",
       "    <tr>\n",
       "      <th>1</th>\n",
       "      <td>00000B48BCF4AD29</td>\n",
       "      <td>83654467130740</td>\n",
       "      <td>20100312</td>\n",
       "      <td>115163303</td>\n",
       "      <td>100.0</td>\n",
       "      <td>30</td>\n",
       "      <td>0.0</td>\n",
       "      <td>30.0</td>\n",
       "    </tr>\n",
       "    <tr>\n",
       "      <th>2</th>\n",
       "      <td>00000B48BCF4AD29</td>\n",
       "      <td>83574462630098</td>\n",
       "      <td>20100421</td>\n",
       "      <td>117193205</td>\n",
       "      <td>20.0</td>\n",
       "      <td>20</td>\n",
       "      <td>0.0</td>\n",
       "      <td>160.0</td>\n",
       "    </tr>\n",
       "    <tr>\n",
       "      <th>3</th>\n",
       "      <td>00000B48BCF4AD29</td>\n",
       "      <td>83734462622581</td>\n",
       "      <td>20100427</td>\n",
       "      <td>19458016707</td>\n",
       "      <td>30.0</td>\n",
       "      <td>30</td>\n",
       "      <td>10.0</td>\n",
       "      <td>0.0</td>\n",
       "    </tr>\n",
       "    <tr>\n",
       "      <th>4</th>\n",
       "      <td>00000B48BCF4AD29</td>\n",
       "      <td>83594462991534</td>\n",
       "      <td>20100611</td>\n",
       "      <td>59746011109</td>\n",
       "      <td>30.0</td>\n",
       "      <td>30</td>\n",
       "      <td>0.0</td>\n",
       "      <td>0.0</td>\n",
       "    </tr>\n",
       "  </tbody>\n",
       "</table>\n",
       "</div>"
      ],
      "text/plain": [
       "        DESYNPUF_ID          PDE_ID   SRVC_DT PROD_SRVC_ID  QTY_DSPNSD_NUM  \\\n",
       "0  00000B48BCF4AD29  83224466404678  20100207    185010401            30.0   \n",
       "1  00000B48BCF4AD29  83654467130740  20100312    115163303           100.0   \n",
       "2  00000B48BCF4AD29  83574462630098  20100421    117193205            20.0   \n",
       "3  00000B48BCF4AD29  83734462622581  20100427  19458016707            30.0   \n",
       "4  00000B48BCF4AD29  83594462991534  20100611  59746011109            30.0   \n",
       "\n",
       "   DAYS_SUPLY_NUM  PTNT_PAY_AMT  TOT_RX_CST_AMT  \n",
       "0              30           0.0            10.0  \n",
       "1              30           0.0            30.0  \n",
       "2              20           0.0           160.0  \n",
       "3              30          10.0             0.0  \n",
       "4              30           0.0             0.0  "
      ]
     },
     "execution_count": 29,
     "metadata": {},
     "output_type": "execute_result"
    }
   ],
   "source": [
    "drug_file.head(5)"
   ]
  },
  {
   "cell_type": "markdown",
   "metadata": {},
   "source": [
    "### Load the 3 Beneficiary Files"
   ]
  },
  {
   "cell_type": "code",
   "execution_count": 30,
   "metadata": {},
   "outputs": [
    {
     "name": "stdout",
     "output_type": "stream",
     "text": [
      "download: s3://my-508-projects/176589_DE1_0_2008_Beneficiary_Summary_File_Sample_2.zip to data/176589_DE1_0_2008_Beneficiary_Summary_File_Sample_2.zip\n",
      "download: s3://my-508-projects/176629_DE1_0_2009_Beneficiary_Summary_File_Sample_2.zip to data/176629_DE1_0_2009_Beneficiary_Summary_File_Sample_2.zip\n",
      "download: s3://my-508-projects/176581_DE1_0_2010_Beneficiary_Summary_File_Sample_2.zip to data/176581_DE1_0_2010_Beneficiary_Summary_File_Sample_2.zip\n"
     ]
    }
   ],
   "source": [
    "!aws s3 cp 's3://my-508-projects/176589_DE1_0_2008_Beneficiary_Summary_File_Sample_2.zip' ./data/\n",
    "!aws s3 cp 's3://my-508-projects/176629_DE1_0_2009_Beneficiary_Summary_File_Sample_2.zip' ./data/\n",
    "!aws s3 cp 's3://my-508-projects/176581_DE1_0_2010_Beneficiary_Summary_File_Sample_2.zip' ./data/"
   ]
  },
  {
   "cell_type": "code",
   "execution_count": 31,
   "metadata": {},
   "outputs": [
    {
     "data": {
      "text/plain": [
       "(116395, 32)"
      ]
     },
     "execution_count": 31,
     "metadata": {},
     "output_type": "execute_result"
    }
   ],
   "source": [
    "ben_2008 = pd.read_csv(\n",
    "    r\"./data/176589_DE1_0_2008_Beneficiary_Summary_File_Sample_2.zip\",\n",
    "    compression=\"zip\"\n",
    ")\n",
    "ben_2008.shape"
   ]
  },
  {
   "cell_type": "code",
   "execution_count": 32,
   "metadata": {},
   "outputs": [
    {
     "data": {
      "text/html": [
       "<div>\n",
       "<style scoped>\n",
       "    .dataframe tbody tr th:only-of-type {\n",
       "        vertical-align: middle;\n",
       "    }\n",
       "\n",
       "    .dataframe tbody tr th {\n",
       "        vertical-align: top;\n",
       "    }\n",
       "\n",
       "    .dataframe thead th {\n",
       "        text-align: right;\n",
       "    }\n",
       "</style>\n",
       "<table border=\"1\" class=\"dataframe\">\n",
       "  <thead>\n",
       "    <tr style=\"text-align: right;\">\n",
       "      <th></th>\n",
       "      <th>DESYNPUF_ID</th>\n",
       "      <th>BENE_BIRTH_DT</th>\n",
       "      <th>BENE_DEATH_DT</th>\n",
       "      <th>BENE_SEX_IDENT_CD</th>\n",
       "      <th>BENE_RACE_CD</th>\n",
       "      <th>BENE_ESRD_IND</th>\n",
       "      <th>SP_STATE_CODE</th>\n",
       "      <th>BENE_COUNTY_CD</th>\n",
       "      <th>BENE_HI_CVRAGE_TOT_MONS</th>\n",
       "      <th>BENE_SMI_CVRAGE_TOT_MONS</th>\n",
       "      <th>...</th>\n",
       "      <th>SP_STRKETIA</th>\n",
       "      <th>MEDREIMB_IP</th>\n",
       "      <th>BENRES_IP</th>\n",
       "      <th>PPPYMT_IP</th>\n",
       "      <th>MEDREIMB_OP</th>\n",
       "      <th>BENRES_OP</th>\n",
       "      <th>PPPYMT_OP</th>\n",
       "      <th>MEDREIMB_CAR</th>\n",
       "      <th>BENRES_CAR</th>\n",
       "      <th>PPPYMT_CAR</th>\n",
       "    </tr>\n",
       "  </thead>\n",
       "  <tbody>\n",
       "    <tr>\n",
       "      <th>0</th>\n",
       "      <td>00000B48BCF4AD29</td>\n",
       "      <td>19230901</td>\n",
       "      <td>NaN</td>\n",
       "      <td>2</td>\n",
       "      <td>5</td>\n",
       "      <td>0</td>\n",
       "      <td>10</td>\n",
       "      <td>260</td>\n",
       "      <td>12</td>\n",
       "      <td>12</td>\n",
       "      <td>...</td>\n",
       "      <td>1</td>\n",
       "      <td>81000.0</td>\n",
       "      <td>3072.0</td>\n",
       "      <td>0.0</td>\n",
       "      <td>1520.0</td>\n",
       "      <td>80.0</td>\n",
       "      <td>0.0</td>\n",
       "      <td>6260.0</td>\n",
       "      <td>1520.0</td>\n",
       "      <td>0.0</td>\n",
       "    </tr>\n",
       "    <tr>\n",
       "      <th>1</th>\n",
       "      <td>0000525AB30E4DEF</td>\n",
       "      <td>19201001</td>\n",
       "      <td>NaN</td>\n",
       "      <td>2</td>\n",
       "      <td>1</td>\n",
       "      <td>0</td>\n",
       "      <td>31</td>\n",
       "      <td>300</td>\n",
       "      <td>12</td>\n",
       "      <td>12</td>\n",
       "      <td>...</td>\n",
       "      <td>1</td>\n",
       "      <td>13260.0</td>\n",
       "      <td>2048.0</td>\n",
       "      <td>0.0</td>\n",
       "      <td>1760.0</td>\n",
       "      <td>670.0</td>\n",
       "      <td>0.0</td>\n",
       "      <td>3830.0</td>\n",
       "      <td>1010.0</td>\n",
       "      <td>50.0</td>\n",
       "    </tr>\n",
       "    <tr>\n",
       "      <th>2</th>\n",
       "      <td>00009C897C3D8372</td>\n",
       "      <td>19320101</td>\n",
       "      <td>NaN</td>\n",
       "      <td>1</td>\n",
       "      <td>1</td>\n",
       "      <td>Y</td>\n",
       "      <td>7</td>\n",
       "      <td>70</td>\n",
       "      <td>12</td>\n",
       "      <td>12</td>\n",
       "      <td>...</td>\n",
       "      <td>2</td>\n",
       "      <td>37500.0</td>\n",
       "      <td>4096.0</td>\n",
       "      <td>0.0</td>\n",
       "      <td>100.0</td>\n",
       "      <td>160.0</td>\n",
       "      <td>0.0</td>\n",
       "      <td>1540.0</td>\n",
       "      <td>280.0</td>\n",
       "      <td>60.0</td>\n",
       "    </tr>\n",
       "    <tr>\n",
       "      <th>3</th>\n",
       "      <td>0001168CE43BE51B</td>\n",
       "      <td>19340901</td>\n",
       "      <td>NaN</td>\n",
       "      <td>2</td>\n",
       "      <td>1</td>\n",
       "      <td>0</td>\n",
       "      <td>6</td>\n",
       "      <td>200</td>\n",
       "      <td>12</td>\n",
       "      <td>12</td>\n",
       "      <td>...</td>\n",
       "      <td>2</td>\n",
       "      <td>0.0</td>\n",
       "      <td>0.0</td>\n",
       "      <td>0.0</td>\n",
       "      <td>0.0</td>\n",
       "      <td>0.0</td>\n",
       "      <td>0.0</td>\n",
       "      <td>0.0</td>\n",
       "      <td>0.0</td>\n",
       "      <td>0.0</td>\n",
       "    </tr>\n",
       "    <tr>\n",
       "      <th>4</th>\n",
       "      <td>0002E494BC87CE10</td>\n",
       "      <td>19140701</td>\n",
       "      <td>NaN</td>\n",
       "      <td>1</td>\n",
       "      <td>2</td>\n",
       "      <td>0</td>\n",
       "      <td>5</td>\n",
       "      <td>200</td>\n",
       "      <td>2</td>\n",
       "      <td>2</td>\n",
       "      <td>...</td>\n",
       "      <td>2</td>\n",
       "      <td>0.0</td>\n",
       "      <td>0.0</td>\n",
       "      <td>0.0</td>\n",
       "      <td>0.0</td>\n",
       "      <td>0.0</td>\n",
       "      <td>0.0</td>\n",
       "      <td>0.0</td>\n",
       "      <td>0.0</td>\n",
       "      <td>0.0</td>\n",
       "    </tr>\n",
       "  </tbody>\n",
       "</table>\n",
       "<p>5 rows × 32 columns</p>\n",
       "</div>"
      ],
      "text/plain": [
       "        DESYNPUF_ID  BENE_BIRTH_DT  BENE_DEATH_DT  BENE_SEX_IDENT_CD  \\\n",
       "0  00000B48BCF4AD29       19230901            NaN                  2   \n",
       "1  0000525AB30E4DEF       19201001            NaN                  2   \n",
       "2  00009C897C3D8372       19320101            NaN                  1   \n",
       "3  0001168CE43BE51B       19340901            NaN                  2   \n",
       "4  0002E494BC87CE10       19140701            NaN                  1   \n",
       "\n",
       "   BENE_RACE_CD BENE_ESRD_IND  SP_STATE_CODE  BENE_COUNTY_CD  \\\n",
       "0             5             0             10             260   \n",
       "1             1             0             31             300   \n",
       "2             1             Y              7              70   \n",
       "3             1             0              6             200   \n",
       "4             2             0              5             200   \n",
       "\n",
       "   BENE_HI_CVRAGE_TOT_MONS  BENE_SMI_CVRAGE_TOT_MONS  ...  SP_STRKETIA  \\\n",
       "0                       12                        12  ...            1   \n",
       "1                       12                        12  ...            1   \n",
       "2                       12                        12  ...            2   \n",
       "3                       12                        12  ...            2   \n",
       "4                        2                         2  ...            2   \n",
       "\n",
       "   MEDREIMB_IP  BENRES_IP  PPPYMT_IP  MEDREIMB_OP  BENRES_OP  PPPYMT_OP  \\\n",
       "0      81000.0     3072.0        0.0       1520.0       80.0        0.0   \n",
       "1      13260.0     2048.0        0.0       1760.0      670.0        0.0   \n",
       "2      37500.0     4096.0        0.0        100.0      160.0        0.0   \n",
       "3          0.0        0.0        0.0          0.0        0.0        0.0   \n",
       "4          0.0        0.0        0.0          0.0        0.0        0.0   \n",
       "\n",
       "   MEDREIMB_CAR  BENRES_CAR  PPPYMT_CAR  \n",
       "0        6260.0      1520.0         0.0  \n",
       "1        3830.0      1010.0        50.0  \n",
       "2        1540.0       280.0        60.0  \n",
       "3           0.0         0.0         0.0  \n",
       "4           0.0         0.0         0.0  \n",
       "\n",
       "[5 rows x 32 columns]"
      ]
     },
     "execution_count": 32,
     "metadata": {},
     "output_type": "execute_result"
    }
   ],
   "source": [
    "ben_2008.head(5)"
   ]
  },
  {
   "cell_type": "code",
   "execution_count": 33,
   "metadata": {},
   "outputs": [
    {
     "data": {
      "text/plain": [
       "(114618, 32)"
      ]
     },
     "execution_count": 33,
     "metadata": {},
     "output_type": "execute_result"
    }
   ],
   "source": [
    "ben_2009 = pd.read_csv(\n",
    "    r\"./data/176629_DE1_0_2009_Beneficiary_Summary_File_Sample_2.zip\",\n",
    "    compression=\"zip\"\n",
    ")\n",
    "ben_2009.shape"
   ]
  },
  {
   "cell_type": "code",
   "execution_count": 34,
   "metadata": {},
   "outputs": [
    {
     "data": {
      "text/html": [
       "<div>\n",
       "<style scoped>\n",
       "    .dataframe tbody tr th:only-of-type {\n",
       "        vertical-align: middle;\n",
       "    }\n",
       "\n",
       "    .dataframe tbody tr th {\n",
       "        vertical-align: top;\n",
       "    }\n",
       "\n",
       "    .dataframe thead th {\n",
       "        text-align: right;\n",
       "    }\n",
       "</style>\n",
       "<table border=\"1\" class=\"dataframe\">\n",
       "  <thead>\n",
       "    <tr style=\"text-align: right;\">\n",
       "      <th></th>\n",
       "      <th>DESYNPUF_ID</th>\n",
       "      <th>BENE_BIRTH_DT</th>\n",
       "      <th>BENE_DEATH_DT</th>\n",
       "      <th>BENE_SEX_IDENT_CD</th>\n",
       "      <th>BENE_RACE_CD</th>\n",
       "      <th>BENE_ESRD_IND</th>\n",
       "      <th>SP_STATE_CODE</th>\n",
       "      <th>BENE_COUNTY_CD</th>\n",
       "      <th>BENE_HI_CVRAGE_TOT_MONS</th>\n",
       "      <th>BENE_SMI_CVRAGE_TOT_MONS</th>\n",
       "      <th>...</th>\n",
       "      <th>SP_STRKETIA</th>\n",
       "      <th>MEDREIMB_IP</th>\n",
       "      <th>BENRES_IP</th>\n",
       "      <th>PPPYMT_IP</th>\n",
       "      <th>MEDREIMB_OP</th>\n",
       "      <th>BENRES_OP</th>\n",
       "      <th>PPPYMT_OP</th>\n",
       "      <th>MEDREIMB_CAR</th>\n",
       "      <th>BENRES_CAR</th>\n",
       "      <th>PPPYMT_CAR</th>\n",
       "    </tr>\n",
       "  </thead>\n",
       "  <tbody>\n",
       "    <tr>\n",
       "      <th>0</th>\n",
       "      <td>00000B48BCF4AD29</td>\n",
       "      <td>19230901</td>\n",
       "      <td>NaN</td>\n",
       "      <td>2</td>\n",
       "      <td>5</td>\n",
       "      <td>0</td>\n",
       "      <td>10</td>\n",
       "      <td>260</td>\n",
       "      <td>12</td>\n",
       "      <td>12</td>\n",
       "      <td>...</td>\n",
       "      <td>2</td>\n",
       "      <td>0.0</td>\n",
       "      <td>0.0</td>\n",
       "      <td>0.0</td>\n",
       "      <td>580.0</td>\n",
       "      <td>400.0</td>\n",
       "      <td>0.0</td>\n",
       "      <td>5720.0</td>\n",
       "      <td>1530.0</td>\n",
       "      <td>520.0</td>\n",
       "    </tr>\n",
       "    <tr>\n",
       "      <th>1</th>\n",
       "      <td>0000525AB30E4DEF</td>\n",
       "      <td>19201001</td>\n",
       "      <td>NaN</td>\n",
       "      <td>2</td>\n",
       "      <td>1</td>\n",
       "      <td>0</td>\n",
       "      <td>31</td>\n",
       "      <td>300</td>\n",
       "      <td>12</td>\n",
       "      <td>12</td>\n",
       "      <td>...</td>\n",
       "      <td>1</td>\n",
       "      <td>0.0</td>\n",
       "      <td>0.0</td>\n",
       "      <td>0.0</td>\n",
       "      <td>3380.0</td>\n",
       "      <td>1370.0</td>\n",
       "      <td>0.0</td>\n",
       "      <td>7970.0</td>\n",
       "      <td>2010.0</td>\n",
       "      <td>0.0</td>\n",
       "    </tr>\n",
       "    <tr>\n",
       "      <th>2</th>\n",
       "      <td>00009C897C3D8372</td>\n",
       "      <td>19320101</td>\n",
       "      <td>NaN</td>\n",
       "      <td>1</td>\n",
       "      <td>1</td>\n",
       "      <td>0</td>\n",
       "      <td>7</td>\n",
       "      <td>70</td>\n",
       "      <td>12</td>\n",
       "      <td>12</td>\n",
       "      <td>...</td>\n",
       "      <td>2</td>\n",
       "      <td>0.0</td>\n",
       "      <td>0.0</td>\n",
       "      <td>0.0</td>\n",
       "      <td>2250.0</td>\n",
       "      <td>230.0</td>\n",
       "      <td>0.0</td>\n",
       "      <td>900.0</td>\n",
       "      <td>210.0</td>\n",
       "      <td>0.0</td>\n",
       "    </tr>\n",
       "    <tr>\n",
       "      <th>3</th>\n",
       "      <td>0001168CE43BE51B</td>\n",
       "      <td>19340901</td>\n",
       "      <td>NaN</td>\n",
       "      <td>2</td>\n",
       "      <td>1</td>\n",
       "      <td>0</td>\n",
       "      <td>6</td>\n",
       "      <td>200</td>\n",
       "      <td>12</td>\n",
       "      <td>12</td>\n",
       "      <td>...</td>\n",
       "      <td>2</td>\n",
       "      <td>0.0</td>\n",
       "      <td>0.0</td>\n",
       "      <td>0.0</td>\n",
       "      <td>0.0</td>\n",
       "      <td>0.0</td>\n",
       "      <td>0.0</td>\n",
       "      <td>0.0</td>\n",
       "      <td>0.0</td>\n",
       "      <td>0.0</td>\n",
       "    </tr>\n",
       "    <tr>\n",
       "      <th>4</th>\n",
       "      <td>0002E494BC87CE10</td>\n",
       "      <td>19140701</td>\n",
       "      <td>NaN</td>\n",
       "      <td>1</td>\n",
       "      <td>2</td>\n",
       "      <td>0</td>\n",
       "      <td>5</td>\n",
       "      <td>200</td>\n",
       "      <td>12</td>\n",
       "      <td>12</td>\n",
       "      <td>...</td>\n",
       "      <td>2</td>\n",
       "      <td>0.0</td>\n",
       "      <td>0.0</td>\n",
       "      <td>0.0</td>\n",
       "      <td>0.0</td>\n",
       "      <td>0.0</td>\n",
       "      <td>0.0</td>\n",
       "      <td>0.0</td>\n",
       "      <td>0.0</td>\n",
       "      <td>0.0</td>\n",
       "    </tr>\n",
       "  </tbody>\n",
       "</table>\n",
       "<p>5 rows × 32 columns</p>\n",
       "</div>"
      ],
      "text/plain": [
       "        DESYNPUF_ID  BENE_BIRTH_DT  BENE_DEATH_DT  BENE_SEX_IDENT_CD  \\\n",
       "0  00000B48BCF4AD29       19230901            NaN                  2   \n",
       "1  0000525AB30E4DEF       19201001            NaN                  2   \n",
       "2  00009C897C3D8372       19320101            NaN                  1   \n",
       "3  0001168CE43BE51B       19340901            NaN                  2   \n",
       "4  0002E494BC87CE10       19140701            NaN                  1   \n",
       "\n",
       "   BENE_RACE_CD BENE_ESRD_IND  SP_STATE_CODE  BENE_COUNTY_CD  \\\n",
       "0             5             0             10             260   \n",
       "1             1             0             31             300   \n",
       "2             1             0              7              70   \n",
       "3             1             0              6             200   \n",
       "4             2             0              5             200   \n",
       "\n",
       "   BENE_HI_CVRAGE_TOT_MONS  BENE_SMI_CVRAGE_TOT_MONS  ...  SP_STRKETIA  \\\n",
       "0                       12                        12  ...            2   \n",
       "1                       12                        12  ...            1   \n",
       "2                       12                        12  ...            2   \n",
       "3                       12                        12  ...            2   \n",
       "4                       12                        12  ...            2   \n",
       "\n",
       "   MEDREIMB_IP  BENRES_IP  PPPYMT_IP  MEDREIMB_OP  BENRES_OP  PPPYMT_OP  \\\n",
       "0          0.0        0.0        0.0        580.0      400.0        0.0   \n",
       "1          0.0        0.0        0.0       3380.0     1370.0        0.0   \n",
       "2          0.0        0.0        0.0       2250.0      230.0        0.0   \n",
       "3          0.0        0.0        0.0          0.0        0.0        0.0   \n",
       "4          0.0        0.0        0.0          0.0        0.0        0.0   \n",
       "\n",
       "   MEDREIMB_CAR  BENRES_CAR  PPPYMT_CAR  \n",
       "0        5720.0      1530.0       520.0  \n",
       "1        7970.0      2010.0         0.0  \n",
       "2         900.0       210.0         0.0  \n",
       "3           0.0         0.0         0.0  \n",
       "4           0.0         0.0         0.0  \n",
       "\n",
       "[5 rows x 32 columns]"
      ]
     },
     "execution_count": 34,
     "metadata": {},
     "output_type": "execute_result"
    }
   ],
   "source": [
    "ben_2009.head(5)"
   ]
  },
  {
   "cell_type": "code",
   "execution_count": 35,
   "metadata": {},
   "outputs": [
    {
     "data": {
      "text/plain": [
       "(112845, 32)"
      ]
     },
     "execution_count": 35,
     "metadata": {},
     "output_type": "execute_result"
    }
   ],
   "source": [
    "ben_2010 = pd.read_csv(\n",
    "    r\"./data/176581_DE1_0_2010_Beneficiary_Summary_File_Sample_2.zip\",\n",
    "    compression=\"zip\"\n",
    ")\n",
    "ben_2010.shape"
   ]
  },
  {
   "cell_type": "code",
   "execution_count": 36,
   "metadata": {},
   "outputs": [
    {
     "data": {
      "text/html": [
       "<div>\n",
       "<style scoped>\n",
       "    .dataframe tbody tr th:only-of-type {\n",
       "        vertical-align: middle;\n",
       "    }\n",
       "\n",
       "    .dataframe tbody tr th {\n",
       "        vertical-align: top;\n",
       "    }\n",
       "\n",
       "    .dataframe thead th {\n",
       "        text-align: right;\n",
       "    }\n",
       "</style>\n",
       "<table border=\"1\" class=\"dataframe\">\n",
       "  <thead>\n",
       "    <tr style=\"text-align: right;\">\n",
       "      <th></th>\n",
       "      <th>DESYNPUF_ID</th>\n",
       "      <th>BENE_BIRTH_DT</th>\n",
       "      <th>BENE_DEATH_DT</th>\n",
       "      <th>BENE_SEX_IDENT_CD</th>\n",
       "      <th>BENE_RACE_CD</th>\n",
       "      <th>BENE_ESRD_IND</th>\n",
       "      <th>SP_STATE_CODE</th>\n",
       "      <th>BENE_COUNTY_CD</th>\n",
       "      <th>BENE_HI_CVRAGE_TOT_MONS</th>\n",
       "      <th>BENE_SMI_CVRAGE_TOT_MONS</th>\n",
       "      <th>...</th>\n",
       "      <th>SP_STRKETIA</th>\n",
       "      <th>MEDREIMB_IP</th>\n",
       "      <th>BENRES_IP</th>\n",
       "      <th>PPPYMT_IP</th>\n",
       "      <th>MEDREIMB_OP</th>\n",
       "      <th>BENRES_OP</th>\n",
       "      <th>PPPYMT_OP</th>\n",
       "      <th>MEDREIMB_CAR</th>\n",
       "      <th>BENRES_CAR</th>\n",
       "      <th>PPPYMT_CAR</th>\n",
       "    </tr>\n",
       "  </thead>\n",
       "  <tbody>\n",
       "    <tr>\n",
       "      <th>0</th>\n",
       "      <td>00000B48BCF4AD29</td>\n",
       "      <td>19230901</td>\n",
       "      <td>NaN</td>\n",
       "      <td>2</td>\n",
       "      <td>5</td>\n",
       "      <td>Y</td>\n",
       "      <td>10</td>\n",
       "      <td>260</td>\n",
       "      <td>12</td>\n",
       "      <td>12</td>\n",
       "      <td>...</td>\n",
       "      <td>2</td>\n",
       "      <td>0.0</td>\n",
       "      <td>0.0</td>\n",
       "      <td>0.0</td>\n",
       "      <td>600.0</td>\n",
       "      <td>30.0</td>\n",
       "      <td>0.0</td>\n",
       "      <td>3800.0</td>\n",
       "      <td>1460.0</td>\n",
       "      <td>0.0</td>\n",
       "    </tr>\n",
       "    <tr>\n",
       "      <th>1</th>\n",
       "      <td>0000525AB30E4DEF</td>\n",
       "      <td>19201001</td>\n",
       "      <td>NaN</td>\n",
       "      <td>2</td>\n",
       "      <td>1</td>\n",
       "      <td>0</td>\n",
       "      <td>31</td>\n",
       "      <td>300</td>\n",
       "      <td>12</td>\n",
       "      <td>12</td>\n",
       "      <td>...</td>\n",
       "      <td>2</td>\n",
       "      <td>0.0</td>\n",
       "      <td>0.0</td>\n",
       "      <td>0.0</td>\n",
       "      <td>240.0</td>\n",
       "      <td>190.0</td>\n",
       "      <td>0.0</td>\n",
       "      <td>440.0</td>\n",
       "      <td>60.0</td>\n",
       "      <td>0.0</td>\n",
       "    </tr>\n",
       "    <tr>\n",
       "      <th>2</th>\n",
       "      <td>00009C897C3D8372</td>\n",
       "      <td>19320101</td>\n",
       "      <td>NaN</td>\n",
       "      <td>1</td>\n",
       "      <td>1</td>\n",
       "      <td>0</td>\n",
       "      <td>7</td>\n",
       "      <td>70</td>\n",
       "      <td>12</td>\n",
       "      <td>12</td>\n",
       "      <td>...</td>\n",
       "      <td>2</td>\n",
       "      <td>0.0</td>\n",
       "      <td>0.0</td>\n",
       "      <td>0.0</td>\n",
       "      <td>210.0</td>\n",
       "      <td>160.0</td>\n",
       "      <td>0.0</td>\n",
       "      <td>580.0</td>\n",
       "      <td>250.0</td>\n",
       "      <td>0.0</td>\n",
       "    </tr>\n",
       "    <tr>\n",
       "      <th>3</th>\n",
       "      <td>0001168CE43BE51B</td>\n",
       "      <td>19340901</td>\n",
       "      <td>NaN</td>\n",
       "      <td>2</td>\n",
       "      <td>1</td>\n",
       "      <td>0</td>\n",
       "      <td>6</td>\n",
       "      <td>200</td>\n",
       "      <td>12</td>\n",
       "      <td>0</td>\n",
       "      <td>...</td>\n",
       "      <td>2</td>\n",
       "      <td>0.0</td>\n",
       "      <td>0.0</td>\n",
       "      <td>0.0</td>\n",
       "      <td>0.0</td>\n",
       "      <td>0.0</td>\n",
       "      <td>0.0</td>\n",
       "      <td>0.0</td>\n",
       "      <td>0.0</td>\n",
       "      <td>0.0</td>\n",
       "    </tr>\n",
       "    <tr>\n",
       "      <th>4</th>\n",
       "      <td>0002E494BC87CE10</td>\n",
       "      <td>19140701</td>\n",
       "      <td>NaN</td>\n",
       "      <td>1</td>\n",
       "      <td>2</td>\n",
       "      <td>0</td>\n",
       "      <td>5</td>\n",
       "      <td>200</td>\n",
       "      <td>12</td>\n",
       "      <td>12</td>\n",
       "      <td>...</td>\n",
       "      <td>2</td>\n",
       "      <td>0.0</td>\n",
       "      <td>0.0</td>\n",
       "      <td>0.0</td>\n",
       "      <td>0.0</td>\n",
       "      <td>0.0</td>\n",
       "      <td>0.0</td>\n",
       "      <td>0.0</td>\n",
       "      <td>0.0</td>\n",
       "      <td>0.0</td>\n",
       "    </tr>\n",
       "  </tbody>\n",
       "</table>\n",
       "<p>5 rows × 32 columns</p>\n",
       "</div>"
      ],
      "text/plain": [
       "        DESYNPUF_ID  BENE_BIRTH_DT  BENE_DEATH_DT  BENE_SEX_IDENT_CD  \\\n",
       "0  00000B48BCF4AD29       19230901            NaN                  2   \n",
       "1  0000525AB30E4DEF       19201001            NaN                  2   \n",
       "2  00009C897C3D8372       19320101            NaN                  1   \n",
       "3  0001168CE43BE51B       19340901            NaN                  2   \n",
       "4  0002E494BC87CE10       19140701            NaN                  1   \n",
       "\n",
       "   BENE_RACE_CD BENE_ESRD_IND  SP_STATE_CODE  BENE_COUNTY_CD  \\\n",
       "0             5             Y             10             260   \n",
       "1             1             0             31             300   \n",
       "2             1             0              7              70   \n",
       "3             1             0              6             200   \n",
       "4             2             0              5             200   \n",
       "\n",
       "   BENE_HI_CVRAGE_TOT_MONS  BENE_SMI_CVRAGE_TOT_MONS  ...  SP_STRKETIA  \\\n",
       "0                       12                        12  ...            2   \n",
       "1                       12                        12  ...            2   \n",
       "2                       12                        12  ...            2   \n",
       "3                       12                         0  ...            2   \n",
       "4                       12                        12  ...            2   \n",
       "\n",
       "   MEDREIMB_IP  BENRES_IP  PPPYMT_IP  MEDREIMB_OP  BENRES_OP  PPPYMT_OP  \\\n",
       "0          0.0        0.0        0.0        600.0       30.0        0.0   \n",
       "1          0.0        0.0        0.0        240.0      190.0        0.0   \n",
       "2          0.0        0.0        0.0        210.0      160.0        0.0   \n",
       "3          0.0        0.0        0.0          0.0        0.0        0.0   \n",
       "4          0.0        0.0        0.0          0.0        0.0        0.0   \n",
       "\n",
       "   MEDREIMB_CAR  BENRES_CAR  PPPYMT_CAR  \n",
       "0        3800.0      1460.0         0.0  \n",
       "1         440.0        60.0         0.0  \n",
       "2         580.0       250.0         0.0  \n",
       "3           0.0         0.0         0.0  \n",
       "4           0.0         0.0         0.0  \n",
       "\n",
       "[5 rows x 32 columns]"
      ]
     },
     "execution_count": 36,
     "metadata": {},
     "output_type": "execute_result"
    }
   ],
   "source": [
    "ben_2010.head(5)"
   ]
  },
  {
   "cell_type": "code",
   "execution_count": null,
   "metadata": {},
   "outputs": [],
   "source": []
  },
  {
   "cell_type": "code",
   "execution_count": null,
   "metadata": {},
   "outputs": [],
   "source": []
  },
  {
   "cell_type": "markdown",
   "metadata": {},
   "source": [
    "# Shutting Down Kernel To Release Resources"
   ]
  },
  {
   "cell_type": "raw",
   "metadata": {},
   "source": [
    "%%html\n",
    "\n",
    "<p><b>Shutting down your kernel for this notebook to release resources.</b></p>\n",
    "<button class=\"sm-command-button\" data-commandlinker-command=\"kernelmenu:shutdown\" style=\"display:none;\">Shutdown Kernel</button>\n",
    "        \n",
    "<script>\n",
    "try {\n",
    "    els = document.getElementsByClassName(\"sm-command-button\");\n",
    "    els[0].click();\n",
    "}\n",
    "catch(err) {\n",
    "    // NoOp\n",
    "}    \n",
    "</script>"
   ]
  },
  {
   "cell_type": "raw",
   "metadata": {},
   "source": [
    "%%javascript\n",
    "\n",
    "try {\n",
    "    Jupyter.notebook.save_checkpoint();\n",
    "    Jupyter.notebook.session.delete();\n",
    "}\n",
    "catch(err) {\n",
    "    // NoOp\n",
    "}"
   ]
  }
 ],
 "metadata": {
  "instance_type": "ml.t3.medium",
  "kernelspec": {
   "display_name": "Python 3 (Data Science)",
   "language": "python",
   "name": "python3__SAGEMAKER_INTERNAL__arn:aws:sagemaker:us-east-1:081325390199:image/datascience-1.0"
  },
  "language_info": {
   "codemirror_mode": {
    "name": "ipython",
    "version": 3
   },
   "file_extension": ".py",
   "mimetype": "text/x-python",
   "name": "python",
   "nbconvert_exporter": "python",
   "pygments_lexer": "ipython3",
   "version": "3.7.10"
  }
 },
 "nbformat": 4,
 "nbformat_minor": 4
}
