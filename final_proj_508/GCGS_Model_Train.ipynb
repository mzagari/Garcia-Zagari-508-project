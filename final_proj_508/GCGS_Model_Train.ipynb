{
 "cells": [
  {
   "cell_type": "markdown",
   "metadata": {},
   "source": [
    "## Need to set up a notebook dependencies check section"
   ]
  },
  {
   "cell_type": "code",
   "execution_count": 14,
   "metadata": {},
   "outputs": [
    {
     "name": "stdout",
     "output_type": "stream",
     "text": [
      "+++++++++++++++++++++++++++++++\n",
      "[ERROR] YOU HAVE TO RUN ALL NOTEBOOKS IN THE SETUP FOLDER FIRST. You are missing Setup Dependencies.\n",
      "+++++++++++++++++++++++++++++++\n"
     ]
    }
   ],
   "source": [
    "try:\n",
    "    setup_gcgs_dependencies_passed\n",
    "except NameError:\n",
    "    print(\"+++++++++++++++++++++++++++++++\")\n",
    "    print(\"[ERROR] YOU HAVE TO RUN ALL NOTEBOOKS IN THE SETUP FOLDER FIRST. You are missing Setup Dependencies.\")\n",
    "    print(\"+++++++++++++++++++++++++++++++\")"
   ]
  },
  {
   "cell_type": "markdown",
   "metadata": {},
   "source": [
    "## Import Libraries"
   ]
  },
  {
   "cell_type": "code",
   "execution_count": 15,
   "metadata": {},
   "outputs": [],
   "source": [
    "import numpy as np\n",
    "import pandas as pd"
   ]
  },
  {
   "cell_type": "markdown",
   "metadata": {},
   "source": [
    "## Model code"
   ]
  },
  {
   "cell_type": "code",
   "execution_count": 16,
   "metadata": {},
   "outputs": [
    {
     "name": "stdout",
     "output_type": "stream",
     "text": [
      "download: s3://my-508-projects/eng_mlcsv/eng_mlcsv.csv to data_model/eng_mlcsv.csv\n"
     ]
    }
   ],
   "source": [
    "!aws s3 cp 's3://my-508-projects/eng_mlcsv/eng_mlcsv.csv' ./data_model/"
   ]
  },
  {
   "cell_type": "code",
   "execution_count": 17,
   "metadata": {},
   "outputs": [
    {
     "data": {
      "text/plain": [
       "(94453, 19)"
      ]
     },
     "execution_count": 17,
     "metadata": {},
     "output_type": "execute_result"
    }
   ],
   "source": [
    "import csv\n",
    "ml = pd.read_csv(\n",
    "    r\"./data_model/eng_mlcsv.csv\",\n",
    "    engine = 'python',\n",
    "    dtype={'NDC5_4':str}  # Must encode NDC with leading 0s as 'str'\n",
    ")\n",
    "ml.shape"
   ]
  },
  {
   "cell_type": "code",
   "execution_count": 18,
   "metadata": {},
   "outputs": [
    {
     "data": {
      "text/plain": [
       "DESYNPUF_ID            object\n",
       "NDC5_4                 object\n",
       "ptnt_pay_amt            int64\n",
       "total_cost              int64\n",
       "cost_per_day          float64\n",
       "proprietaryname        object\n",
       "nonproprietaryname     object\n",
       "isgeneric             float64\n",
       "TOT_RX_CST_AMT          int64\n",
       "SP_STATE_CODE           int64\n",
       "year                    int64\n",
       "bene_sex_ident_cd       int64\n",
       "bene_race_cd            int64\n",
       "age_code                int64\n",
       "esrd                    int64\n",
       "region_code             int64\n",
       "cont_enroll             int64\n",
       "ccnum                   int64\n",
       "high_ben                int64\n",
       "dtype: object"
      ]
     },
     "execution_count": 18,
     "metadata": {},
     "output_type": "execute_result"
    }
   ],
   "source": [
    "ml.dtypes"
   ]
  },
  {
   "cell_type": "code",
   "execution_count": 19,
   "metadata": {},
   "outputs": [
    {
     "data": {
      "text/html": [
       "<div>\n",
       "<style scoped>\n",
       "    .dataframe tbody tr th:only-of-type {\n",
       "        vertical-align: middle;\n",
       "    }\n",
       "\n",
       "    .dataframe tbody tr th {\n",
       "        vertical-align: top;\n",
       "    }\n",
       "\n",
       "    .dataframe thead th {\n",
       "        text-align: right;\n",
       "    }\n",
       "</style>\n",
       "<table border=\"1\" class=\"dataframe\">\n",
       "  <thead>\n",
       "    <tr style=\"text-align: right;\">\n",
       "      <th></th>\n",
       "      <th>DESYNPUF_ID</th>\n",
       "      <th>NDC5_4</th>\n",
       "      <th>ptnt_pay_amt</th>\n",
       "      <th>total_cost</th>\n",
       "      <th>cost_per_day</th>\n",
       "      <th>proprietaryname</th>\n",
       "      <th>nonproprietaryname</th>\n",
       "      <th>isgeneric</th>\n",
       "      <th>TOT_RX_CST_AMT</th>\n",
       "      <th>SP_STATE_CODE</th>\n",
       "      <th>year</th>\n",
       "      <th>bene_sex_ident_cd</th>\n",
       "      <th>bene_race_cd</th>\n",
       "      <th>age_code</th>\n",
       "      <th>esrd</th>\n",
       "      <th>region_code</th>\n",
       "      <th>cont_enroll</th>\n",
       "      <th>ccnum</th>\n",
       "      <th>high_ben</th>\n",
       "    </tr>\n",
       "  </thead>\n",
       "  <tbody>\n",
       "    <tr>\n",
       "      <th>0</th>\n",
       "      <td>254DE5244C61F075</td>\n",
       "      <td>675440700</td>\n",
       "      <td>0</td>\n",
       "      <td>30</td>\n",
       "      <td>1.500000</td>\n",
       "      <td>loperamide hydrochloride</td>\n",
       "      <td>loperamide hydrochloride</td>\n",
       "      <td>1.0</td>\n",
       "      <td>30</td>\n",
       "      <td>10</td>\n",
       "      <td>2010</td>\n",
       "      <td>2</td>\n",
       "      <td>1</td>\n",
       "      <td>1</td>\n",
       "      <td>0</td>\n",
       "      <td>1</td>\n",
       "      <td>0</td>\n",
       "      <td>0</td>\n",
       "      <td>0</td>\n",
       "    </tr>\n",
       "    <tr>\n",
       "      <th>1</th>\n",
       "      <td>254DE5244C61F075</td>\n",
       "      <td>675440700</td>\n",
       "      <td>0</td>\n",
       "      <td>30</td>\n",
       "      <td>1.500000</td>\n",
       "      <td>loperamide hydrochloride</td>\n",
       "      <td>loperamide hydrochloride</td>\n",
       "      <td>1.0</td>\n",
       "      <td>30</td>\n",
       "      <td>10</td>\n",
       "      <td>2008</td>\n",
       "      <td>2</td>\n",
       "      <td>1</td>\n",
       "      <td>1</td>\n",
       "      <td>0</td>\n",
       "      <td>1</td>\n",
       "      <td>0</td>\n",
       "      <td>0</td>\n",
       "      <td>0</td>\n",
       "    </tr>\n",
       "    <tr>\n",
       "      <th>2</th>\n",
       "      <td>3FFDCD071F4F1AA4</td>\n",
       "      <td>000937350</td>\n",
       "      <td>0</td>\n",
       "      <td>170</td>\n",
       "      <td>5.666666</td>\n",
       "      <td>lansoprazole</td>\n",
       "      <td>lansoprazole</td>\n",
       "      <td>1.0</td>\n",
       "      <td>170</td>\n",
       "      <td>33</td>\n",
       "      <td>2009</td>\n",
       "      <td>2</td>\n",
       "      <td>1</td>\n",
       "      <td>4</td>\n",
       "      <td>0</td>\n",
       "      <td>3</td>\n",
       "      <td>0</td>\n",
       "      <td>0</td>\n",
       "      <td>1</td>\n",
       "    </tr>\n",
       "    <tr>\n",
       "      <th>3</th>\n",
       "      <td>3FFDCD071F4F1AA4</td>\n",
       "      <td>000937350</td>\n",
       "      <td>0</td>\n",
       "      <td>170</td>\n",
       "      <td>5.666666</td>\n",
       "      <td>lansoprazole</td>\n",
       "      <td>lansoprazole</td>\n",
       "      <td>1.0</td>\n",
       "      <td>170</td>\n",
       "      <td>33</td>\n",
       "      <td>2008</td>\n",
       "      <td>2</td>\n",
       "      <td>1</td>\n",
       "      <td>4</td>\n",
       "      <td>0</td>\n",
       "      <td>3</td>\n",
       "      <td>0</td>\n",
       "      <td>0</td>\n",
       "      <td>1</td>\n",
       "    </tr>\n",
       "    <tr>\n",
       "      <th>4</th>\n",
       "      <td>3FFDCD071F4F1AA4</td>\n",
       "      <td>000937350</td>\n",
       "      <td>0</td>\n",
       "      <td>170</td>\n",
       "      <td>5.666666</td>\n",
       "      <td>lansoprazole</td>\n",
       "      <td>lansoprazole</td>\n",
       "      <td>1.0</td>\n",
       "      <td>170</td>\n",
       "      <td>33</td>\n",
       "      <td>2010</td>\n",
       "      <td>2</td>\n",
       "      <td>1</td>\n",
       "      <td>4</td>\n",
       "      <td>0</td>\n",
       "      <td>3</td>\n",
       "      <td>0</td>\n",
       "      <td>0</td>\n",
       "      <td>1</td>\n",
       "    </tr>\n",
       "  </tbody>\n",
       "</table>\n",
       "</div>"
      ],
      "text/plain": [
       "        DESYNPUF_ID     NDC5_4  ptnt_pay_amt  total_cost  cost_per_day  \\\n",
       "0  254DE5244C61F075  675440700             0          30      1.500000   \n",
       "1  254DE5244C61F075  675440700             0          30      1.500000   \n",
       "2  3FFDCD071F4F1AA4  000937350             0         170      5.666666   \n",
       "3  3FFDCD071F4F1AA4  000937350             0         170      5.666666   \n",
       "4  3FFDCD071F4F1AA4  000937350             0         170      5.666666   \n",
       "\n",
       "            proprietaryname        nonproprietaryname  isgeneric  \\\n",
       "0  loperamide hydrochloride  loperamide hydrochloride        1.0   \n",
       "1  loperamide hydrochloride  loperamide hydrochloride        1.0   \n",
       "2              lansoprazole              lansoprazole        1.0   \n",
       "3              lansoprazole              lansoprazole        1.0   \n",
       "4              lansoprazole              lansoprazole        1.0   \n",
       "\n",
       "   TOT_RX_CST_AMT  SP_STATE_CODE  year  bene_sex_ident_cd  bene_race_cd  \\\n",
       "0              30             10  2010                  2             1   \n",
       "1              30             10  2008                  2             1   \n",
       "2             170             33  2009                  2             1   \n",
       "3             170             33  2008                  2             1   \n",
       "4             170             33  2010                  2             1   \n",
       "\n",
       "   age_code  esrd  region_code  cont_enroll  ccnum  high_ben  \n",
       "0         1     0            1            0      0         0  \n",
       "1         1     0            1            0      0         0  \n",
       "2         4     0            3            0      0         1  \n",
       "3         4     0            3            0      0         1  \n",
       "4         4     0            3            0      0         1  "
      ]
     },
     "execution_count": 19,
     "metadata": {},
     "output_type": "execute_result"
    }
   ],
   "source": [
    "ml.head(5)"
   ]
  },
  {
   "cell_type": "code",
   "execution_count": 26,
   "metadata": {},
   "outputs": [
    {
     "data": {
      "text/plain": [
       "Text(0, 0.5, 'Generic Count')"
      ]
     },
     "execution_count": 26,
     "metadata": {},
     "output_type": "execute_result"
    },
    {
     "data": {
      "image/png": "[encoded data removed]",
      "text/plain": [
       "<Figure size 432x288 with 1 Axes>"
      ]
     },
     "metadata": {
      "needs_background": "light"
     },
     "output_type": "display_data"
    }
   ],
   "source": [
    "import matplotlib.pyplot as plt\n",
    "\n",
    "%matplotlib inline\n",
    "#%config InlineBackend.figure_format='retina'\n",
    "\n",
    "ml[['isgeneric','NDC5_4']].groupby('isgeneric').count().plot(kind=\"bar\", title=\"Breakdown by isgeneric\")\n",
    "plt.xlabel(\"isgeneric\")\n",
    "plt.ylabel(\"Generic Count\")"
   ]
  },
  {
   "cell_type": "code",
   "execution_count": null,
   "metadata": {},
   "outputs": [],
   "source": []
  }
 ],
 "metadata": {
  "instance_type": "ml.t3.medium",
  "kernelspec": {
   "display_name": "Python 3 (Data Science)",
   "language": "python",
   "name": "python3__SAGEMAKER_INTERNAL__arn:aws:sagemaker:us-east-1:081325390199:image/datascience-1.0"
  },
  "language_info": {
   "codemirror_mode": {
    "name": "ipython",
    "version": 3
   },
   "file_extension": ".py",
   "mimetype": "text/x-python",
   "name": "python",
   "nbconvert_exporter": "python",
   "pygments_lexer": "ipython3",
   "version": "3.7.10"
  }
 },
 "nbformat": 4,
 "nbformat_minor": 4
}
