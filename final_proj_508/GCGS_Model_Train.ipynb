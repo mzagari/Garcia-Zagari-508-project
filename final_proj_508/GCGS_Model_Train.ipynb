{
 "cells": [
  {
   "cell_type": "markdown",
   "metadata": {},
   "source": [
    "## Need to set up a notebook dependencies check section"
   ]
  },
  {
   "cell_type": "code",
   "execution_count": 30,
   "metadata": {},
   "outputs": [
    {
     "name": "stdout",
     "output_type": "stream",
     "text": [
      "+++++++++++++++++++++++++++++++\n",
      "[ERROR] YOU HAVE TO RUN ALL NOTEBOOKS IN THE SETUP FOLDER FIRST. You are missing Setup Dependencies.\n",
      "+++++++++++++++++++++++++++++++\n"
     ]
    }
   ],
   "source": [
    "try:\n",
    "    setup_gcgs_dependencies_passed\n",
    "except NameError:\n",
    "    print(\"+++++++++++++++++++++++++++++++\")\n",
    "    print(\"[ERROR] YOU HAVE TO RUN ALL NOTEBOOKS IN THE SETUP FOLDER FIRST. You are missing Setup Dependencies.\")\n",
    "    print(\"+++++++++++++++++++++++++++++++\")"
   ]
  },
  {
   "cell_type": "markdown",
   "metadata": {},
   "source": [
    "## Import Libraries"
   ]
  },
  {
   "cell_type": "code",
   "execution_count": 31,
   "metadata": {},
   "outputs": [
    {
     "name": "stdout",
     "output_type": "stream",
     "text": [
      "Session(region_name='us-east-1')\n",
      "Session(region_name='us-east-1')\n",
      "us-east-1\n",
      "<sagemaker.session.Session object at 0x7fa2ab902150>\n",
      "my-508-projects2\n",
      "<botocore.client.S3 object at 0x7fa2b0c90c90>\n"
     ]
    },
    {
     "data": {
      "text/plain": [
       "<botocore.client.S3 at 0x7fa2aba07b90>"
      ]
     },
     "execution_count": 31,
     "metadata": {},
     "output_type": "execute_result"
    }
   ],
   "source": [
    "import numpy as np\n",
    "import pandas as pd\n",
    "import matplotlib.pyplot as plt\n",
    "import boto3\n",
    "import boto3.session\n",
    "import sagemaker\n",
    "\n",
    "gcgs_sess = boto3.session.Session() # Create our own session\n",
    "gcgs_sess1 = boto3.Session() # MZ EXPERIMENT\n",
    "gcgs_region = gcgs_sess.region_name\n",
    "gcgs_sm_sess = sagemaker.Session(default_bucket=\"my-508-projects2\") # Assigned variable with sagemaker resources available\n",
    "# ASSIGNED NEW DEFAULT BUCKET: \"my-508-projects2\"\n",
    "gcgs_bucket = gcgs_sm_sess.default_bucket()\n",
    "\n",
    "s3 = boto3.Session().client(service_name=\"s3\", region_name=gcgs_region)\n",
    "s31 = gcgs_sess.client(service_name=\"s3\", region_name=gcgs_region) # MZ EXPERIMENT\n",
    "\n",
    "print(gcgs_sess)\n",
    "print(gcgs_sess1)\n",
    "print(gcgs_region)\n",
    "print(gcgs_sm_sess)\n",
    "print(gcgs_bucket)\n",
    "print(s3)\n",
    "s31"
   ]
  },
  {
   "cell_type": "markdown",
   "metadata": {},
   "source": [
    "## Model code"
   ]
  },
  {
   "cell_type": "code",
   "execution_count": 32,
   "metadata": {},
   "outputs": [
    {
     "name": "stdout",
     "output_type": "stream",
     "text": [
      "download: s3://my-508-projects2/eng_mlcsv/eng_mlcsv2.csv to data_model/eng_mlcsv2.csv\n"
     ]
    }
   ],
   "source": [
    "!aws s3 cp 's3://my-508-projects2/eng_mlcsv/eng_mlcsv2.csv' ./data_model/"
   ]
  },
  {
   "cell_type": "code",
   "execution_count": 33,
   "metadata": {},
   "outputs": [
    {
     "data": {
      "text/plain": [
       "(93869, 14)"
      ]
     },
     "execution_count": 33,
     "metadata": {},
     "output_type": "execute_result"
    }
   ],
   "source": [
    "import csv\n",
    "ml = pd.read_csv(\n",
    "    r\"./data_model/eng_mlcsv2.csv\",\n",
    "    engine = 'python',\n",
    "    dtype={'NDC5_4':str}  # Must encode NDC with leading 0s as 'str'\n",
    ")\n",
    "ml.shape"
   ]
  },
  {
   "cell_type": "code",
   "execution_count": 34,
   "metadata": {},
   "outputs": [
    {
     "data": {
      "text/plain": [
       "(91497, 14)"
      ]
     },
     "execution_count": 34,
     "metadata": {},
     "output_type": "execute_result"
    }
   ],
   "source": [
    "ml = ml.dropna()\n",
    "ml.shape"
   ]
  },
  {
   "cell_type": "code",
   "execution_count": 35,
   "metadata": {},
   "outputs": [
    {
     "data": {
      "text/plain": [
       "ptnt_pay_amt           int64\n",
       "total_cost             int64\n",
       "cost_per_day         float64\n",
       "isgeneric            float64\n",
       "TOT_RX_CST_AMT         int64\n",
       "year                   int64\n",
       "bene_sex_ident_cd      int64\n",
       "bene_race_cd           int64\n",
       "age_code               int64\n",
       "esrd                   int64\n",
       "region_code            int64\n",
       "cont_enroll            int64\n",
       "ccnum                  int64\n",
       "high_ben               int64\n",
       "dtype: object"
      ]
     },
     "execution_count": 35,
     "metadata": {},
     "output_type": "execute_result"
    }
   ],
   "source": [
    "ml.dtypes"
   ]
  },
  {
   "cell_type": "code",
   "execution_count": 36,
   "metadata": {},
   "outputs": [
    {
     "data": {
      "text/html": [
       "<div>\n",
       "<style scoped>\n",
       "    .dataframe tbody tr th:only-of-type {\n",
       "        vertical-align: middle;\n",
       "    }\n",
       "\n",
       "    .dataframe tbody tr th {\n",
       "        vertical-align: top;\n",
       "    }\n",
       "\n",
       "    .dataframe thead th {\n",
       "        text-align: right;\n",
       "    }\n",
       "</style>\n",
       "<table border=\"1\" class=\"dataframe\">\n",
       "  <thead>\n",
       "    <tr style=\"text-align: right;\">\n",
       "      <th></th>\n",
       "      <th>isgeneric</th>\n",
       "      <th>ptnt_pay_amt</th>\n",
       "      <th>total_cost</th>\n",
       "      <th>cost_per_day</th>\n",
       "      <th>TOT_RX_CST_AMT</th>\n",
       "      <th>year</th>\n",
       "      <th>bene_sex_ident_cd</th>\n",
       "      <th>bene_race_cd</th>\n",
       "      <th>age_code</th>\n",
       "      <th>esrd</th>\n",
       "      <th>region_code</th>\n",
       "      <th>cont_enroll</th>\n",
       "      <th>ccnum</th>\n",
       "      <th>high_ben</th>\n",
       "    </tr>\n",
       "  </thead>\n",
       "  <tbody>\n",
       "    <tr>\n",
       "      <th>0</th>\n",
       "      <td>1.0</td>\n",
       "      <td>0</td>\n",
       "      <td>10</td>\n",
       "      <td>1.0</td>\n",
       "      <td>10</td>\n",
       "      <td>2010</td>\n",
       "      <td>2</td>\n",
       "      <td>1</td>\n",
       "      <td>1</td>\n",
       "      <td>0</td>\n",
       "      <td>6</td>\n",
       "      <td>0</td>\n",
       "      <td>0</td>\n",
       "      <td>0</td>\n",
       "    </tr>\n",
       "    <tr>\n",
       "      <th>1</th>\n",
       "      <td>1.0</td>\n",
       "      <td>0</td>\n",
       "      <td>10</td>\n",
       "      <td>1.0</td>\n",
       "      <td>10</td>\n",
       "      <td>2009</td>\n",
       "      <td>2</td>\n",
       "      <td>1</td>\n",
       "      <td>1</td>\n",
       "      <td>0</td>\n",
       "      <td>6</td>\n",
       "      <td>0</td>\n",
       "      <td>0</td>\n",
       "      <td>1</td>\n",
       "    </tr>\n",
       "    <tr>\n",
       "      <th>2</th>\n",
       "      <td>1.0</td>\n",
       "      <td>0</td>\n",
       "      <td>10</td>\n",
       "      <td>1.0</td>\n",
       "      <td>10</td>\n",
       "      <td>2008</td>\n",
       "      <td>2</td>\n",
       "      <td>1</td>\n",
       "      <td>1</td>\n",
       "      <td>1</td>\n",
       "      <td>6</td>\n",
       "      <td>0</td>\n",
       "      <td>1</td>\n",
       "      <td>1</td>\n",
       "    </tr>\n",
       "    <tr>\n",
       "      <th>3</th>\n",
       "      <td>1.0</td>\n",
       "      <td>0</td>\n",
       "      <td>0</td>\n",
       "      <td>0.0</td>\n",
       "      <td>0</td>\n",
       "      <td>2009</td>\n",
       "      <td>1</td>\n",
       "      <td>3</td>\n",
       "      <td>3</td>\n",
       "      <td>0</td>\n",
       "      <td>3</td>\n",
       "      <td>1</td>\n",
       "      <td>0</td>\n",
       "      <td>1</td>\n",
       "    </tr>\n",
       "    <tr>\n",
       "      <th>4</th>\n",
       "      <td>1.0</td>\n",
       "      <td>0</td>\n",
       "      <td>0</td>\n",
       "      <td>0.0</td>\n",
       "      <td>0</td>\n",
       "      <td>2010</td>\n",
       "      <td>1</td>\n",
       "      <td>3</td>\n",
       "      <td>3</td>\n",
       "      <td>0</td>\n",
       "      <td>3</td>\n",
       "      <td>1</td>\n",
       "      <td>0</td>\n",
       "      <td>1</td>\n",
       "    </tr>\n",
       "  </tbody>\n",
       "</table>\n",
       "</div>"
      ],
      "text/plain": [
       "   isgeneric  ptnt_pay_amt  total_cost  cost_per_day  TOT_RX_CST_AMT  year  \\\n",
       "0        1.0             0          10           1.0              10  2010   \n",
       "1        1.0             0          10           1.0              10  2009   \n",
       "2        1.0             0          10           1.0              10  2008   \n",
       "3        1.0             0           0           0.0               0  2009   \n",
       "4        1.0             0           0           0.0               0  2010   \n",
       "\n",
       "   bene_sex_ident_cd  bene_race_cd  age_code  esrd  region_code  cont_enroll  \\\n",
       "0                  2             1         1     0            6            0   \n",
       "1                  2             1         1     0            6            0   \n",
       "2                  2             1         1     1            6            0   \n",
       "3                  1             3         3     0            3            1   \n",
       "4                  1             3         3     0            3            1   \n",
       "\n",
       "   ccnum  high_ben  \n",
       "0      0         0  \n",
       "1      0         1  \n",
       "2      1         1  \n",
       "3      0         1  \n",
       "4      0         1  "
      ]
     },
     "execution_count": 36,
     "metadata": {},
     "output_type": "execute_result"
    }
   ],
   "source": [
    "#TARGET needs to be first col for XGBoost\n",
    "ml = ml[['isgeneric', 'ptnt_pay_amt', 'total_cost', 'cost_per_day', 'TOT_RX_CST_AMT',\n",
    "         'year', 'bene_sex_ident_cd', 'bene_race_cd', 'age_code', 'esrd', 'region_code',\n",
    "         'cont_enroll', 'ccnum', 'high_ben']]\n",
    "ml.head(5)"
   ]
  },
  {
   "cell_type": "code",
   "execution_count": 37,
   "metadata": {},
   "outputs": [
    {
     "data": {
      "text/plain": [
       "Text(0, 0.5, 'Generic Count')"
      ]
     },
     "execution_count": 37,
     "metadata": {},
     "output_type": "execute_result"
    },
    {
     "data": {
      "image/png": "[encoded data removed]",
      "text/plain": [
       "<Figure size 432x288 with 1 Axes>"
      ]
     },
     "metadata": {
      "needs_background": "light"
     },
     "output_type": "display_data"
    }
   ],
   "source": [
    "import matplotlib.pyplot as plt\n",
    "\n",
    "%matplotlib inline\n",
    "#%config InlineBackend.figure_format='retina'\n",
    "\n",
    "ml[['isgeneric','year']].groupby('isgeneric').count().plot(kind=\"bar\", title=\"Breakdown by isgeneric\")\n",
    "plt.xlabel(\"isgeneric\")\n",
    "plt.ylabel(\"Generic Count\")"
   ]
  },
  {
   "cell_type": "code",
   "execution_count": 38,
   "metadata": {},
   "outputs": [
    {
     "name": "stdout",
     "output_type": "stream",
     "text": [
      "Shape of balanced dataframe (52576, 14)\n"
     ]
    }
   ],
   "source": [
    "# Balance the dataset down to the minority class\n",
    "ml_grouped_by = ml.groupby([\"isgeneric\"]) \n",
    "ml_balanced = ml_grouped_by.apply(lambda x: x.sample(ml_grouped_by.size().min()).reset_index(drop=True))\n",
    "\n",
    "ml_balanced = ml_balanced.reset_index(drop=True)\n",
    "print(\"Shape of balanced dataframe {}\".format(ml_balanced.shape))"
   ]
  },
  {
   "cell_type": "code",
   "execution_count": 39,
   "metadata": {},
   "outputs": [
    {
     "data": {
      "text/html": [
       "<div>\n",
       "<style scoped>\n",
       "    .dataframe tbody tr th:only-of-type {\n",
       "        vertical-align: middle;\n",
       "    }\n",
       "\n",
       "    .dataframe tbody tr th {\n",
       "        vertical-align: top;\n",
       "    }\n",
       "\n",
       "    .dataframe thead th {\n",
       "        text-align: right;\n",
       "    }\n",
       "</style>\n",
       "<table border=\"1\" class=\"dataframe\">\n",
       "  <thead>\n",
       "    <tr style=\"text-align: right;\">\n",
       "      <th></th>\n",
       "      <th>isgeneric</th>\n",
       "      <th>ptnt_pay_amt</th>\n",
       "      <th>total_cost</th>\n",
       "      <th>cost_per_day</th>\n",
       "      <th>TOT_RX_CST_AMT</th>\n",
       "      <th>year</th>\n",
       "      <th>bene_sex_ident_cd</th>\n",
       "      <th>bene_race_cd</th>\n",
       "      <th>age_code</th>\n",
       "      <th>esrd</th>\n",
       "      <th>region_code</th>\n",
       "      <th>cont_enroll</th>\n",
       "      <th>ccnum</th>\n",
       "      <th>high_ben</th>\n",
       "    </tr>\n",
       "  </thead>\n",
       "  <tbody>\n",
       "    <tr>\n",
       "      <th>0</th>\n",
       "      <td>0.0</td>\n",
       "      <td>0</td>\n",
       "      <td>50</td>\n",
       "      <td>1.666667</td>\n",
       "      <td>50</td>\n",
       "      <td>2008</td>\n",
       "      <td>1</td>\n",
       "      <td>1</td>\n",
       "      <td>3</td>\n",
       "      <td>0</td>\n",
       "      <td>6</td>\n",
       "      <td>1</td>\n",
       "      <td>0</td>\n",
       "      <td>1</td>\n",
       "    </tr>\n",
       "    <tr>\n",
       "      <th>1</th>\n",
       "      <td>0.0</td>\n",
       "      <td>20</td>\n",
       "      <td>180</td>\n",
       "      <td>6.000000</td>\n",
       "      <td>160</td>\n",
       "      <td>2010</td>\n",
       "      <td>2</td>\n",
       "      <td>1</td>\n",
       "      <td>2</td>\n",
       "      <td>1</td>\n",
       "      <td>2</td>\n",
       "      <td>1</td>\n",
       "      <td>0</td>\n",
       "      <td>1</td>\n",
       "    </tr>\n",
       "    <tr>\n",
       "      <th>2</th>\n",
       "      <td>0.0</td>\n",
       "      <td>10</td>\n",
       "      <td>80</td>\n",
       "      <td>2.666667</td>\n",
       "      <td>70</td>\n",
       "      <td>2010</td>\n",
       "      <td>2</td>\n",
       "      <td>1</td>\n",
       "      <td>2</td>\n",
       "      <td>0</td>\n",
       "      <td>1</td>\n",
       "      <td>1</td>\n",
       "      <td>0</td>\n",
       "      <td>1</td>\n",
       "    </tr>\n",
       "    <tr>\n",
       "      <th>3</th>\n",
       "      <td>0.0</td>\n",
       "      <td>0</td>\n",
       "      <td>260</td>\n",
       "      <td>2.888889</td>\n",
       "      <td>260</td>\n",
       "      <td>2009</td>\n",
       "      <td>2</td>\n",
       "      <td>1</td>\n",
       "      <td>4</td>\n",
       "      <td>0</td>\n",
       "      <td>4</td>\n",
       "      <td>1</td>\n",
       "      <td>0</td>\n",
       "      <td>0</td>\n",
       "    </tr>\n",
       "    <tr>\n",
       "      <th>4</th>\n",
       "      <td>0.0</td>\n",
       "      <td>0</td>\n",
       "      <td>20</td>\n",
       "      <td>0.666667</td>\n",
       "      <td>20</td>\n",
       "      <td>2009</td>\n",
       "      <td>1</td>\n",
       "      <td>1</td>\n",
       "      <td>1</td>\n",
       "      <td>0</td>\n",
       "      <td>2</td>\n",
       "      <td>0</td>\n",
       "      <td>0</td>\n",
       "      <td>1</td>\n",
       "    </tr>\n",
       "  </tbody>\n",
       "</table>\n",
       "</div>"
      ],
      "text/plain": [
       "   isgeneric  ptnt_pay_amt  total_cost  cost_per_day  TOT_RX_CST_AMT  year  \\\n",
       "0        0.0             0          50      1.666667              50  2008   \n",
       "1        0.0            20         180      6.000000             160  2010   \n",
       "2        0.0            10          80      2.666667              70  2010   \n",
       "3        0.0             0         260      2.888889             260  2009   \n",
       "4        0.0             0          20      0.666667              20  2009   \n",
       "\n",
       "   bene_sex_ident_cd  bene_race_cd  age_code  esrd  region_code  cont_enroll  \\\n",
       "0                  1             1         3     0            6            1   \n",
       "1                  2             1         2     1            2            1   \n",
       "2                  2             1         2     0            1            1   \n",
       "3                  2             1         4     0            4            1   \n",
       "4                  1             1         1     0            2            0   \n",
       "\n",
       "   ccnum  high_ben  \n",
       "0      0         1  \n",
       "1      0         1  \n",
       "2      0         1  \n",
       "3      0         0  \n",
       "4      0         1  "
      ]
     },
     "execution_count": 39,
     "metadata": {},
     "output_type": "execute_result"
    }
   ],
   "source": [
    "ml_balanced.head(5)"
   ]
  },
  {
   "cell_type": "code",
   "execution_count": 40,
   "metadata": {},
   "outputs": [
    {
     "name": "stdout",
     "output_type": "stream",
     "text": [
      "(36803, 14)\n",
      "(7886, 14)\n"
     ]
    },
    {
     "data": {
      "text/plain": [
       "(7887, 14)"
      ]
     },
     "execution_count": 40,
     "metadata": {},
     "output_type": "execute_result"
    }
   ],
   "source": [
    "from sklearn.model_selection import train_test_split\n",
    "\n",
    "# Split all data into 90% train and 10% holdout\n",
    "ml_train, ml_holdout = train_test_split(ml_balanced, test_size=0.30, stratify=ml_balanced[\"isgeneric\"])\n",
    "\n",
    "# Split holdout data into 50% validation and 50% test\n",
    "ml_validation, ml_test = train_test_split(ml_holdout, test_size=0.50, stratify=ml_holdout[\"isgeneric\"])\n",
    "\n",
    "print(ml_train.shape)\n",
    "print(ml_validation.shape)\n",
    "ml_test.shape"
   ]
  },
  {
   "cell_type": "code",
   "execution_count": 41,
   "metadata": {},
   "outputs": [
    {
     "name": "stdout",
     "output_type": "stream",
     "text": [
      "s3://my-508-projects2/eng_model/ml_train.csv\n",
      "s3://my-508-projects2/eng_model/ml_validation.csv\n",
      "2022-04-03 22:22:13    1564795 ml_train.csv\n",
      "2022-04-03 22:22:13    1564795 ml_validation.csv\n"
     ]
    }
   ],
   "source": [
    "filepath1 = \"./data_model/ml_train.csv\"\n",
    "filepath2 = \"./data_model/ml_validation.csv\"\n",
    "ml_train.to_csv(filepath1, index=False, header=True)\n",
    "ml_train.to_csv(filepath2, index=False, header=True)\n",
    "\n",
    "# COPY CSVs TO S3\n",
    "\n",
    "#import time\n",
    "\n",
    "# The timestamp is for creating a fresh folder.  Disabled here so S3 will write over with newly engineered files.\n",
    "#timestamp = int(time.time())\n",
    "eng_df1_s3_uri = gcgs_sm_sess.upload_data(bucket=gcgs_bucket, key_prefix=\"eng_model\", path=filepath1)\n",
    "eng_df2_s3_uri = gcgs_sm_sess.upload_data(bucket=gcgs_bucket, key_prefix=\"eng_model\", path=filepath2)\n",
    "#eng_df_s3_uri = gcgs_sm_sess.upload_data(bucket=gcgs_bucket, key_prefix=\"eng_df-{}\".format(timestamp), path=filepath)\n",
    "print(eng_df1_s3_uri)\n",
    "print(eng_df2_s3_uri)\n",
    "\n",
    "# LIST DATA IN THE NEW S3 LOCATION\n",
    "\n",
    "!aws s3 ls $eng_df1_s3_uri\n",
    "!aws s3 ls $eng_df2_s3_uri"
   ]
  },
  {
   "cell_type": "markdown",
   "metadata": {},
   "source": [
    "## Bring back the csv from S3"
   ]
  },
  {
   "cell_type": "code",
   "execution_count": null,
   "metadata": {},
   "outputs": [],
   "source": []
  },
  {
   "cell_type": "markdown",
   "metadata": {},
   "source": [
    "## XGBoost Code that ran in my Personal AWS Account"
   ]
  },
  {
   "cell_type": "code",
   "execution_count": 42,
   "metadata": {},
   "outputs": [
    {
     "name": "stderr",
     "output_type": "stream",
     "text": [
      "The method get_image_uri has been renamed in sagemaker>=2.\n",
      "See: https://sagemaker.readthedocs.io/en/stable/v2.html for details.\n",
      "train_instance_count has been renamed in sagemaker>=2.\n",
      "See: https://sagemaker.readthedocs.io/en/stable/v2.html for details.\n",
      "train_instance_type has been renamed in sagemaker>=2.\n",
      "See: https://sagemaker.readthedocs.io/en/stable/v2.html for details.\n",
      "train_volume_size has been renamed in sagemaker>=2.\n",
      "See: https://sagemaker.readthedocs.io/en/stable/v2.html for details.\n",
      "The class sagemaker.session.s3_input has been renamed in sagemaker>=2.\n",
      "See: https://sagemaker.readthedocs.io/en/stable/v2.html for details.\n",
      "The class sagemaker.session.s3_input has been renamed in sagemaker>=2.\n",
      "See: https://sagemaker.readthedocs.io/en/stable/v2.html for details.\n"
     ]
    },
    {
     "name": "stdout",
     "output_type": "stream",
     "text": [
      "2022-04-03 22:22:14 Starting - Starting the training job...\n",
      "2022-04-03 22:22:34 Starting - Preparing the instances for trainingProfilerReport-1649024534: InProgress\n",
      ".........\n",
      "2022-04-03 22:23:57 Downloading - Downloading input data......\n",
      "2022-04-03 22:24:57 Training - Downloading the training image.....\u001b[34mINFO:sagemaker-containers:Imported framework sagemaker_xgboost_container.training\u001b[0m\n",
      "\u001b[34mINFO:sagemaker-containers:Failed to parse hyperparameter objective value reg:squarederror to Json.\u001b[0m\n",
      "\u001b[34mReturning the value itself\u001b[0m\n",
      "\u001b[34mINFO:sagemaker-containers:No GPUs detected (normal if no gpus installed)\u001b[0m\n",
      "\u001b[34mINFO:sagemaker_xgboost_container.training:Running XGBoost Sagemaker in algorithm mode\u001b[0m\n",
      "\u001b[34mINFO:root:Determined delimiter of CSV input is ','\u001b[0m\n",
      "\u001b[34mINFO:root:Determined delimiter of CSV input is ','\u001b[0m\n",
      "\u001b[34mINFO:root:Determined delimiter of CSV input is ','\u001b[0m\n",
      "\u001b[34m[22:25:53] 36804x13 matrix with 478452 entries loaded from /opt/ml/input/data/train?format=csv&label_column=0&delimiter=,\u001b[0m\n",
      "\u001b[34mINFO:root:Determined delimiter of CSV input is ','\u001b[0m\n",
      "\u001b[34m[22:25:53] 36804x13 matrix with 478452 entries loaded from /opt/ml/input/data/validation?format=csv&label_column=0&delimiter=,\u001b[0m\n",
      "\u001b[34mINFO:root:Single node training.\u001b[0m\n",
      "\u001b[34mINFO:root:Train matrix has 36804 rows\u001b[0m\n",
      "\u001b[34mINFO:root:Validation matrix has 36804 rows\u001b[0m\n",
      "\u001b[34m[22:25:53] WARNING: /workspace/src/learner.cc:328: \u001b[0m\n",
      "\u001b[34mParameters: { num_round } might not be used.\n",
      "  This may not be accurate due to some parameters are only used in language bindings but\n",
      "  passed down to XGBoost core.  Or some parameters are not used but slip through this\n",
      "  verification. Please open an issue if you find above cases.\u001b[0m\n",
      "\u001b[34m[0]#011train-rmse:0.49524#011validation-rmse:0.49524\u001b[0m\n",
      "\u001b[34m[1]#011train-rmse:0.49225#011validation-rmse:0.49225\u001b[0m\n",
      "\u001b[34m[2]#011train-rmse:0.49009#011validation-rmse:0.49009\u001b[0m\n",
      "\u001b[34m[3]#011train-rmse:0.48877#011validation-rmse:0.48877\u001b[0m\n",
      "\u001b[34m[4]#011train-rmse:0.48781#011validation-rmse:0.48781\u001b[0m\n",
      "\u001b[34m[5]#011train-rmse:0.48720#011validation-rmse:0.48720\u001b[0m\n",
      "\u001b[34m[6]#011train-rmse:0.48684#011validation-rmse:0.48684\u001b[0m\n",
      "\u001b[34m[7]#011train-rmse:0.48663#011validation-rmse:0.48663\u001b[0m\n",
      "\u001b[34m[8]#011train-rmse:0.48651#011validation-rmse:0.48651\u001b[0m\n",
      "\u001b[34m[9]#011train-rmse:0.48644#011validation-rmse:0.48644\u001b[0m\n",
      "\u001b[34m[10]#011train-rmse:0.48639#011validation-rmse:0.48639\u001b[0m\n",
      "\u001b[34m[11]#011train-rmse:0.48633#011validation-rmse:0.48633\u001b[0m\n",
      "\u001b[34m[12]#011train-rmse:0.48634#011validation-rmse:0.48634\u001b[0m\n",
      "\u001b[34m[13]#011train-rmse:0.48633#011validation-rmse:0.48633\u001b[0m\n",
      "\u001b[34m[14]#011train-rmse:0.48633#011validation-rmse:0.48633\u001b[0m\n",
      "\u001b[34m[15]#011train-rmse:0.48634#011validation-rmse:0.48634\u001b[0m\n",
      "\u001b[34m[16]#011train-rmse:0.48628#011validation-rmse:0.48628\u001b[0m\n",
      "\u001b[34m[17]#011train-rmse:0.48611#011validation-rmse:0.48611\u001b[0m\n",
      "\u001b[34m[18]#011train-rmse:0.48610#011validation-rmse:0.48610\u001b[0m\n",
      "\u001b[34m[19]#011train-rmse:0.48599#011validation-rmse:0.48599\u001b[0m\n",
      "\u001b[34m[20]#011train-rmse:0.48599#011validation-rmse:0.48599\u001b[0m\n",
      "\u001b[34m[21]#011train-rmse:0.48574#011validation-rmse:0.48574\u001b[0m\n",
      "\u001b[34m[22]#011train-rmse:0.48574#011validation-rmse:0.48574\u001b[0m\n",
      "\u001b[34m[23]#011train-rmse:0.48574#011validation-rmse:0.48574\u001b[0m\n",
      "\u001b[34m[24]#011train-rmse:0.48574#011validation-rmse:0.48574\u001b[0m\n",
      "\u001b[34m[25]#011train-rmse:0.48574#011validation-rmse:0.48574\u001b[0m\n",
      "\u001b[34m[26]#011train-rmse:0.48576#011validation-rmse:0.48576\u001b[0m\n",
      "\u001b[34m[27]#011train-rmse:0.48563#011validation-rmse:0.48563\u001b[0m\n",
      "\u001b[34m[28]#011train-rmse:0.48564#011validation-rmse:0.48564\u001b[0m\n",
      "\u001b[34m[29]#011train-rmse:0.48563#011validation-rmse:0.48563\u001b[0m\n",
      "\u001b[34m[30]#011train-rmse:0.48563#011validation-rmse:0.48563\u001b[0m\n",
      "\u001b[34m[31]#011train-rmse:0.48554#011validation-rmse:0.48554\u001b[0m\n",
      "\u001b[34m[32]#011train-rmse:0.48553#011validation-rmse:0.48553\u001b[0m\n",
      "\u001b[34m[33]#011train-rmse:0.48554#011validation-rmse:0.48554\u001b[0m\n",
      "\u001b[34m[34]#011train-rmse:0.48554#011validation-rmse:0.48554\u001b[0m\n",
      "\u001b[34m[35]#011train-rmse:0.48554#011validation-rmse:0.48554\u001b[0m\n",
      "\u001b[34m[36]#011train-rmse:0.48555#011validation-rmse:0.48555\u001b[0m\n",
      "\u001b[34m[37]#011train-rmse:0.48554#011validation-rmse:0.48554\u001b[0m\n",
      "\u001b[34m[38]#011train-rmse:0.48554#011validation-rmse:0.48554\u001b[0m\n",
      "\u001b[34m[39]#011train-rmse:0.48550#011validation-rmse:0.48550\u001b[0m\n",
      "\u001b[34m[40]#011train-rmse:0.48549#011validation-rmse:0.48549\u001b[0m\n",
      "\u001b[34m[41]#011train-rmse:0.48549#011validation-rmse:0.48549\u001b[0m\n",
      "\u001b[34m[42]#011train-rmse:0.48550#011validation-rmse:0.48550\u001b[0m\n",
      "\u001b[34m[43]#011train-rmse:0.48550#011validation-rmse:0.48550\u001b[0m\n",
      "\u001b[34m[44]#011train-rmse:0.48550#011validation-rmse:0.48550\u001b[0m\n",
      "\u001b[34m[45]#011train-rmse:0.48549#011validation-rmse:0.48549\u001b[0m\n",
      "\u001b[34m[46]#011train-rmse:0.48549#011validation-rmse:0.48549\u001b[0m\n",
      "\u001b[34m[47]#011train-rmse:0.48549#011validation-rmse:0.48549\u001b[0m\n",
      "\u001b[34m[48]#011train-rmse:0.48549#011validation-rmse:0.48549\u001b[0m\n",
      "\u001b[34m[49]#011train-rmse:0.48539#011validation-rmse:0.48539\u001b[0m\n",
      "\n",
      "2022-04-03 22:26:15 Uploading - Uploading generated training model\n",
      "2022-04-03 22:26:15 Completed - Training job completed\n",
      "Training seconds: 143\n",
      "Billable seconds: 143\n"
     ]
    }
   ],
   "source": [
    "#import sagemaker\n",
    "#import boto3\n",
    "from sagemaker.amazon.amazon_estimator import get_image_uri\n",
    "from sagemaker.session import s3_input, Session\n",
    "            \n",
    "# initialize hyperparameters\n",
    "hyperparameters = {\n",
    "        \"max_depth\":\"5\",\n",
    "        \"eta\":\"0.2\",\n",
    "        \"gamma\":\"4\",\n",
    "        \"min_child_weight\":\"6\",\n",
    "        \"subsample\":\"0.7\",\n",
    "        \"objective\":\"reg:squarederror\",\n",
    "        \"num_round\":\"50\"}\n",
    "\n",
    "# set an output path where the trained model will be saved\n",
    "prefix = 'eng_model'\n",
    "output_path = 's3://{}/{}/{}/output'.format(gcgs_bucket, prefix, 'generics-xgb-built-in-algo')\n",
    "\n",
    "# this line automatically looks for the XGBoost image URI and builds an XGBoost container.\n",
    "# specify the repo_version depending on your preference.\n",
    "xgboost_container = get_image_uri(boto3.Session().region_name,\n",
    "                          'xgboost', \n",
    "                          repo_version='1.0-1')\n",
    "\n",
    "# construct a SageMaker estimator that calls the xgboost-container\n",
    "estimator = sagemaker.estimator.Estimator(image_uri=xgboost_container, \n",
    "                                          hyperparameters=hyperparameters,\n",
    "                                          role=sagemaker.get_execution_role(),\n",
    "                                          train_instance_count=1, \n",
    "                                          train_instance_type='ml.m5.large', \n",
    "                                          train_volume_size=5, # 5 GB \n",
    "                                          output_path=output_path)\n",
    "\n",
    "# define the data type and paths to the training and validation datasets\n",
    "train_input = s3_input(\"s3://{}/{}/{}\".format(gcgs_bucket, prefix, 'ml_train.csv'), content_type='csv')\n",
    "validation_input = s3_input(\"s3://{}/{}/{}\".format(gcgs_bucket, prefix, 'ml_validation.csv'), content_type='csv')\n",
    "\n",
    "# execute the XGBoost training job\n",
    "estimator.fit({'train': train_input, 'validation': validation_input})"
   ]
  },
  {
   "cell_type": "markdown",
   "metadata": {},
   "source": [
    "## Run the XGBoost algorithm"
   ]
  },
  {
   "cell_type": "code",
   "execution_count": 43,
   "metadata": {},
   "outputs": [],
   "source": [
    "# code copied from:  https://docs.aws.amazon.com/sagemaker/latest/dg/xgboost.html"
   ]
  },
  {
   "cell_type": "raw",
   "metadata": {},
   "source": [
    "import sagemaker\n",
    "import boto3\n",
    "from sagemaker.amazon.amazon_estimator import get_image_uri\n",
    "from sagemaker.session import s3_input, Session\n",
    "            \n",
    "# initialize hyperparameters\n",
    "hyperparameters = {\n",
    "        \"max_depth\":\"5\",\n",
    "        \"eta\":\"0.2\",\n",
    "        \"gamma\":\"4\",\n",
    "        \"min_child_weight\":\"6\",\n",
    "        \"subsample\":\"0.7\",\n",
    "        \"objective\":\"reg:squarederror\",\n",
    "        \"num_round\":\"50\"}\n",
    "\n",
    "# set an output path where the trained model will be saved\n",
    "gcgs_bucket = sagemaker.Session().default_bucket()\n",
    "prefix = 'eng_model'\n",
    "output_path = 's3://{}/{}/{}/output'.format(gcgs_bucket, prefix, 'generics-xgb-built-in-algo')\n",
    "\n",
    "# this line automatically looks for the XGBoost image URI and builds an XGBoost container.\n",
    "# specify the repo_version depending on your preference.\n",
    "xgboost_container = get_image_uri(boto3.Session().region_name,\n",
    "                          'xgboost', \n",
    "                          repo_version='1.0-1')\n",
    "\n",
    "# construct a SageMaker estimator that calls the xgboost-container\n",
    "estimator = sagemaker.estimator.Estimator(image_uri=xgboost_container, \n",
    "                                          hyperparameters=hyperparameters,\n",
    "                                          role=sagemaker.get_execution_role(),\n",
    "                                          train_instance_count=1, \n",
    "                                          train_instance_type='ml.m5.2xlarge', \n",
    "                                          train_volume_size=5, # 5 GB \n",
    "                                          output_path=output_path)\n",
    "\n",
    "# define the data type and paths to the training and validation datasets\n",
    "content_type = \"csv\"\n",
    "train_input = s3_input(\"s3://{}/{}/{}/\".format(gcgs_bucket, prefix, 'ml_train'), content_type=content_type)\n",
    "validation_input = s3_input(\"s3://{}/{}/{}/\".format(gcgs_bucket, prefix, 'ml_validation'), content_type=content_type)\n",
    "\n",
    "# execute the XGBoost training job\n",
    "estimator.fit({'ml_train': train_input, 'ml_validation': validation_input})"
   ]
  },
  {
   "cell_type": "code",
   "execution_count": null,
   "metadata": {},
   "outputs": [],
   "source": []
  }
 ],
 "metadata": {
  "instance_type": "ml.t3.medium",
  "kernelspec": {
   "display_name": "Python 3 (Data Science)",
   "language": "python",
   "name": "python3__SAGEMAKER_INTERNAL__arn:aws:sagemaker:us-east-1:081325390199:image/datascience-1.0"
  },
  "language_info": {
   "codemirror_mode": {
    "name": "ipython",
    "version": 3
   },
   "file_extension": ".py",
   "mimetype": "text/x-python",
   "name": "python",
   "nbconvert_exporter": "python",
   "pygments_lexer": "ipython3",
   "version": "3.7.10"
  }
 },
 "nbformat": 4,
 "nbformat_minor": 4
}
